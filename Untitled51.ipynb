{
  "nbformat": 4,
  "nbformat_minor": 0,
  "metadata": {
    "colab": {
      "provenance": [],
      "authorship_tag": "ABX9TyMWGisZ9y1z+f5sZxuZ3VLP",
      "include_colab_link": true
    },
    "kernelspec": {
      "name": "python3",
      "display_name": "Python 3"
    },
    "language_info": {
      "name": "python"
    }
  },
  "cells": [
    {
      "cell_type": "markdown",
      "metadata": {
        "id": "view-in-github",
        "colab_type": "text"
      },
      "source": [
        "<a href=\"https://colab.research.google.com/github/shubham62025865/project/blob/main/Untitled51.ipynb\" target=\"_parent\"><img src=\"https://colab.research.google.com/assets/colab-badge.svg\" alt=\"Open In Colab\"/></a>"
      ]
    },
    {
      "cell_type": "code",
      "execution_count": null,
      "metadata": {
        "id": "9C81CrToHtIa"
      },
      "outputs": [],
      "source": [
        "question no 1-B"
      ]
    },
    {
      "cell_type": "code",
      "source": [
        "question no 2-"
      ],
      "metadata": {
        "id": "03ckFQ82J10R"
      },
      "execution_count": null,
      "outputs": []
    },
    {
      "cell_type": "code",
      "source": [
        "question no 3-A"
      ],
      "metadata": {
        "id": "DOiiQjIkJ44G"
      },
      "execution_count": null,
      "outputs": []
    },
    {
      "cell_type": "code",
      "source": [
        "question no 4-C"
      ],
      "metadata": {
        "id": "PI9-yKO1J8Dr"
      },
      "execution_count": null,
      "outputs": []
    },
    {
      "cell_type": "code",
      "source": [
        "question no 5-B"
      ],
      "metadata": {
        "id": "xPd3bIQ3KxlT"
      },
      "execution_count": null,
      "outputs": []
    },
    {
      "cell_type": "code",
      "source": [
        "question no 6-C"
      ],
      "metadata": {
        "id": "c2Jubn4cLbHc"
      },
      "execution_count": null,
      "outputs": []
    },
    {
      "cell_type": "code",
      "source": [
        "# problem 1\n",
        "\n",
        "import numpy as np\n",
        "import pandas as pd\n",
        "from sklearn.model_selection import train_test_split\n",
        "from sklearn.linear_model import LogisticRegression\n",
        "from sklearn.metrics import accuracy_score, classification_report, confusion_matrix\n",
        "\n",
        "\n",
        "data = {\n",
        "    'Age': [25, 30, 35, 22, 28, 45, 40, 60, 55, 48],\n",
        "    'Income': [40000, 60000, 80000, 20000, 30000, 75000, 90000, 110000, 100000, 85000],\n",
        "    'Buy_Product': [0, 1, 1, 0, 0, 1, 1, 1, 1, 0]  # 1 for yes, 0 for no\n",
        "}\n",
        "\n",
        "df = pd.DataFrame(data)\n",
        "\n",
        "\n",
        "X = df[['Age', 'Income']]\n",
        "y = df['Buy_Product']\n",
        "\n",
        "X_train, X_test, y_train, y_test = train_test_split(X, y, test_size=0.2, random_state=42)\n",
        "\n",
        "\n",
        "model = LogisticRegression()\n",
        "model.fit(X_train, y_train)\n",
        "\n",
        "\n",
        "y_pred = model.predict(X_test)\n",
        "\n",
        "\n",
        "accuracy = accuracy_score(y_test, y_pred)\n",
        "conf_matrix = confusion_matrix(y_test, y_pred)\n",
        "classification_rep = classification_report(y_test, y_pred)\n",
        "\n",
        "print(f'Accuracy: {accuracy}')\n",
        "print(f'Confusion Matrix:\\n{conf_matrix}')\n",
        "print(f'Classification Report:\\n{classification_rep}')"
      ],
      "metadata": {
        "colab": {
          "base_uri": "https://localhost:8080/"
        },
        "id": "Vtbqq14BMGqN",
        "outputId": "9c2070c1-8152-4353-95c5-b56145d3bc69"
      },
      "execution_count": 1,
      "outputs": [
        {
          "output_type": "stream",
          "name": "stdout",
          "text": [
            "Accuracy: 1.0\n",
            "Confusion Matrix:\n",
            "[[2]]\n",
            "Classification Report:\n",
            "              precision    recall  f1-score   support\n",
            "\n",
            "           1       1.00      1.00      1.00         2\n",
            "\n",
            "    accuracy                           1.00         2\n",
            "   macro avg       1.00      1.00      1.00         2\n",
            "weighted avg       1.00      1.00      1.00         2\n",
            "\n"
          ]
        }
      ]
    },
    {
      "cell_type": "code",
      "source": [
        "# problem 2\n",
        "\n",
        "import pandas as pd\n",
        "from sklearn.model_selection import train_test_split\n",
        "from sklearn.tree import DecisionTreeClassifier\n",
        "from sklearn.metrics import accuracy_score, classification_report\n",
        "\n",
        "\n",
        "data = pd.DataFrame({\n",
        "    'Weight (grams)': [120, 150, 130, 140, 180, 200, 160, 190, 170, 110],\n",
        "    'Color (1-Red, 2-Yellow, 3-Orange)': [1, 2, 1, 2, 3, 2, 3, 1, 2, 3],\n",
        "    'Fruit': ['Apple', 'Banana', 'Apple', 'Banana', 'Orange', 'Banana', 'Orange', 'Apple', 'Banana', 'Apple']\n",
        "})\n",
        "\n",
        "\n",
        "X = data[['Weight (grams)', 'Color (1-Red, 2-Yellow, 3-Orange)']]\n",
        "y = data['Fruit']\n",
        "X_train, X_test, y_train, y_test = train_test_split(X, y, test_size=0.2, random_state=42)\n",
        "\n",
        "\n",
        "model = DecisionTreeClassifier()\n",
        "\n",
        "\n",
        "model.fit(X_train, y_train)\n",
        "\n",
        "\n",
        "y_pred = model.predict(X_test)\n",
        "\n",
        "\n",
        "accuracy = accuracy_score(y_test, y_pred)\n",
        "\n",
        "# Provide a classification report\n",
        "classification_rep = classification_report(y_test, y_pred)\n",
        "\n",
        "print(f\"Accuracy: {accuracy}\")\n",
        "print(\"Classification Report:\\n\", classification_rep)"
      ],
      "metadata": {
        "colab": {
          "base_uri": "https://localhost:8080/"
        },
        "id": "UXV72RzzPsw_",
        "outputId": "3a70e788-0bed-4fe9-cc67-dfd80765f106"
      },
      "execution_count": 4,
      "outputs": [
        {
          "output_type": "stream",
          "name": "stdout",
          "text": [
            "Accuracy: 1.0\n",
            "Classification Report:\n",
            "               precision    recall  f1-score   support\n",
            "\n",
            "      Banana       1.00      1.00      1.00         2\n",
            "\n",
            "    accuracy                           1.00         2\n",
            "   macro avg       1.00      1.00      1.00         2\n",
            "weighted avg       1.00      1.00      1.00         2\n",
            "\n"
          ]
        }
      ]
    },
    {
      "cell_type": "code",
      "source": [
        "# problem 3\n",
        "\n",
        "import pandas as pd\n",
        "import matplotlib.pyplot as plt\n",
        "from sklearn.cluster import KMeans\n",
        "\n",
        "# Create a dummy customer dataset\n",
        "data = pd.DataFrame({\n",
        "    'Age': [22, 24, 30, 20, 25, 28, 35, 40, 50, 60],\n",
        "    'Income (in $1000)': [20, 22, 25, 18, 35, 40, 60, 55, 80, 85]\n",
        "})\n",
        "\n",
        "\n",
        "kmeans = KMeans(n_clusters=3)\n",
        "kmeans.fit(data)\n",
        "\n",
        "\n",
        "labels = kmeans.labels_\n",
        "\n",
        "\n",
        "data['Cluster'] = labels\n",
        "\n",
        "\n",
        "plt.figure(figsize=(8, 6))\n",
        "plt.scatter(data['Age'], data['Income (in $1000)'], c=labels, cmap='viridis')\n",
        "plt.scatter(kmeans.cluster_centers_[:, 0], kmeans.cluster_centers_[:, 1], s=300, c='red', label='Centroids')\n",
        "plt.xlabel('Age')\n",
        "plt.ylabel('Income (in $1000)')\n",
        "plt.title('K-Means Clustering')\n",
        "plt.legend()\n",
        "plt.show()"
      ],
      "metadata": {
        "colab": {
          "base_uri": "https://localhost:8080/",
          "height": 620
        },
        "id": "70_KfjJrQN0f",
        "outputId": "7de5e262-32f0-4941-d127-5636e0efe64e"
      },
      "execution_count": 5,
      "outputs": [
        {
          "output_type": "stream",
          "name": "stderr",
          "text": [
            "/usr/local/lib/python3.10/dist-packages/sklearn/cluster/_kmeans.py:870: FutureWarning: The default value of `n_init` will change from 10 to 'auto' in 1.4. Set the value of `n_init` explicitly to suppress the warning\n",
            "  warnings.warn(\n"
          ]
        },
        {
          "output_type": "display_data",
          "data": {
            "text/plain": [
              "<Figure size 800x600 with 1 Axes>"
            ],
            "image/png": "[encoded data removed]"
          },
          "metadata": {}
        }
      ]
    },
    {
      "cell_type": "code",
      "source": [
        "# problem no 8\n",
        "import pandas as pd\n",
        "from sklearn.decomposition import PCA\n",
        "\n",
        "# Create a dummy dataset of features\n",
        "data = pd.DataFrame({\n",
        "    'Feature1': [1.0, 2.0, 3.0, 4.0, 5.0],\n",
        "    'Feature2': [5.0, 4.0, 3.0, 2.0, 1.0],\n",
        "    'Feature3': [0.5, 1.5, 2.5, 3.5, 4.5]\n",
        "})\n",
        "\n",
        "\n",
        "pca = PCA(n_components=3)\n",
        "\n",
        "\n",
        "data_pca = pca.fit_transform(data)\n",
        "\n",
        "\n",
        "print(\"Principal Components:\")\n",
        "print(pca.components_)\n",
        "\n",
        "\n",
        "print(\"\\nExplained Variance:\")\n",
        "print(pca.explained_variance_ratio_)"
      ],
      "metadata": {
        "colab": {
          "base_uri": "https://localhost:8080/"
        },
        "id": "zW3fg51qR7F3",
        "outputId": "6012a6fb-2376-421f-b367-50b2abfc2320"
      },
      "execution_count": 7,
      "outputs": [
        {
          "output_type": "stream",
          "name": "stdout",
          "text": [
            "Principal Components:\n",
            "[[-0.57735027  0.57735027 -0.57735027]\n",
            " [-0.81649658 -0.40824829  0.40824829]\n",
            " [-0.         -0.70710678 -0.70710678]]\n",
            "\n",
            "Explained Variance:\n",
            "[1.00000000e+00 6.57384088e-33 2.02572112e-64]\n"
          ]
        }
      ]
    },
    {
      "cell_type": "code",
      "source": [
        "# problem 4\n",
        "\n",
        "import pandas as pd\n",
        "from sklearn.model_selection import train_test_split\n",
        "from sklearn.linear_model import LinearRegression\n",
        "from sklearn.metrics import mean_squared_error, r2_score\n",
        "\n",
        "\n",
        "data = {\n",
        "    'Bedrooms': [2, 3, 4, 2, 3, 4, 3, 4, 2, 3],\n",
        "    'SquareFootage': [1200, 1500, 1800, 1100, 1600, 2000, 1400, 1900, 1000, 1300],\n",
        "    'Price': [150000, 200000, 250000, 140000, 220000, 280000, 190000, 260000, 130000, 180000]\n",
        "}\n",
        "\n",
        "df = pd.DataFrame(data)\n",
        "\n",
        "\n",
        "X = df[['Bedrooms', 'SquareFootage']]\n",
        "y = df['Price']\n",
        "\n",
        "X_train, X_test, y_train, y_test = train_test_split(X, y, test_size=0.2, random_state=42)\n",
        "\n",
        "\n",
        "model = LinearRegression()\n",
        "model.fit(X_train, y_train)\n",
        "\n",
        "\n",
        "y_pred = model.predict(X_test)\n",
        "\n",
        "\n",
        "mse = mean_squared_error(y_test, y_pred)\n",
        "r2 = r2_score(y_test, y_pred)\n",
        "\n",
        "print(f'Mean Squared Error: {mse}')\n",
        "print(f'R-squared (R2) Score: {r2}')"
      ],
      "metadata": {
        "colab": {
          "base_uri": "https://localhost:8080/"
        },
        "id": "V5U77y0eUY_5",
        "outputId": "7fd687e8-69c5-4df3-8184-103340f6009b"
      },
      "execution_count": 8,
      "outputs": [
        {
          "output_type": "stream",
          "name": "stdout",
          "text": [
            "Mean Squared Error: 5717993.079584863\n",
            "R-squared (R2) Score: 0.9953322505472777\n"
          ]
        }
      ]
    },
    {
      "cell_type": "markdown",
      "source": [
        "# NUmpy and **pandas**"
      ],
      "metadata": {
        "id": "csHScsvfSkuD"
      }
    },
    {
      "cell_type": "code",
      "source": [
        "Question no 1-A"
      ],
      "metadata": {
        "id": "4CYRuByESqDd"
      },
      "execution_count": null,
      "outputs": []
    },
    {
      "cell_type": "code",
      "source": [
        "question no 2-B"
      ],
      "metadata": {
        "id": "Tgp3-8QVS-2I"
      },
      "execution_count": null,
      "outputs": []
    },
    {
      "cell_type": "code",
      "source": [
        "question no 3-A"
      ],
      "metadata": {
        "id": "Wd-OyuNjTCN0"
      },
      "execution_count": null,
      "outputs": []
    },
    {
      "cell_type": "code",
      "source": [
        "question  no 4-B"
      ],
      "metadata": {
        "id": "hB-N2FJ2T24d"
      },
      "execution_count": null,
      "outputs": []
    },
    {
      "cell_type": "code",
      "source": [
        "question no 5-A"
      ],
      "metadata": {
        "id": "QvVs-yMYU7zU"
      },
      "execution_count": null,
      "outputs": []
    },
    {
      "cell_type": "code",
      "source": [
        "question no 6-B"
      ],
      "metadata": {
        "id": "Qw59sPUoWY6Q"
      },
      "execution_count": null,
      "outputs": []
    },
    {
      "cell_type": "code",
      "source": [
        "question no 7-A"
      ],
      "metadata": {
        "id": "JpAX6fiQWc_Z"
      },
      "execution_count": null,
      "outputs": []
    },
    {
      "cell_type": "code",
      "source": [
        "question no 8-A"
      ],
      "metadata": {
        "id": "sMjSd_MKWfGk"
      },
      "execution_count": null,
      "outputs": []
    },
    {
      "cell_type": "code",
      "source": [
        "question no 9- c"
      ],
      "metadata": {
        "id": "_DudzBSkZLsQ"
      },
      "execution_count": null,
      "outputs": []
    },
    {
      "cell_type": "code",
      "source": [
        "question no 10-B"
      ],
      "metadata": {
        "id": "fD8wfxawZWHH"
      },
      "execution_count": null,
      "outputs": []
    },
    {
      "cell_type": "code",
      "source": [
        "# problem 1\n",
        "\n",
        "import pandas as pd\n",
        "data = {'Name': ['Alice', 'Bob', 'Charlie'], 'Age': [25, 30, 22]}\n",
        "df = pd.DataFrame(data)\n",
        "\n",
        "\n",
        "print(df)\n",
        "\n",
        "\n",
        "\n",
        "alice_age = df[df['Name'] == 'Alice']['Age'].values[0]\n",
        "print(\"Alice's Age:\", alice_age)\n",
        "\n",
        "\n",
        "average_age = df['Age'].mean()\n",
        "print(\"Average Age:\", average_age)"
      ],
      "metadata": {
        "colab": {
          "base_uri": "https://localhost:8080/"
        },
        "id": "I25K2rWIZnqB",
        "outputId": "64e48159-ba40-47b7-e662-65a36726788d"
      },
      "execution_count": 9,
      "outputs": [
        {
          "output_type": "stream",
          "name": "stdout",
          "text": [
            "      Name  Age\n",
            "0    Alice   25\n",
            "1      Bob   30\n",
            "2  Charlie   22\n",
            "Alice's Age: 25\n",
            "Average Age: 25.666666666666668\n"
          ]
        }
      ]
    },
    {
      "cell_type": "code",
      "source": [
        "#problem 2\n",
        "\n",
        "import pandas as pd\n",
        "data = {'Name': ['Alice', 'Bob', 'Charlie'], 'Age': [25, 30, 22]}\n",
        "df = pd.DataFrame(data)\n",
        "\n",
        "\n",
        "print(df)\n",
        "alice_age = df[df['Name'] == 'Alice']['Age'].values[0]\n",
        "print(\"Alice's Age:\", alice_age)\n",
        "average_age = df['Age'].mean()\n",
        "print(\"Average Age:\", average_age)"
      ],
      "metadata": {
        "colab": {
          "base_uri": "https://localhost:8080/"
        },
        "id": "BvP02zHxaph1",
        "outputId": "cb24c851-44b3-4408-c884-28438d9f93d4"
      },
      "execution_count": 10,
      "outputs": [
        {
          "output_type": "stream",
          "name": "stdout",
          "text": [
            "      Name  Age\n",
            "0    Alice   25\n",
            "1      Bob   30\n",
            "2  Charlie   22\n",
            "Alice's Age: 25\n",
            "Average Age: 25.666666666666668\n"
          ]
        }
      ]
    },
    {
      "cell_type": "code",
      "source": [
        "# problem 3\n",
        "\n",
        "import numpy as np\n",
        "arr = np.random.uniform(0, 1, 20)\n",
        "print(\"Array 'arr':\")\n",
        "print(arr)\n",
        "mean_value = np.mean(arr)\n",
        "print(\"Mean of 'arr':\", mean_value)\n",
        "\n",
        "\n",
        "count_greater_than_0_5 = np.sum(arr > 0.5)\n",
        "print(\"Count of values greater than 0.5 in 'arr':\", count_greater_than_0_5)"
      ],
      "metadata": {
        "colab": {
          "base_uri": "https://localhost:8080/"
        },
        "id": "Zad9yqYpbY4G",
        "outputId": "a7e3cd25-2ad7-4ba8-9783-298f62cd7c01"
      },
      "execution_count": 11,
      "outputs": [
        {
          "output_type": "stream",
          "name": "stdout",
          "text": [
            "Array 'arr':\n",
            "[0.4998     0.35036758 0.39271046 0.51196968 0.62920864 0.99380031\n",
            " 0.9472735  0.22694797 0.50238675 0.97004611 0.90202258 0.02291844\n",
            " 0.21037348 0.51151588 0.43596447 0.94071384 0.324104   0.08854478\n",
            " 0.05886901 0.62914819]\n",
            "Mean of 'arr': 0.5074342838214163\n",
            "Count of values greater than 0.5 in 'arr': 10\n"
          ]
        }
      ]
    },
    {
      "cell_type": "markdown",
      "source": [],
      "metadata": {
        "id": "TJ8r5UTASkcC"
      }
    },
    {
      "cell_type": "code",
      "source": [
        "# problem no 7\n",
        "\n",
        "import pandas as pd\n",
        "\n",
        "data = {'Country': [\"USA\", \"China\", \"Japan\"], 'GDP (in billions USD)': [21427, 14342, 5082]}\n",
        "df = pd.DataFrame(data)\n",
        "print(df)\n",
        "highest_gdp_country = df[df['GDP (in billions USD)'] == df['GDP (in billions USD)'].max()]['Country'].values[0]\n",
        "print(\"Country with the highest GDP:\", highest_gdp_country)\n",
        "total_gdp = df['GDP (in billions USD)'].sum()\n",
        "print(\"Total GDP of all countries:\", total_gdp)"
      ],
      "metadata": {
        "colab": {
          "base_uri": "https://localhost:8080/"
        },
        "id": "ML7EoOANSj2d",
        "outputId": "7d71806e-71bd-4e01-fac6-a9422f6b3389"
      },
      "execution_count": 12,
      "outputs": [
        {
          "output_type": "stream",
          "name": "stdout",
          "text": [
            "  Country  GDP (in billions USD)\n",
            "0     USA                  21427\n",
            "1   China                  14342\n",
            "2   Japan                   5082\n",
            "Country with the highest GDP: USA\n",
            "Total GDP of all countries: 40851\n"
          ]
        }
      ]
    },
    {
      "cell_type": "code",
      "source": [
        "# problem 10\n",
        "\n",
        "import pandas as pd\n",
        "\n",
        "data = {\"City\": [\"Denver\", \"Nairobi\", \"Kathmandu\"],\n",
        "        \"Elevation in rel\": [1609, 1795, 1400]}\n",
        "\n",
        "df = pd.DataFrame(data)\n",
        "\n",
        "\n",
        "print(df)\n",
        "lowest_elevation_city = df[df[\"Elevation in rel\"] == df[\"Elevation in rel\"].min()][\"City\"].values[0]\n",
        "\n",
        "print(\"City with the lowest elevation:\", lowest_elevation_city)"
      ],
      "metadata": {
        "colab": {
          "base_uri": "https://localhost:8080/"
        },
        "id": "SFstq0YggEQq",
        "outputId": "f0f2ae11-21b7-401b-bcf7-eb4276f46dec"
      },
      "execution_count": 13,
      "outputs": [
        {
          "output_type": "stream",
          "name": "stdout",
          "text": [
            "        City  Elevation in rel\n",
            "0     Denver              1609\n",
            "1    Nairobi              1795\n",
            "2  Kathmandu              1400\n",
            "City with the lowest elevation: Kathmandu\n"
          ]
        }
      ]
    }
  ]
}