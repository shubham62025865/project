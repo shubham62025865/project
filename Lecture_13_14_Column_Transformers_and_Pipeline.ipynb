{
  "nbformat": 4,
  "nbformat_minor": 0,
  "metadata": {
    "colab": {
      "provenance": [],
      "include_colab_link": true
    },
    "kernelspec": {
      "name": "python3",
      "display_name": "Python 3"
    },
    "language_info": {
      "name": "python"
    }
  },
  "cells": [
    {
      "cell_type": "markdown",
      "metadata": {
        "id": "view-in-github",
        "colab_type": "text"
      },
      "source": [
        "<a href=\"https://colab.research.google.com/github/shubham62025865/project/blob/main/Lecture_13_14_Column_Transformers_and_Pipeline.ipynb\" target=\"_parent\"><img src=\"https://colab.research.google.com/assets/colab-badge.svg\" alt=\"Open In Colab\"/></a>"
      ]
    },
    {
      "cell_type": "markdown",
      "source": [
        "# Column Transformers and Pipeline\n",
        "\n",
        "<img width = 800 src = https://images.livemint.com/rf/Image-621x414/LiveMint/Period1/2014/08/23/Photos/gaspipeline--621x414.jpg />"
      ],
      "metadata": {
        "id": "gsky0ViE4dKJ"
      }
    },
    {
      "cell_type": "code",
      "execution_count": null,
      "metadata": {
        "id": "R4yX4gcZ4GpD"
      },
      "outputs": [],
      "source": [
        "# importing libraries\n",
        "\n",
        "from sklearn.compose import ColumnTransformer\n",
        "from sklearn.impute import SimpleImputer\n",
        "from sklearn.preprocessing import OneHotEncoder\n",
        "from sklearn.pipeline import Pipeline\n",
        "import pandas as pd\n",
        "import numpy as np\n",
        "from sklearn.preprocessing import OrdinalEncoder\n",
        "from sklearn.preprocessing import MinMaxScaler, StandardScaler\n",
        "from sklearn.ensemble import RandomForestRegressor\n",
        "from sklearn.metrics import mean_absolute_error"
      ]
    },
    {
      "cell_type": "markdown",
      "source": [
        "## INTRODUCTION TO COLUMNTRANSFORMER\n",
        "\n",
        "ColumnTransformer enables us to apply transform to particular columns. It help us to fit multiple transformations to multiple columns with a single **fit() or fit_transform()** statement. For example, we can impute mean in column 1 and OneHotEncode column 2 with a single fit statement.\n",
        "\n",
        "\n",
        "'ColumnTransformer' can be imported from 'sklearn.compose' module"
      ],
      "metadata": {
        "id": "v7hOxIh-41Fv"
      }
    },
    {
      "cell_type": "code",
      "source": [
        "df = pd.DataFrame({\"col1\":[\"a\",\"b\",\"a\",\"c\"],\"col2\":[\"a\",\"b\",\"a\",\"c\"]})\n",
        "print(df)"
      ],
      "metadata": {
        "colab": {
          "base_uri": "https://localhost:8080/"
        },
        "id": "AIK2JuMx4qAD",
        "outputId": "dd215ffd-f094-4699-81f6-cce4b0d465a6"
      },
      "execution_count": null,
      "outputs": [
        {
          "output_type": "stream",
          "name": "stdout",
          "text": [
            "  col1 col2\n",
            "0    a    a\n",
            "1    b    b\n",
            "2    a    a\n",
            "3    c    c\n"
          ]
        }
      ]
    },
    {
      "cell_type": "markdown",
      "source": [
        "Conventionally, we create an instance of OneHotEncoder() and fit_transform it to the data frame as shown below"
      ],
      "metadata": {
        "id": "u9ZBAG5J5PXl"
      }
    },
    {
      "cell_type": "code",
      "source": [
        "ohe = OneHotEncoder()\n",
        "df = ohe.fit_transform(df)\n",
        "print(df.toarray())"
      ],
      "metadata": {
        "colab": {
          "base_uri": "https://localhost:8080/"
        },
        "id": "a05Lxufk5Jqs",
        "outputId": "8533707f-65d3-48f7-c580-d4be0a5bf7fe"
      },
      "execution_count": null,
      "outputs": [
        {
          "output_type": "stream",
          "name": "stdout",
          "text": [
            "[[1. 0. 0. 1. 0. 0.]\n",
            " [0. 1. 0. 0. 1. 0.]\n",
            " [1. 0. 0. 1. 0. 0.]\n",
            " [0. 0. 1. 0. 0. 1.]]\n"
          ]
        }
      ]
    },
    {
      "cell_type": "markdown",
      "source": [
        "The above step has onehotencoded both the columns of the data frame. This problem can be solved using ColumnTransformer as shown below."
      ],
      "metadata": {
        "id": "_p9ObfzF5bsX"
      }
    },
    {
      "cell_type": "code",
      "source": [
        "df"
      ],
      "metadata": {
        "colab": {
          "base_uri": "https://localhost:8080/"
        },
        "id": "cqsyTRyJCOav",
        "outputId": "b445f16d-5a05-4402-f05b-6824007ce84e"
      },
      "execution_count": null,
      "outputs": [
        {
          "output_type": "execute_result",
          "data": {
            "text/plain": [
              "<4x6 sparse matrix of type '<class 'numpy.float64'>'\n",
              "\twith 8 stored elements in Compressed Sparse Row format>"
            ]
          },
          "metadata": {},
          "execution_count": 4
        }
      ]
    },
    {
      "cell_type": "code",
      "source": [
        "df = pd.DataFrame({\"col1\":[\"a\",\"b\",\"a\",\"c\"],\"col2\":[\"a\",\"b\",\"a\",\"c\"]})\n",
        "print(df)"
      ],
      "metadata": {
        "colab": {
          "base_uri": "https://localhost:8080/"
        },
        "id": "xqf9b5_C5Udy",
        "outputId": "42aa43a4-41a0-43fc-e369-cb1efaed96c8"
      },
      "execution_count": null,
      "outputs": [
        {
          "output_type": "stream",
          "name": "stdout",
          "text": [
            "  col1 col2\n",
            "0    a    a\n",
            "1    b    b\n",
            "2    a    a\n",
            "3    c    c\n"
          ]
        }
      ]
    },
    {
      "cell_type": "code",
      "source": [
        "df.columns"
      ],
      "metadata": {
        "colab": {
          "base_uri": "https://localhost:8080/"
        },
        "id": "xFr5ZPx98CX8",
        "outputId": "8e283ce9-855c-460c-f6cf-22b777f9be6f"
      },
      "execution_count": null,
      "outputs": [
        {
          "output_type": "execute_result",
          "data": {
            "text/plain": [
              "Index(['col1', 'col2'], dtype='object')"
            ]
          },
          "metadata": {},
          "execution_count": 10
        }
      ]
    },
    {
      "cell_type": "code",
      "source": [
        "df.columns.get_loc(\"col2\")"
      ],
      "metadata": {
        "colab": {
          "base_uri": "https://localhost:8080/"
        },
        "id": "XLFm21gF8dZS",
        "outputId": "10fcdf41-1480-4169-cc41-6cfd233a04e4"
      },
      "execution_count": null,
      "outputs": [
        {
          "output_type": "execute_result",
          "data": {
            "text/plain": [
              "1"
            ]
          },
          "metadata": {},
          "execution_count": 11
        }
      ]
    },
    {
      "cell_type": "code",
      "source": [
        "ct = ColumnTransformer(transformers = [(\"ohe_col\", OneHotEncoder(),[0,1])])\n",
        "ct"
      ],
      "metadata": {
        "colab": {
          "base_uri": "https://localhost:8080/"
        },
        "id": "wUHEXx3oCemW",
        "outputId": "4a5549a3-f99f-4799-e024-7d13ab6367a7"
      },
      "execution_count": null,
      "outputs": [
        {
          "output_type": "execute_result",
          "data": {
            "text/plain": [
              "ColumnTransformer(transformers=[('ohe_col', OneHotEncoder(), [0, 1])])"
            ]
          },
          "metadata": {},
          "execution_count": 6
        }
      ]
    },
    {
      "cell_type": "code",
      "source": [
        "ct = ColumnTransformer(transformers = [('ohe_col',OneHotEncoder(),[0,1])])\n",
        "df = ct.fit_transform(df)\n",
        "df"
      ],
      "metadata": {
        "colab": {
          "base_uri": "https://localhost:8080/"
        },
        "id": "_eX20ENQ9pBA",
        "outputId": "3b29e585-69f4-44da-8337-f89702a92092"
      },
      "execution_count": null,
      "outputs": [
        {
          "output_type": "execute_result",
          "data": {
            "text/plain": [
              "array([[1., 0., 0., 1., 0., 0.],\n",
              "       [0., 1., 0., 0., 1., 0.],\n",
              "       [1., 0., 0., 1., 0., 0.],\n",
              "       [0., 0., 1., 0., 0., 1.]])"
            ]
          },
          "metadata": {},
          "execution_count": 7
        }
      ]
    },
    {
      "cell_type": "code",
      "source": [
        "df"
      ],
      "metadata": {
        "colab": {
          "base_uri": "https://localhost:8080/",
          "height": 175
        },
        "id": "6rpvspaaEGYT",
        "outputId": "62455327-3a8b-4676-bfc1-fa0b7ddd13a8"
      },
      "execution_count": null,
      "outputs": [
        {
          "output_type": "execute_result",
          "data": {
            "text/plain": [
              "  col1 col2\n",
              "0    a    a\n",
              "1    b    b\n",
              "2    a    a\n",
              "3    c    c"
            ],
            "text/html": [
              "\n",
              "  <div id=\"df-75f6872a-5b9f-4bf4-87b3-527a5651b14e\">\n",
              "    <div class=\"colab-df-container\">\n",
              "      <div>\n",
              "<style scoped>\n",
              "    .dataframe tbody tr th:only-of-type {\n",
              "        vertical-align: middle;\n",
              "    }\n",
              "\n",
              "    .dataframe tbody tr th {\n",
              "        vertical-align: top;\n",
              "    }\n",
              "\n",
              "    .dataframe thead th {\n",
              "        text-align: right;\n",
              "    }\n",
              "</style>\n",
              "<table border=\"1\" class=\"dataframe\">\n",
              "  <thead>\n",
              "    <tr style=\"text-align: right;\">\n",
              "      <th></th>\n",
              "      <th>col1</th>\n",
              "      <th>col2</th>\n",
              "    </tr>\n",
              "  </thead>\n",
              "  <tbody>\n",
              "    <tr>\n",
              "      <th>0</th>\n",
              "      <td>a</td>\n",
              "      <td>a</td>\n",
              "    </tr>\n",
              "    <tr>\n",
              "      <th>1</th>\n",
              "      <td>b</td>\n",
              "      <td>b</td>\n",
              "    </tr>\n",
              "    <tr>\n",
              "      <th>2</th>\n",
              "      <td>a</td>\n",
              "      <td>a</td>\n",
              "    </tr>\n",
              "    <tr>\n",
              "      <th>3</th>\n",
              "      <td>c</td>\n",
              "      <td>c</td>\n",
              "    </tr>\n",
              "  </tbody>\n",
              "</table>\n",
              "</div>\n",
              "      <button class=\"colab-df-convert\" onclick=\"convertToInteractive('df-75f6872a-5b9f-4bf4-87b3-527a5651b14e')\"\n",
              "              title=\"Convert this dataframe to an interactive table.\"\n",
              "              style=\"display:none;\">\n",
              "        \n",
              "  <svg xmlns=\"http://www.w3.org/2000/svg\" height=\"24px\"viewBox=\"0 0 24 24\"\n",
              "       width=\"24px\">\n",
              "    <path d=\"M0 0h24v24H0V0z\" fill=\"none\"/>\n",
              "    <path d=\"M18.56 5.44l.94 2.06.94-2.06 2.06-.94-2.06-.94-.94-2.06-.94 2.06-2.06.94zm-11 1L8.5 8.5l.94-2.06 2.06-.94-2.06-.94L8.5 2.5l-.94 2.06-2.06.94zm10 10l.94 2.06.94-2.06 2.06-.94-2.06-.94-.94-2.06-.94 2.06-2.06.94z\"/><path d=\"M17.41 7.96l-1.37-1.37c-.4-.4-.92-.59-1.43-.59-.52 0-1.04.2-1.43.59L10.3 9.45l-7.72 7.72c-.78.78-.78 2.05 0 2.83L4 21.41c.39.39.9.59 1.41.59.51 0 1.02-.2 1.41-.59l7.78-7.78 2.81-2.81c.8-.78.8-2.07 0-2.86zM5.41 20L4 18.59l7.72-7.72 1.47 1.35L5.41 20z\"/>\n",
              "  </svg>\n",
              "      </button>\n",
              "      \n",
              "  <style>\n",
              "    .colab-df-container {\n",
              "      display:flex;\n",
              "      flex-wrap:wrap;\n",
              "      gap: 12px;\n",
              "    }\n",
              "\n",
              "    .colab-df-convert {\n",
              "      background-color: #E8F0FE;\n",
              "      border: none;\n",
              "      border-radius: 50%;\n",
              "      cursor: pointer;\n",
              "      display: none;\n",
              "      fill: #1967D2;\n",
              "      height: 32px;\n",
              "      padding: 0 0 0 0;\n",
              "      width: 32px;\n",
              "    }\n",
              "\n",
              "    .colab-df-convert:hover {\n",
              "      background-color: #E2EBFA;\n",
              "      box-shadow: 0px 1px 2px rgba(60, 64, 67, 0.3), 0px 1px 3px 1px rgba(60, 64, 67, 0.15);\n",
              "      fill: #174EA6;\n",
              "    }\n",
              "\n",
              "    [theme=dark] .colab-df-convert {\n",
              "      background-color: #3B4455;\n",
              "      fill: #D2E3FC;\n",
              "    }\n",
              "\n",
              "    [theme=dark] .colab-df-convert:hover {\n",
              "      background-color: #434B5C;\n",
              "      box-shadow: 0px 1px 3px 1px rgba(0, 0, 0, 0.15);\n",
              "      filter: drop-shadow(0px 1px 2px rgba(0, 0, 0, 0.3));\n",
              "      fill: #FFFFFF;\n",
              "    }\n",
              "  </style>\n",
              "\n",
              "      <script>\n",
              "        const buttonEl =\n",
              "          document.querySelector('#df-75f6872a-5b9f-4bf4-87b3-527a5651b14e button.colab-df-convert');\n",
              "        buttonEl.style.display =\n",
              "          google.colab.kernel.accessAllowed ? 'block' : 'none';\n",
              "\n",
              "        async function convertToInteractive(key) {\n",
              "          const element = document.querySelector('#df-75f6872a-5b9f-4bf4-87b3-527a5651b14e');\n",
              "          const dataTable =\n",
              "            await google.colab.kernel.invokeFunction('convertToInteractive',\n",
              "                                                     [key], {});\n",
              "          if (!dataTable) return;\n",
              "\n",
              "          const docLinkHtml = 'Like what you see? Visit the ' +\n",
              "            '<a target=\"_blank\" href=https://colab.research.google.com/notebooks/data_table.ipynb>data table notebook</a>'\n",
              "            + ' to learn more about interactive tables.';\n",
              "          element.innerHTML = '';\n",
              "          dataTable['output_type'] = 'display_data';\n",
              "          await google.colab.output.renderOutput(dataTable, element);\n",
              "          const docLink = document.createElement('div');\n",
              "          docLink.innerHTML = docLinkHtml;\n",
              "          element.appendChild(docLink);\n",
              "        }\n",
              "      </script>\n",
              "    </div>\n",
              "  </div>\n",
              "  "
            ]
          },
          "metadata": {},
          "execution_count": 9
        }
      ]
    },
    {
      "cell_type": "code",
      "source": [
        "transformer = ColumnTransformer(transformers = [(\"ord_enc\", OrdinalEncoder(), [0]),\n",
        "                                                (\"ohe\", OneHotEncoder(), [1])])\n",
        "\n",
        "transformer.fit_transform(df)"
      ],
      "metadata": {
        "colab": {
          "base_uri": "https://localhost:8080/"
        },
        "id": "eevNOu3lJGf1",
        "outputId": "7af6b8d0-dba8-4cbf-eeec-1a01da19dd09"
      },
      "execution_count": null,
      "outputs": [
        {
          "output_type": "execute_result",
          "data": {
            "text/plain": [
              "array([[0., 1., 0., 0.],\n",
              "       [1., 0., 1., 0.],\n",
              "       [0., 1., 0., 0.],\n",
              "       [2., 0., 0., 1.]])"
            ]
          },
          "metadata": {},
          "execution_count": 5
        }
      ]
    },
    {
      "cell_type": "code",
      "source": [
        "ct = ColumnTransformer(transformers = [('ohe_col1',OneHotEncoder(),[0]),\n",
        "                                     ('ord_col2',OrdinalEncoder(),[1])])\n",
        "df = ct.fit_transform(df)\n",
        "print(df)"
      ],
      "metadata": {
        "colab": {
          "base_uri": "https://localhost:8080/"
        },
        "id": "sH87fcY373Oi",
        "outputId": "30b2f3e3-06af-464e-c856-2afc1810cd2f"
      },
      "execution_count": null,
      "outputs": [
        {
          "output_type": "stream",
          "name": "stdout",
          "text": [
            "[[1. 0. 0. 0.]\n",
            " [0. 1. 0. 1.]\n",
            " [1. 0. 0. 0.]\n",
            " [0. 0. 1. 2.]]\n"
          ]
        }
      ]
    },
    {
      "cell_type": "markdown",
      "source": [
        "As seen above we could perform multiple transformations on multiple columns with a single fit_transform() statement. This operation would be so complex without the use of ColumnTransformer.\n",
        "\n",
        "In the above example, what we did is we created an instance of ColumnTransformer and passed an argument 'transformers' which basically is a list/tuple of transformations we want to perform.\n",
        "\n",
        "Each transformation has 3 parts\n",
        "\n",
        "- Name of the transform, it can be any unique name.\n",
        "- Transform itself\n",
        "- A list of columns to which you want to apply the transform. It should be a list even if you have to apply it to a single column"
      ],
      "metadata": {
        "id": "7bfw0xNq9WQP"
      }
    },
    {
      "cell_type": "markdown",
      "source": [
        "Consider the dataframe below where we wish to onehotencode 'col1' and retain the 'col2' as it is."
      ],
      "metadata": {
        "id": "XlNlblrD-GsZ"
      }
    },
    {
      "cell_type": "code",
      "source": [
        "df = pd.DataFrame({\"col1\":[\"a\",\"b\",\"a\",\"c\"],\"col2\":[\"a\",\"b\",\"a\",\"c\"]})\n",
        "print(df)"
      ],
      "metadata": {
        "colab": {
          "base_uri": "https://localhost:8080/"
        },
        "id": "Jstv5qDn9JRl",
        "outputId": "b2f18f5c-8dcf-4a69-e37e-4839f22610d9"
      },
      "execution_count": null,
      "outputs": [
        {
          "output_type": "stream",
          "name": "stdout",
          "text": [
            "  col1 col2\n",
            "0    a    a\n",
            "1    b    b\n",
            "2    a    a\n",
            "3    c    c\n"
          ]
        }
      ]
    },
    {
      "cell_type": "code",
      "source": [
        "ct = ColumnTransformer(transformers = [('ohe_col1',OneHotEncoder(),[0])])\n",
        "df = ct.fit_transform(df)\n",
        "print(df)"
      ],
      "metadata": {
        "colab": {
          "base_uri": "https://localhost:8080/"
        },
        "id": "hX3WrTgP-ONw",
        "outputId": "01c7bd2b-1f60-47af-e9be-1f90707bcfb4"
      },
      "execution_count": null,
      "outputs": [
        {
          "output_type": "stream",
          "name": "stdout",
          "text": [
            "[[1. 0. 0.]\n",
            " [0. 1. 0.]\n",
            " [1. 0. 0.]\n",
            " [0. 0. 1.]]\n"
          ]
        }
      ]
    },
    {
      "cell_type": "code",
      "source": [
        "df = pd.DataFrame({\"col1\":[\"a\",\"b\",\"a\",\"c\"],\"col2\":[\"a\",\"b\",\"a\",\"c\"]})\n",
        "print(df)"
      ],
      "metadata": {
        "colab": {
          "base_uri": "https://localhost:8080/"
        },
        "id": "TBR_y4BfCalY",
        "outputId": "100ef5c5-b8e9-4b9d-d280-986950522ee8"
      },
      "execution_count": null,
      "outputs": [
        {
          "output_type": "stream",
          "name": "stdout",
          "text": [
            "  col1 col2\n",
            "0    a    a\n",
            "1    b    b\n",
            "2    a    a\n",
            "3    c    c\n"
          ]
        }
      ]
    },
    {
      "cell_type": "code",
      "source": [
        "ct = ColumnTransformer(transformers = [('ohe_col1',OneHotEncoder(),[0])],remainder=\"passthrough\")\n",
        "df_1 = ct.fit_transform(df)\n",
        "print(df_1)"
      ],
      "metadata": {
        "colab": {
          "base_uri": "https://localhost:8080/"
        },
        "id": "uFjCzSspCk3m",
        "outputId": "5be0b88f-8707-4d4f-e3c2-0b548612efae"
      },
      "execution_count": null,
      "outputs": [
        {
          "output_type": "stream",
          "name": "stdout",
          "text": [
            "[[1.0 0.0 0.0 'a']\n",
            " [0.0 1.0 0.0 'b']\n",
            " [1.0 0.0 0.0 'a']\n",
            " [0.0 0.0 1.0 'c']]\n"
          ]
        }
      ]
    },
    {
      "cell_type": "markdown",
      "source": [
        "## LIMITATIONS OF COLUMNTRANSFORMER\n",
        "There are few limitations of ColumnTransformer. They are discussed below\n",
        "\n",
        "- ColumnTransformer outputs an array even if we input a DataFrame object which makes it difficult to track the columns.\n",
        "- In a ColumnTransformer we cannot apply multiple transforms to a single column. This is shown below\n",
        "\n",
        "Consider a dataframe below where we wish to mode impute and onehotencode 'col1' and median impute 'col2'. Here we are trying to perform a 2 transformations on a single column (col1)."
      ],
      "metadata": {
        "id": "16iXt0YPC1-H"
      }
    },
    {
      "cell_type": "code",
      "source": [
        "df = pd.DataFrame({\"col1\":[\"a\",\"b\",np.nan,\"a\"],\"col2\":[1,2,np.nan,5]})\n",
        "print(df)"
      ],
      "metadata": {
        "colab": {
          "base_uri": "https://localhost:8080/"
        },
        "id": "m5uBDlWECr3U",
        "outputId": "284cd6e2-587e-45de-fc0b-2f356fb68832"
      },
      "execution_count": null,
      "outputs": [
        {
          "output_type": "stream",
          "name": "stdout",
          "text": [
            "  col1  col2\n",
            "0    a   1.0\n",
            "1    b   2.0\n",
            "2  NaN   NaN\n",
            "3    a   5.0\n"
          ]
        }
      ]
    },
    {
      "cell_type": "code",
      "source": [
        "ct = ColumnTransformer(transformers = [\n",
        "    (\"mode_col1\", SimpleImputer(strategy=\"most_frequent\"), [0]),\n",
        "    (\"ord_col1\", OrdinalEncoder(), [0]),\n",
        "    (\"median_col2\", SimpleImputer(strategy = \"median\"), [1])\n",
        "])\n",
        "\n",
        "ct.fit_transform(df)"
      ],
      "metadata": {
        "colab": {
          "base_uri": "https://localhost:8080/"
        },
        "id": "1mV0zlF2NKYU",
        "outputId": "a550736a-6660-44f2-8d7d-eca001f7605c"
      },
      "execution_count": null,
      "outputs": [
        {
          "output_type": "execute_result",
          "data": {
            "text/plain": [
              "array([['a', 0.0, 1.0],\n",
              "       ['b', 1.0, 2.0],\n",
              "       ['a', nan, 2.0],\n",
              "       ['a', 0.0, 5.0]], dtype=object)"
            ]
          },
          "metadata": {},
          "execution_count": 13
        }
      ]
    },
    {
      "cell_type": "code",
      "source": [],
      "metadata": {
        "id": "bvu9KhplNKF9"
      },
      "execution_count": null,
      "outputs": []
    },
    {
      "cell_type": "code",
      "source": [
        "ct = ColumnTransformer(transformers=[('ord_encode1',OrdinalEncoder(),[0])])\n",
        "df = ct.fit_transform(df)\n",
        "df\n"
      ],
      "metadata": {
        "colab": {
          "base_uri": "https://localhost:8080/"
        },
        "id": "5DrvdN0UGf4_",
        "outputId": "8e5b5cdf-1239-41eb-a9dc-17da707bbd0f"
      },
      "execution_count": null,
      "outputs": [
        {
          "output_type": "execute_result",
          "data": {
            "text/plain": [
              "array([[ 0.],\n",
              "       [ 1.],\n",
              "       [nan],\n",
              "       [ 2.]])"
            ]
          },
          "metadata": {},
          "execution_count": 6
        }
      ]
    },
    {
      "cell_type": "code",
      "source": [
        "ct_median = ColumnTransformer(transformers = [(\"median_imputation\", SimpleImputer(strategy = \"median\"),[0])])\n",
        "df = ct_median.fit_transform(df)\n",
        "df"
      ],
      "metadata": {
        "colab": {
          "base_uri": "https://localhost:8080/"
        },
        "id": "a0s_3YwZG51R",
        "outputId": "575efd3c-bfbc-490d-c002-564127b35fe9"
      },
      "execution_count": null,
      "outputs": [
        {
          "output_type": "execute_result",
          "data": {
            "text/plain": [
              "array([[0.],\n",
              "       [1.],\n",
              "       [1.],\n",
              "       [2.]])"
            ]
          },
          "metadata": {},
          "execution_count": 9
        }
      ]
    },
    {
      "cell_type": "code",
      "source": [
        "                                    ('median_impute2',SimpleImputer(strategy=\"median\"),[0])])\n"
      ],
      "metadata": {
        "id": "-8kcGiERHeVJ"
      },
      "execution_count": null,
      "outputs": []
    },
    {
      "cell_type": "code",
      "source": [
        "df = ct.fit_transform(df)\n",
        "print(df)"
      ],
      "metadata": {
        "colab": {
          "base_uri": "https://localhost:8080/",
          "height": 381
        },
        "id": "QTiAoONjDRg8",
        "outputId": "458d9257-2a52-4b2d-8c08-ee98a5719f20"
      },
      "execution_count": null,
      "outputs": [
        {
          "output_type": "error",
          "ename": "ValueError",
          "evalue": "ignored",
          "traceback": [
            "\u001b[0;31m---------------------------------------------------------------------------\u001b[0m",
            "\u001b[0;31mValueError\u001b[0m                                Traceback (most recent call last)",
            "\u001b[0;32m<ipython-input-5-bc52ff7797fe>\u001b[0m in \u001b[0;36m<module>\u001b[0;34m\u001b[0m\n\u001b[1;32m      1\u001b[0m ct = ColumnTransformer(transformers=[('ord_encode1',OrdinalEncoder(),[0]),\n\u001b[1;32m      2\u001b[0m                                     ('median_impute2',SimpleImputer(strategy=\"median\"),[0])])\n\u001b[0;32m----> 3\u001b[0;31m \u001b[0mdf\u001b[0m \u001b[0;34m=\u001b[0m \u001b[0mct\u001b[0m\u001b[0;34m.\u001b[0m\u001b[0mfit_transform\u001b[0m\u001b[0;34m(\u001b[0m\u001b[0mdf\u001b[0m\u001b[0;34m)\u001b[0m\u001b[0;34m\u001b[0m\u001b[0;34m\u001b[0m\u001b[0m\n\u001b[0m\u001b[1;32m      4\u001b[0m \u001b[0mprint\u001b[0m\u001b[0;34m(\u001b[0m\u001b[0mdf\u001b[0m\u001b[0;34m)\u001b[0m\u001b[0;34m\u001b[0m\u001b[0;34m\u001b[0m\u001b[0m\n",
            "\u001b[0;32m/usr/local/lib/python3.7/dist-packages/sklearn/compose/_column_transformer.py\u001b[0m in \u001b[0;36mfit_transform\u001b[0;34m(self, X, y)\u001b[0m\n\u001b[1;32m    673\u001b[0m         \u001b[0mself\u001b[0m\u001b[0;34m.\u001b[0m\u001b[0m_validate_remainder\u001b[0m\u001b[0;34m(\u001b[0m\u001b[0mX\u001b[0m\u001b[0;34m)\u001b[0m\u001b[0;34m\u001b[0m\u001b[0;34m\u001b[0m\u001b[0m\n\u001b[1;32m    674\u001b[0m \u001b[0;34m\u001b[0m\u001b[0m\n\u001b[0;32m--> 675\u001b[0;31m         \u001b[0mresult\u001b[0m \u001b[0;34m=\u001b[0m \u001b[0mself\u001b[0m\u001b[0;34m.\u001b[0m\u001b[0m_fit_transform\u001b[0m\u001b[0;34m(\u001b[0m\u001b[0mX\u001b[0m\u001b[0;34m,\u001b[0m \u001b[0my\u001b[0m\u001b[0;34m,\u001b[0m \u001b[0m_fit_transform_one\u001b[0m\u001b[0;34m)\u001b[0m\u001b[0;34m\u001b[0m\u001b[0;34m\u001b[0m\u001b[0m\n\u001b[0m\u001b[1;32m    676\u001b[0m \u001b[0;34m\u001b[0m\u001b[0m\n\u001b[1;32m    677\u001b[0m         \u001b[0;32mif\u001b[0m \u001b[0;32mnot\u001b[0m \u001b[0mresult\u001b[0m\u001b[0;34m:\u001b[0m\u001b[0;34m\u001b[0m\u001b[0;34m\u001b[0m\u001b[0m\n",
            "\u001b[0;32m/usr/local/lib/python3.7/dist-packages/sklearn/compose/_column_transformer.py\u001b[0m in \u001b[0;36m_fit_transform\u001b[0;34m(self, X, y, func, fitted, column_as_strings)\u001b[0m\n\u001b[1;32m    613\u001b[0m                     \u001b[0mmessage\u001b[0m\u001b[0;34m=\u001b[0m\u001b[0mself\u001b[0m\u001b[0;34m.\u001b[0m\u001b[0m_log_message\u001b[0m\u001b[0;34m(\u001b[0m\u001b[0mname\u001b[0m\u001b[0;34m,\u001b[0m \u001b[0midx\u001b[0m\u001b[0;34m,\u001b[0m \u001b[0mlen\u001b[0m\u001b[0;34m(\u001b[0m\u001b[0mtransformers\u001b[0m\u001b[0;34m)\u001b[0m\u001b[0;34m)\u001b[0m\u001b[0;34m,\u001b[0m\u001b[0;34m\u001b[0m\u001b[0;34m\u001b[0m\u001b[0m\n\u001b[1;32m    614\u001b[0m                 )\n\u001b[0;32m--> 615\u001b[0;31m                 \u001b[0;32mfor\u001b[0m \u001b[0midx\u001b[0m\u001b[0;34m,\u001b[0m \u001b[0;34m(\u001b[0m\u001b[0mname\u001b[0m\u001b[0;34m,\u001b[0m \u001b[0mtrans\u001b[0m\u001b[0;34m,\u001b[0m \u001b[0mcolumn\u001b[0m\u001b[0;34m,\u001b[0m \u001b[0mweight\u001b[0m\u001b[0;34m)\u001b[0m \u001b[0;32min\u001b[0m \u001b[0menumerate\u001b[0m\u001b[0;34m(\u001b[0m\u001b[0mtransformers\u001b[0m\u001b[0;34m,\u001b[0m \u001b[0;36m1\u001b[0m\u001b[0;34m)\u001b[0m\u001b[0;34m\u001b[0m\u001b[0;34m\u001b[0m\u001b[0m\n\u001b[0m\u001b[1;32m    616\u001b[0m             )\n\u001b[1;32m    617\u001b[0m         \u001b[0;32mexcept\u001b[0m \u001b[0mValueError\u001b[0m \u001b[0;32mas\u001b[0m \u001b[0me\u001b[0m\u001b[0;34m:\u001b[0m\u001b[0;34m\u001b[0m\u001b[0;34m\u001b[0m\u001b[0m\n",
            "\u001b[0;32m/usr/local/lib/python3.7/dist-packages/joblib/parallel.py\u001b[0m in \u001b[0;36m__call__\u001b[0;34m(self, iterable)\u001b[0m\n\u001b[1;32m   1086\u001b[0m                 \u001b[0mself\u001b[0m\u001b[0;34m.\u001b[0m\u001b[0m_iterating\u001b[0m \u001b[0;34m=\u001b[0m \u001b[0mself\u001b[0m\u001b[0;34m.\u001b[0m\u001b[0m_original_iterator\u001b[0m \u001b[0;32mis\u001b[0m \u001b[0;32mnot\u001b[0m \u001b[0;32mNone\u001b[0m\u001b[0;34m\u001b[0m\u001b[0;34m\u001b[0m\u001b[0m\n\u001b[1;32m   1087\u001b[0m \u001b[0;34m\u001b[0m\u001b[0m\n\u001b[0;32m-> 1088\u001b[0;31m             \u001b[0;32mwhile\u001b[0m \u001b[0mself\u001b[0m\u001b[0;34m.\u001b[0m\u001b[0mdispatch_one_batch\u001b[0m\u001b[0;34m(\u001b[0m\u001b[0miterator\u001b[0m\u001b[0;34m)\u001b[0m\u001b[0;34m:\u001b[0m\u001b[0;34m\u001b[0m\u001b[0;34m\u001b[0m\u001b[0m\n\u001b[0m\u001b[1;32m   1089\u001b[0m                 \u001b[0;32mpass\u001b[0m\u001b[0;34m\u001b[0m\u001b[0;34m\u001b[0m\u001b[0m\n\u001b[1;32m   1090\u001b[0m \u001b[0;34m\u001b[0m\u001b[0m\n",
            "\u001b[0;32m/usr/local/lib/python3.7/dist-packages/joblib/parallel.py\u001b[0m in \u001b[0;36mdispatch_one_batch\u001b[0;34m(self, iterator)\u001b[0m\n\u001b[1;32m    899\u001b[0m                 \u001b[0;32mreturn\u001b[0m \u001b[0;32mFalse\u001b[0m\u001b[0;34m\u001b[0m\u001b[0;34m\u001b[0m\u001b[0m\n\u001b[1;32m    900\u001b[0m             \u001b[0;32melse\u001b[0m\u001b[0;34m:\u001b[0m\u001b[0;34m\u001b[0m\u001b[0;34m\u001b[0m\u001b[0m\n\u001b[0;32m--> 901\u001b[0;31m                 \u001b[0mself\u001b[0m\u001b[0;34m.\u001b[0m\u001b[0m_dispatch\u001b[0m\u001b[0;34m(\u001b[0m\u001b[0mtasks\u001b[0m\u001b[0;34m)\u001b[0m\u001b[0;34m\u001b[0m\u001b[0;34m\u001b[0m\u001b[0m\n\u001b[0m\u001b[1;32m    902\u001b[0m                 \u001b[0;32mreturn\u001b[0m \u001b[0;32mTrue\u001b[0m\u001b[0;34m\u001b[0m\u001b[0;34m\u001b[0m\u001b[0m\n\u001b[1;32m    903\u001b[0m \u001b[0;34m\u001b[0m\u001b[0m\n",
            "\u001b[0;32m/usr/local/lib/python3.7/dist-packages/joblib/parallel.py\u001b[0m in \u001b[0;36m_dispatch\u001b[0;34m(self, batch)\u001b[0m\n\u001b[1;32m    817\u001b[0m         \u001b[0;32mwith\u001b[0m \u001b[0mself\u001b[0m\u001b[0;34m.\u001b[0m\u001b[0m_lock\u001b[0m\u001b[0;34m:\u001b[0m\u001b[0;34m\u001b[0m\u001b[0;34m\u001b[0m\u001b[0m\n\u001b[1;32m    818\u001b[0m             \u001b[0mjob_idx\u001b[0m \u001b[0;34m=\u001b[0m \u001b[0mlen\u001b[0m\u001b[0;34m(\u001b[0m\u001b[0mself\u001b[0m\u001b[0;34m.\u001b[0m\u001b[0m_jobs\u001b[0m\u001b[0;34m)\u001b[0m\u001b[0;34m\u001b[0m\u001b[0;34m\u001b[0m\u001b[0m\n\u001b[0;32m--> 819\u001b[0;31m             \u001b[0mjob\u001b[0m \u001b[0;34m=\u001b[0m \u001b[0mself\u001b[0m\u001b[0;34m.\u001b[0m\u001b[0m_backend\u001b[0m\u001b[0;34m.\u001b[0m\u001b[0mapply_async\u001b[0m\u001b[0;34m(\u001b[0m\u001b[0mbatch\u001b[0m\u001b[0;34m,\u001b[0m \u001b[0mcallback\u001b[0m\u001b[0;34m=\u001b[0m\u001b[0mcb\u001b[0m\u001b[0;34m)\u001b[0m\u001b[0;34m\u001b[0m\u001b[0;34m\u001b[0m\u001b[0m\n\u001b[0m\u001b[1;32m    820\u001b[0m             \u001b[0;31m# A job can complete so quickly than its callback is\u001b[0m\u001b[0;34m\u001b[0m\u001b[0;34m\u001b[0m\u001b[0;34m\u001b[0m\u001b[0m\n\u001b[1;32m    821\u001b[0m             \u001b[0;31m# called before we get here, causing self._jobs to\u001b[0m\u001b[0;34m\u001b[0m\u001b[0;34m\u001b[0m\u001b[0;34m\u001b[0m\u001b[0m\n",
            "\u001b[0;32m/usr/local/lib/python3.7/dist-packages/joblib/_parallel_backends.py\u001b[0m in \u001b[0;36mapply_async\u001b[0;34m(self, func, callback)\u001b[0m\n\u001b[1;32m    206\u001b[0m     \u001b[0;32mdef\u001b[0m \u001b[0mapply_async\u001b[0m\u001b[0;34m(\u001b[0m\u001b[0mself\u001b[0m\u001b[0;34m,\u001b[0m \u001b[0mfunc\u001b[0m\u001b[0;34m,\u001b[0m \u001b[0mcallback\u001b[0m\u001b[0;34m=\u001b[0m\u001b[0;32mNone\u001b[0m\u001b[0;34m)\u001b[0m\u001b[0;34m:\u001b[0m\u001b[0;34m\u001b[0m\u001b[0;34m\u001b[0m\u001b[0m\n\u001b[1;32m    207\u001b[0m         \u001b[0;34m\"\"\"Schedule a func to be run\"\"\"\u001b[0m\u001b[0;34m\u001b[0m\u001b[0;34m\u001b[0m\u001b[0m\n\u001b[0;32m--> 208\u001b[0;31m         \u001b[0mresult\u001b[0m \u001b[0;34m=\u001b[0m \u001b[0mImmediateResult\u001b[0m\u001b[0;34m(\u001b[0m\u001b[0mfunc\u001b[0m\u001b[0;34m)\u001b[0m\u001b[0;34m\u001b[0m\u001b[0;34m\u001b[0m\u001b[0m\n\u001b[0m\u001b[1;32m    209\u001b[0m         \u001b[0;32mif\u001b[0m \u001b[0mcallback\u001b[0m\u001b[0;34m:\u001b[0m\u001b[0;34m\u001b[0m\u001b[0;34m\u001b[0m\u001b[0m\n\u001b[1;32m    210\u001b[0m             \u001b[0mcallback\u001b[0m\u001b[0;34m(\u001b[0m\u001b[0mresult\u001b[0m\u001b[0;34m)\u001b[0m\u001b[0;34m\u001b[0m\u001b[0;34m\u001b[0m\u001b[0m\n",
            "\u001b[0;32m/usr/local/lib/python3.7/dist-packages/joblib/_parallel_backends.py\u001b[0m in \u001b[0;36m__init__\u001b[0;34m(self, batch)\u001b[0m\n\u001b[1;32m    595\u001b[0m         \u001b[0;31m# Don't delay the application, to avoid keeping the input\u001b[0m\u001b[0;34m\u001b[0m\u001b[0;34m\u001b[0m\u001b[0;34m\u001b[0m\u001b[0m\n\u001b[1;32m    596\u001b[0m         \u001b[0;31m# arguments in memory\u001b[0m\u001b[0;34m\u001b[0m\u001b[0;34m\u001b[0m\u001b[0;34m\u001b[0m\u001b[0m\n\u001b[0;32m--> 597\u001b[0;31m         \u001b[0mself\u001b[0m\u001b[0;34m.\u001b[0m\u001b[0mresults\u001b[0m \u001b[0;34m=\u001b[0m \u001b[0mbatch\u001b[0m\u001b[0;34m(\u001b[0m\u001b[0;34m)\u001b[0m\u001b[0;34m\u001b[0m\u001b[0;34m\u001b[0m\u001b[0m\n\u001b[0m\u001b[1;32m    598\u001b[0m \u001b[0;34m\u001b[0m\u001b[0m\n\u001b[1;32m    599\u001b[0m     \u001b[0;32mdef\u001b[0m \u001b[0mget\u001b[0m\u001b[0;34m(\u001b[0m\u001b[0mself\u001b[0m\u001b[0;34m)\u001b[0m\u001b[0;34m:\u001b[0m\u001b[0;34m\u001b[0m\u001b[0;34m\u001b[0m\u001b[0m\n",
            "\u001b[0;32m/usr/local/lib/python3.7/dist-packages/joblib/parallel.py\u001b[0m in \u001b[0;36m__call__\u001b[0;34m(self)\u001b[0m\n\u001b[1;32m    287\u001b[0m         \u001b[0;32mwith\u001b[0m \u001b[0mparallel_backend\u001b[0m\u001b[0;34m(\u001b[0m\u001b[0mself\u001b[0m\u001b[0;34m.\u001b[0m\u001b[0m_backend\u001b[0m\u001b[0;34m,\u001b[0m \u001b[0mn_jobs\u001b[0m\u001b[0;34m=\u001b[0m\u001b[0mself\u001b[0m\u001b[0;34m.\u001b[0m\u001b[0m_n_jobs\u001b[0m\u001b[0;34m)\u001b[0m\u001b[0;34m:\u001b[0m\u001b[0;34m\u001b[0m\u001b[0;34m\u001b[0m\u001b[0m\n\u001b[1;32m    288\u001b[0m             return [func(*args, **kwargs)\n\u001b[0;32m--> 289\u001b[0;31m                     for func, args, kwargs in self.items]\n\u001b[0m\u001b[1;32m    290\u001b[0m \u001b[0;34m\u001b[0m\u001b[0m\n\u001b[1;32m    291\u001b[0m     \u001b[0;32mdef\u001b[0m \u001b[0m__reduce__\u001b[0m\u001b[0;34m(\u001b[0m\u001b[0mself\u001b[0m\u001b[0;34m)\u001b[0m\u001b[0;34m:\u001b[0m\u001b[0;34m\u001b[0m\u001b[0;34m\u001b[0m\u001b[0m\n",
            "\u001b[0;32m/usr/local/lib/python3.7/dist-packages/joblib/parallel.py\u001b[0m in \u001b[0;36m<listcomp>\u001b[0;34m(.0)\u001b[0m\n\u001b[1;32m    287\u001b[0m         \u001b[0;32mwith\u001b[0m \u001b[0mparallel_backend\u001b[0m\u001b[0;34m(\u001b[0m\u001b[0mself\u001b[0m\u001b[0;34m.\u001b[0m\u001b[0m_backend\u001b[0m\u001b[0;34m,\u001b[0m \u001b[0mn_jobs\u001b[0m\u001b[0;34m=\u001b[0m\u001b[0mself\u001b[0m\u001b[0;34m.\u001b[0m\u001b[0m_n_jobs\u001b[0m\u001b[0;34m)\u001b[0m\u001b[0;34m:\u001b[0m\u001b[0;34m\u001b[0m\u001b[0;34m\u001b[0m\u001b[0m\n\u001b[1;32m    288\u001b[0m             return [func(*args, **kwargs)\n\u001b[0;32m--> 289\u001b[0;31m                     for func, args, kwargs in self.items]\n\u001b[0m\u001b[1;32m    290\u001b[0m \u001b[0;34m\u001b[0m\u001b[0m\n\u001b[1;32m    291\u001b[0m     \u001b[0;32mdef\u001b[0m \u001b[0m__reduce__\u001b[0m\u001b[0;34m(\u001b[0m\u001b[0mself\u001b[0m\u001b[0;34m)\u001b[0m\u001b[0;34m:\u001b[0m\u001b[0;34m\u001b[0m\u001b[0;34m\u001b[0m\u001b[0m\n",
            "\u001b[0;32m/usr/local/lib/python3.7/dist-packages/sklearn/utils/fixes.py\u001b[0m in \u001b[0;36m__call__\u001b[0;34m(self, *args, **kwargs)\u001b[0m\n\u001b[1;32m    214\u001b[0m     \u001b[0;32mdef\u001b[0m \u001b[0m__call__\u001b[0m\u001b[0;34m(\u001b[0m\u001b[0mself\u001b[0m\u001b[0;34m,\u001b[0m \u001b[0;34m*\u001b[0m\u001b[0margs\u001b[0m\u001b[0;34m,\u001b[0m \u001b[0;34m**\u001b[0m\u001b[0mkwargs\u001b[0m\u001b[0;34m)\u001b[0m\u001b[0;34m:\u001b[0m\u001b[0;34m\u001b[0m\u001b[0;34m\u001b[0m\u001b[0m\n\u001b[1;32m    215\u001b[0m         \u001b[0;32mwith\u001b[0m \u001b[0mconfig_context\u001b[0m\u001b[0;34m(\u001b[0m\u001b[0;34m**\u001b[0m\u001b[0mself\u001b[0m\u001b[0;34m.\u001b[0m\u001b[0mconfig\u001b[0m\u001b[0;34m)\u001b[0m\u001b[0;34m:\u001b[0m\u001b[0;34m\u001b[0m\u001b[0;34m\u001b[0m\u001b[0m\n\u001b[0;32m--> 216\u001b[0;31m             \u001b[0;32mreturn\u001b[0m \u001b[0mself\u001b[0m\u001b[0;34m.\u001b[0m\u001b[0mfunction\u001b[0m\u001b[0;34m(\u001b[0m\u001b[0;34m*\u001b[0m\u001b[0margs\u001b[0m\u001b[0;34m,\u001b[0m \u001b[0;34m**\u001b[0m\u001b[0mkwargs\u001b[0m\u001b[0;34m)\u001b[0m\u001b[0;34m\u001b[0m\u001b[0;34m\u001b[0m\u001b[0m\n\u001b[0m\u001b[1;32m    217\u001b[0m \u001b[0;34m\u001b[0m\u001b[0m\n\u001b[1;32m    218\u001b[0m \u001b[0;34m\u001b[0m\u001b[0m\n",
            "\u001b[0;32m/usr/local/lib/python3.7/dist-packages/sklearn/pipeline.py\u001b[0m in \u001b[0;36m_fit_transform_one\u001b[0;34m(transformer, X, y, weight, message_clsname, message, **fit_params)\u001b[0m\n\u001b[1;32m    891\u001b[0m     \u001b[0;32mwith\u001b[0m \u001b[0m_print_elapsed_time\u001b[0m\u001b[0;34m(\u001b[0m\u001b[0mmessage_clsname\u001b[0m\u001b[0;34m,\u001b[0m \u001b[0mmessage\u001b[0m\u001b[0;34m)\u001b[0m\u001b[0;34m:\u001b[0m\u001b[0;34m\u001b[0m\u001b[0;34m\u001b[0m\u001b[0m\n\u001b[1;32m    892\u001b[0m         \u001b[0;32mif\u001b[0m \u001b[0mhasattr\u001b[0m\u001b[0;34m(\u001b[0m\u001b[0mtransformer\u001b[0m\u001b[0;34m,\u001b[0m \u001b[0;34m\"fit_transform\"\u001b[0m\u001b[0;34m)\u001b[0m\u001b[0;34m:\u001b[0m\u001b[0;34m\u001b[0m\u001b[0;34m\u001b[0m\u001b[0m\n\u001b[0;32m--> 893\u001b[0;31m             \u001b[0mres\u001b[0m \u001b[0;34m=\u001b[0m \u001b[0mtransformer\u001b[0m\u001b[0;34m.\u001b[0m\u001b[0mfit_transform\u001b[0m\u001b[0;34m(\u001b[0m\u001b[0mX\u001b[0m\u001b[0;34m,\u001b[0m \u001b[0my\u001b[0m\u001b[0;34m,\u001b[0m \u001b[0;34m**\u001b[0m\u001b[0mfit_params\u001b[0m\u001b[0;34m)\u001b[0m\u001b[0;34m\u001b[0m\u001b[0;34m\u001b[0m\u001b[0m\n\u001b[0m\u001b[1;32m    894\u001b[0m         \u001b[0;32melse\u001b[0m\u001b[0;34m:\u001b[0m\u001b[0;34m\u001b[0m\u001b[0;34m\u001b[0m\u001b[0m\n\u001b[1;32m    895\u001b[0m             \u001b[0mres\u001b[0m \u001b[0;34m=\u001b[0m \u001b[0mtransformer\u001b[0m\u001b[0;34m.\u001b[0m\u001b[0mfit\u001b[0m\u001b[0;34m(\u001b[0m\u001b[0mX\u001b[0m\u001b[0;34m,\u001b[0m \u001b[0my\u001b[0m\u001b[0;34m,\u001b[0m \u001b[0;34m**\u001b[0m\u001b[0mfit_params\u001b[0m\u001b[0;34m)\u001b[0m\u001b[0;34m.\u001b[0m\u001b[0mtransform\u001b[0m\u001b[0;34m(\u001b[0m\u001b[0mX\u001b[0m\u001b[0;34m)\u001b[0m\u001b[0;34m\u001b[0m\u001b[0;34m\u001b[0m\u001b[0m\n",
            "\u001b[0;32m/usr/local/lib/python3.7/dist-packages/sklearn/base.py\u001b[0m in \u001b[0;36mfit_transform\u001b[0;34m(self, X, y, **fit_params)\u001b[0m\n\u001b[1;32m    850\u001b[0m         \u001b[0;32mif\u001b[0m \u001b[0my\u001b[0m \u001b[0;32mis\u001b[0m \u001b[0;32mNone\u001b[0m\u001b[0;34m:\u001b[0m\u001b[0;34m\u001b[0m\u001b[0;34m\u001b[0m\u001b[0m\n\u001b[1;32m    851\u001b[0m             \u001b[0;31m# fit method of arity 1 (unsupervised transformation)\u001b[0m\u001b[0;34m\u001b[0m\u001b[0;34m\u001b[0m\u001b[0;34m\u001b[0m\u001b[0m\n\u001b[0;32m--> 852\u001b[0;31m             \u001b[0;32mreturn\u001b[0m \u001b[0mself\u001b[0m\u001b[0;34m.\u001b[0m\u001b[0mfit\u001b[0m\u001b[0;34m(\u001b[0m\u001b[0mX\u001b[0m\u001b[0;34m,\u001b[0m \u001b[0;34m**\u001b[0m\u001b[0mfit_params\u001b[0m\u001b[0;34m)\u001b[0m\u001b[0;34m.\u001b[0m\u001b[0mtransform\u001b[0m\u001b[0;34m(\u001b[0m\u001b[0mX\u001b[0m\u001b[0;34m)\u001b[0m\u001b[0;34m\u001b[0m\u001b[0;34m\u001b[0m\u001b[0m\n\u001b[0m\u001b[1;32m    853\u001b[0m         \u001b[0;32melse\u001b[0m\u001b[0;34m:\u001b[0m\u001b[0;34m\u001b[0m\u001b[0;34m\u001b[0m\u001b[0m\n\u001b[1;32m    854\u001b[0m             \u001b[0;31m# fit method of arity 2 (supervised transformation)\u001b[0m\u001b[0;34m\u001b[0m\u001b[0;34m\u001b[0m\u001b[0;34m\u001b[0m\u001b[0m\n",
            "\u001b[0;32m/usr/local/lib/python3.7/dist-packages/sklearn/impute/_base.py\u001b[0m in \u001b[0;36mfit\u001b[0;34m(self, X, y)\u001b[0m\n\u001b[1;32m    317\u001b[0m             \u001b[0mFitted\u001b[0m \u001b[0mestimator\u001b[0m\u001b[0;34m.\u001b[0m\u001b[0;34m\u001b[0m\u001b[0;34m\u001b[0m\u001b[0m\n\u001b[1;32m    318\u001b[0m         \"\"\"\n\u001b[0;32m--> 319\u001b[0;31m         \u001b[0mX\u001b[0m \u001b[0;34m=\u001b[0m \u001b[0mself\u001b[0m\u001b[0;34m.\u001b[0m\u001b[0m_validate_input\u001b[0m\u001b[0;34m(\u001b[0m\u001b[0mX\u001b[0m\u001b[0;34m,\u001b[0m \u001b[0min_fit\u001b[0m\u001b[0;34m=\u001b[0m\u001b[0;32mTrue\u001b[0m\u001b[0;34m)\u001b[0m\u001b[0;34m\u001b[0m\u001b[0;34m\u001b[0m\u001b[0m\n\u001b[0m\u001b[1;32m    320\u001b[0m \u001b[0;34m\u001b[0m\u001b[0m\n\u001b[1;32m    321\u001b[0m         \u001b[0;31m# default fill_value is 0 for numerical input and \"missing_value\"\u001b[0m\u001b[0;34m\u001b[0m\u001b[0;34m\u001b[0m\u001b[0;34m\u001b[0m\u001b[0m\n",
            "\u001b[0;32m/usr/local/lib/python3.7/dist-packages/sklearn/impute/_base.py\u001b[0m in \u001b[0;36m_validate_input\u001b[0;34m(self, X, in_fit)\u001b[0m\n\u001b[1;32m    283\u001b[0m                     )\n\u001b[1;32m    284\u001b[0m                 )\n\u001b[0;32m--> 285\u001b[0;31m                 \u001b[0;32mraise\u001b[0m \u001b[0mnew_ve\u001b[0m \u001b[0;32mfrom\u001b[0m \u001b[0;32mNone\u001b[0m\u001b[0;34m\u001b[0m\u001b[0;34m\u001b[0m\u001b[0m\n\u001b[0m\u001b[1;32m    286\u001b[0m             \u001b[0;32melse\u001b[0m\u001b[0;34m:\u001b[0m\u001b[0;34m\u001b[0m\u001b[0;34m\u001b[0m\u001b[0m\n\u001b[1;32m    287\u001b[0m                 \u001b[0;32mraise\u001b[0m \u001b[0mve\u001b[0m\u001b[0;34m\u001b[0m\u001b[0;34m\u001b[0m\u001b[0m\n",
            "\u001b[0;31mValueError\u001b[0m: Cannot use median strategy with non-numeric data:\ncould not convert string to float: 'a'"
          ]
        }
      ]
    },
    {
      "cell_type": "markdown",
      "source": [
        "## INTRODUCTION TO PIPELINE\n",
        "\n",
        "<img width = 800 src = https://vitalflux.com/wp-content/uploads/2020/08/ML-Pipeline-Page-2-1024x307.png />\n",
        "\n",
        "Pipeline is a sequence of operations where output of one operation becomes input to its subsequent operation. In the example below we'll first median impute the columns in dataframe and then perform Minmaxscaling on them\n",
        "\n"
      ],
      "metadata": {
        "id": "GMFq6Z_yFd4P"
      }
    },
    {
      "cell_type": "code",
      "source": [
        "df = pd.DataFrame({\"col1\":[1,2,np.nan,3],\"col2\":[1,np.nan,1,5]})\n",
        "print(df)"
      ],
      "metadata": {
        "colab": {
          "base_uri": "https://localhost:8080/"
        },
        "id": "U9_DxPsnDnSd",
        "outputId": "69fff1a0-e801-4b36-8365-f6c7e9e43450"
      },
      "execution_count": null,
      "outputs": [
        {
          "output_type": "stream",
          "name": "stdout",
          "text": [
            "   col1  col2\n",
            "0   1.0   1.0\n",
            "1   2.0   NaN\n",
            "2   NaN   1.0\n",
            "3   3.0   5.0\n"
          ]
        }
      ]
    },
    {
      "cell_type": "code",
      "source": [
        "pipe = Pipeline(steps = [\n",
        "    (\"median_imp\", SimpleImputer(strategy = \"mean\")),\n",
        "    (\"scale\", StandardScaler())\n",
        "])"
      ],
      "metadata": {
        "id": "uuQENrtYP_Fz"
      },
      "execution_count": null,
      "outputs": []
    },
    {
      "cell_type": "code",
      "source": [
        "pipe.fit_transform(df)"
      ],
      "metadata": {
        "colab": {
          "base_uri": "https://localhost:8080/"
        },
        "id": "6oTyzxoBP_Bh",
        "outputId": "4fcf04dc-0b32-4331-e521-f5c05d6e58ab"
      },
      "execution_count": null,
      "outputs": [
        {
          "output_type": "execute_result",
          "data": {
            "text/plain": [
              "array([[-1.41421356, -0.81649658],\n",
              "       [ 0.        ,  0.        ],\n",
              "       [ 0.        , -0.81649658],\n",
              "       [ 1.41421356,  1.63299316]])"
            ]
          },
          "metadata": {},
          "execution_count": 21
        }
      ]
    },
    {
      "cell_type": "code",
      "source": [],
      "metadata": {
        "id": "hKN0WC2wP-r1"
      },
      "execution_count": null,
      "outputs": []
    },
    {
      "cell_type": "code",
      "source": [
        "pipe = Pipeline(steps=[('imputation',SimpleImputer(strategy=\"mean\")),\n",
        "                      (\"scaling\",MinMaxScaler())])\n",
        "df = pipe.fit_transform(df)\n",
        "print(df)"
      ],
      "metadata": {
        "colab": {
          "base_uri": "https://localhost:8080/"
        },
        "id": "mEcdvgh9FlJr",
        "outputId": "693bc12a-a8c5-4bd2-8764-23af9e32d94e"
      },
      "execution_count": null,
      "outputs": [
        {
          "output_type": "stream",
          "name": "stdout",
          "text": [
            "[[0.         0.        ]\n",
            " [0.5        0.33333333]\n",
            " [0.5        0.        ]\n",
            " [1.         1.        ]]\n"
          ]
        }
      ]
    },
    {
      "cell_type": "markdown",
      "source": [
        "As seen above we could perform multiple transformations with a single fit() or fit_transform() statement. Unlike ColumnTransformer, Pipelines follow a sequential process, where output of previous step becomes input of next step. The above operation is conventionally performed as shown below.\n",
        "\n",
        "What happened in the Pipeline?\n",
        "\n",
        "Similar to ColumnTransformer, Pipeline takes input of steps, which can be a classifier, transform, etc. \n",
        "\n",
        "Each step in Pipeline has 2 parts:\n",
        "\n",
        "- Name of step\n",
        "- The operation itself."
      ],
      "metadata": {
        "id": "XRYvehmdHUiy"
      }
    },
    {
      "cell_type": "code",
      "source": [
        "df = pd.DataFrame({\"col1\":[1,2,np.nan,3],\"col2\":[1,np.nan,1,5]})\n",
        "print(df)"
      ],
      "metadata": {
        "colab": {
          "base_uri": "https://localhost:8080/"
        },
        "id": "FxAfC6rNFtTm",
        "outputId": "f5a9e96f-4ce4-4701-e31d-0a5ff0c877e1"
      },
      "execution_count": null,
      "outputs": [
        {
          "output_type": "stream",
          "name": "stdout",
          "text": [
            "   col1  col2\n",
            "0   1.0   1.0\n",
            "1   2.0   NaN\n",
            "2   NaN   1.0\n",
            "3   3.0   5.0\n"
          ]
        }
      ]
    },
    {
      "cell_type": "code",
      "source": [
        "df = SimpleImputer(strategy = \"median\").fit_transform(df)\n",
        "df = MinMaxScaler().fit_transform(df)\n",
        "df"
      ],
      "metadata": {
        "colab": {
          "base_uri": "https://localhost:8080/"
        },
        "id": "tGvsIeWHLqib",
        "outputId": "05c1b55a-304d-443c-cd1e-8b9059b9af24"
      },
      "execution_count": null,
      "outputs": [
        {
          "output_type": "execute_result",
          "data": {
            "text/plain": [
              "array([[0. , 0. ],\n",
              "       [0.5, 0. ],\n",
              "       [0.5, 0. ],\n",
              "       [1. , 1. ]])"
            ]
          },
          "metadata": {},
          "execution_count": 23
        }
      ]
    },
    {
      "cell_type": "code",
      "source": [
        "df = SimpleImputer(strategy=\"median\").fit_transform(df)\n",
        "df = MinMaxScaler().fit_transform(df)\n",
        "print(df)"
      ],
      "metadata": {
        "colab": {
          "base_uri": "https://localhost:8080/"
        },
        "id": "S65v72FhGja_",
        "outputId": "8684003e-a19a-4818-dff2-44fe8429e298"
      },
      "execution_count": null,
      "outputs": [
        {
          "output_type": "stream",
          "name": "stdout",
          "text": [
            "[[0.  0. ]\n",
            " [0.5 0. ]\n",
            " [0.5 0. ]\n",
            " [1.  1. ]]\n"
          ]
        }
      ]
    },
    {
      "cell_type": "markdown",
      "source": [
        "Conventional process takes 2 fit_transform steps where as use of Pipeline brings it down to 1."
      ],
      "metadata": {
        "id": "iD1_uZYGH2er"
      }
    },
    {
      "cell_type": "markdown",
      "source": [
        "## LIMITATIONS OF PIPELINE\n",
        "- Similar to ColumnTransformer, Pipeline also outputs an array.\n",
        "- As in ColumnTransformer, we cannot specify the column which we want to transform."
      ],
      "metadata": {
        "id": "3QyBO8A2ILne"
      }
    },
    {
      "cell_type": "markdown",
      "source": [
        "## CLUBBING COLUMNTRANSFORMER AND PIPELINE\n",
        "\n",
        "A seen in one of the examples previously, we couldn't apply multiple transforms on a single column using ColumnTransformer. We got an error on trying it. Lets discuss the example once again.\n",
        "\n",
        "Consider a dataframe below where we wish to mode impute and onehotencode 'col1' and median impute 'col2'. Here we are trying to perform a 2 transformations on a single column (col1) and median imput on 'col2'"
      ],
      "metadata": {
        "id": "0CXGCgxBIdYz"
      }
    },
    {
      "cell_type": "code",
      "source": [
        "df = pd.DataFrame({\"col1\":[\"a\",\"b\",np.nan,\"a\"],\"col2\":[1,2,np.nan,5]})\n",
        "print(df)"
      ],
      "metadata": {
        "colab": {
          "base_uri": "https://localhost:8080/"
        },
        "id": "zv4McJpuHtFI",
        "outputId": "a545f649-604a-40f3-b9da-79ca2c4cec1c"
      },
      "execution_count": null,
      "outputs": [
        {
          "output_type": "stream",
          "name": "stdout",
          "text": [
            "  col1  col2\n",
            "0    a   1.0\n",
            "1    b   2.0\n",
            "2  NaN   NaN\n",
            "3    a   5.0\n"
          ]
        }
      ]
    },
    {
      "cell_type": "code",
      "source": [],
      "metadata": {
        "id": "uPaxB76KRbgl"
      },
      "execution_count": null,
      "outputs": []
    },
    {
      "cell_type": "code",
      "source": [
        "col1_pipe = Pipeline(steps=[('mode_col1',SimpleImputer(strategy=\"most_frequent\")),\n",
        "                           (\"one_hot_encode\",OneHotEncoder())])\n",
        "\n",
        "col_transform = ColumnTransformer(transformers=[(\"col1\",col1_pipe,[0]),\n",
        "                                               (\"col2\",SimpleImputer(strategy=\"median\"),[1])])\n",
        "\n",
        "df = col_transform.fit_transform(df)\n",
        "print(df)"
      ],
      "metadata": {
        "colab": {
          "base_uri": "https://localhost:8080/"
        },
        "id": "vCxGWD-rIwP2",
        "outputId": "c831243f-adc9-45fe-a01b-5ff012020127"
      },
      "execution_count": null,
      "outputs": [
        {
          "output_type": "stream",
          "name": "stdout",
          "text": [
            "[[1. 0. 1.]\n",
            " [0. 1. 2.]\n",
            " [1. 0. 2.]\n",
            " [1. 0. 5.]]\n"
          ]
        }
      ]
    },
    {
      "cell_type": "code",
      "source": [
        "df= pd.read_csv(\"/content/train.csv\")\n",
        "df.head()"
      ],
      "metadata": {
        "colab": {
          "base_uri": "https://localhost:8080/",
          "height": 299
        },
        "id": "IKOvX0zCI4D3",
        "outputId": "d52967de-3938-4c3b-a800-ff2059e696aa"
      },
      "execution_count": null,
      "outputs": [
        {
          "output_type": "execute_result",
          "data": {
            "text/plain": [
              "   Id  MSSubClass MSZoning  LotFrontage  LotArea Street Alley LotShape  \\\n",
              "0   1          60       RL         65.0     8450   Pave   NaN      Reg   \n",
              "1   2          20       RL         80.0     9600   Pave   NaN      Reg   \n",
              "2   3          60       RL         68.0    11250   Pave   NaN      IR1   \n",
              "3   4          70       RL         60.0     9550   Pave   NaN      IR1   \n",
              "4   5          60       RL         84.0    14260   Pave   NaN      IR1   \n",
              "\n",
              "  LandContour Utilities  ... PoolArea PoolQC Fence MiscFeature MiscVal MoSold  \\\n",
              "0         Lvl    AllPub  ...        0    NaN   NaN         NaN       0      2   \n",
              "1         Lvl    AllPub  ...        0    NaN   NaN         NaN       0      5   \n",
              "2         Lvl    AllPub  ...        0    NaN   NaN         NaN       0      9   \n",
              "3         Lvl    AllPub  ...        0    NaN   NaN         NaN       0      2   \n",
              "4         Lvl    AllPub  ...        0    NaN   NaN         NaN       0     12   \n",
              "\n",
              "  YrSold  SaleType  SaleCondition  SalePrice  \n",
              "0   2008        WD         Normal     208500  \n",
              "1   2007        WD         Normal     181500  \n",
              "2   2008        WD         Normal     223500  \n",
              "3   2006        WD        Abnorml     140000  \n",
              "4   2008        WD         Normal     250000  \n",
              "\n",
              "[5 rows x 81 columns]"
            ],
            "text/html": [
              "\n",
              "  <div id=\"df-fdad2748-83f8-4184-9d1a-3d384cce6c5f\">\n",
              "    <div class=\"colab-df-container\">\n",
              "      <div>\n",
              "<style scoped>\n",
              "    .dataframe tbody tr th:only-of-type {\n",
              "        vertical-align: middle;\n",
              "    }\n",
              "\n",
              "    .dataframe tbody tr th {\n",
              "        vertical-align: top;\n",
              "    }\n",
              "\n",
              "    .dataframe thead th {\n",
              "        text-align: right;\n",
              "    }\n",
              "</style>\n",
              "<table border=\"1\" class=\"dataframe\">\n",
              "  <thead>\n",
              "    <tr style=\"text-align: right;\">\n",
              "      <th></th>\n",
              "      <th>Id</th>\n",
              "      <th>MSSubClass</th>\n",
              "      <th>MSZoning</th>\n",
              "      <th>LotFrontage</th>\n",
              "      <th>LotArea</th>\n",
              "      <th>Street</th>\n",
              "      <th>Alley</th>\n",
              "      <th>LotShape</th>\n",
              "      <th>LandContour</th>\n",
              "      <th>Utilities</th>\n",
              "      <th>...</th>\n",
              "      <th>PoolArea</th>\n",
              "      <th>PoolQC</th>\n",
              "      <th>Fence</th>\n",
              "      <th>MiscFeature</th>\n",
              "      <th>MiscVal</th>\n",
              "      <th>MoSold</th>\n",
              "      <th>YrSold</th>\n",
              "      <th>SaleType</th>\n",
              "      <th>SaleCondition</th>\n",
              "      <th>SalePrice</th>\n",
              "    </tr>\n",
              "  </thead>\n",
              "  <tbody>\n",
              "    <tr>\n",
              "      <th>0</th>\n",
              "      <td>1</td>\n",
              "      <td>60</td>\n",
              "      <td>RL</td>\n",
              "      <td>65.0</td>\n",
              "      <td>8450</td>\n",
              "      <td>Pave</td>\n",
              "      <td>NaN</td>\n",
              "      <td>Reg</td>\n",
              "      <td>Lvl</td>\n",
              "      <td>AllPub</td>\n",
              "      <td>...</td>\n",
              "      <td>0</td>\n",
              "      <td>NaN</td>\n",
              "      <td>NaN</td>\n",
              "      <td>NaN</td>\n",
              "      <td>0</td>\n",
              "      <td>2</td>\n",
              "      <td>2008</td>\n",
              "      <td>WD</td>\n",
              "      <td>Normal</td>\n",
              "      <td>208500</td>\n",
              "    </tr>\n",
              "    <tr>\n",
              "      <th>1</th>\n",
              "      <td>2</td>\n",
              "      <td>20</td>\n",
              "      <td>RL</td>\n",
              "      <td>80.0</td>\n",
              "      <td>9600</td>\n",
              "      <td>Pave</td>\n",
              "      <td>NaN</td>\n",
              "      <td>Reg</td>\n",
              "      <td>Lvl</td>\n",
              "      <td>AllPub</td>\n",
              "      <td>...</td>\n",
              "      <td>0</td>\n",
              "      <td>NaN</td>\n",
              "      <td>NaN</td>\n",
              "      <td>NaN</td>\n",
              "      <td>0</td>\n",
              "      <td>5</td>\n",
              "      <td>2007</td>\n",
              "      <td>WD</td>\n",
              "      <td>Normal</td>\n",
              "      <td>181500</td>\n",
              "    </tr>\n",
              "    <tr>\n",
              "      <th>2</th>\n",
              "      <td>3</td>\n",
              "      <td>60</td>\n",
              "      <td>RL</td>\n",
              "      <td>68.0</td>\n",
              "      <td>11250</td>\n",
              "      <td>Pave</td>\n",
              "      <td>NaN</td>\n",
              "      <td>IR1</td>\n",
              "      <td>Lvl</td>\n",
              "      <td>AllPub</td>\n",
              "      <td>...</td>\n",
              "      <td>0</td>\n",
              "      <td>NaN</td>\n",
              "      <td>NaN</td>\n",
              "      <td>NaN</td>\n",
              "      <td>0</td>\n",
              "      <td>9</td>\n",
              "      <td>2008</td>\n",
              "      <td>WD</td>\n",
              "      <td>Normal</td>\n",
              "      <td>223500</td>\n",
              "    </tr>\n",
              "    <tr>\n",
              "      <th>3</th>\n",
              "      <td>4</td>\n",
              "      <td>70</td>\n",
              "      <td>RL</td>\n",
              "      <td>60.0</td>\n",
              "      <td>9550</td>\n",
              "      <td>Pave</td>\n",
              "      <td>NaN</td>\n",
              "      <td>IR1</td>\n",
              "      <td>Lvl</td>\n",
              "      <td>AllPub</td>\n",
              "      <td>...</td>\n",
              "      <td>0</td>\n",
              "      <td>NaN</td>\n",
              "      <td>NaN</td>\n",
              "      <td>NaN</td>\n",
              "      <td>0</td>\n",
              "      <td>2</td>\n",
              "      <td>2006</td>\n",
              "      <td>WD</td>\n",
              "      <td>Abnorml</td>\n",
              "      <td>140000</td>\n",
              "    </tr>\n",
              "    <tr>\n",
              "      <th>4</th>\n",
              "      <td>5</td>\n",
              "      <td>60</td>\n",
              "      <td>RL</td>\n",
              "      <td>84.0</td>\n",
              "      <td>14260</td>\n",
              "      <td>Pave</td>\n",
              "      <td>NaN</td>\n",
              "      <td>IR1</td>\n",
              "      <td>Lvl</td>\n",
              "      <td>AllPub</td>\n",
              "      <td>...</td>\n",
              "      <td>0</td>\n",
              "      <td>NaN</td>\n",
              "      <td>NaN</td>\n",
              "      <td>NaN</td>\n",
              "      <td>0</td>\n",
              "      <td>12</td>\n",
              "      <td>2008</td>\n",
              "      <td>WD</td>\n",
              "      <td>Normal</td>\n",
              "      <td>250000</td>\n",
              "    </tr>\n",
              "  </tbody>\n",
              "</table>\n",
              "<p>5 rows × 81 columns</p>\n",
              "</div>\n",
              "      <button class=\"colab-df-convert\" onclick=\"convertToInteractive('df-fdad2748-83f8-4184-9d1a-3d384cce6c5f')\"\n",
              "              title=\"Convert this dataframe to an interactive table.\"\n",
              "              style=\"display:none;\">\n",
              "        \n",
              "  <svg xmlns=\"http://www.w3.org/2000/svg\" height=\"24px\"viewBox=\"0 0 24 24\"\n",
              "       width=\"24px\">\n",
              "    <path d=\"M0 0h24v24H0V0z\" fill=\"none\"/>\n",
              "    <path d=\"M18.56 5.44l.94 2.06.94-2.06 2.06-.94-2.06-.94-.94-2.06-.94 2.06-2.06.94zm-11 1L8.5 8.5l.94-2.06 2.06-.94-2.06-.94L8.5 2.5l-.94 2.06-2.06.94zm10 10l.94 2.06.94-2.06 2.06-.94-2.06-.94-.94-2.06-.94 2.06-2.06.94z\"/><path d=\"M17.41 7.96l-1.37-1.37c-.4-.4-.92-.59-1.43-.59-.52 0-1.04.2-1.43.59L10.3 9.45l-7.72 7.72c-.78.78-.78 2.05 0 2.83L4 21.41c.39.39.9.59 1.41.59.51 0 1.02-.2 1.41-.59l7.78-7.78 2.81-2.81c.8-.78.8-2.07 0-2.86zM5.41 20L4 18.59l7.72-7.72 1.47 1.35L5.41 20z\"/>\n",
              "  </svg>\n",
              "      </button>\n",
              "      \n",
              "  <style>\n",
              "    .colab-df-container {\n",
              "      display:flex;\n",
              "      flex-wrap:wrap;\n",
              "      gap: 12px;\n",
              "    }\n",
              "\n",
              "    .colab-df-convert {\n",
              "      background-color: #E8F0FE;\n",
              "      border: none;\n",
              "      border-radius: 50%;\n",
              "      cursor: pointer;\n",
              "      display: none;\n",
              "      fill: #1967D2;\n",
              "      height: 32px;\n",
              "      padding: 0 0 0 0;\n",
              "      width: 32px;\n",
              "    }\n",
              "\n",
              "    .colab-df-convert:hover {\n",
              "      background-color: #E2EBFA;\n",
              "      box-shadow: 0px 1px 2px rgba(60, 64, 67, 0.3), 0px 1px 3px 1px rgba(60, 64, 67, 0.15);\n",
              "      fill: #174EA6;\n",
              "    }\n",
              "\n",
              "    [theme=dark] .colab-df-convert {\n",
              "      background-color: #3B4455;\n",
              "      fill: #D2E3FC;\n",
              "    }\n",
              "\n",
              "    [theme=dark] .colab-df-convert:hover {\n",
              "      background-color: #434B5C;\n",
              "      box-shadow: 0px 1px 3px 1px rgba(0, 0, 0, 0.15);\n",
              "      filter: drop-shadow(0px 1px 2px rgba(0, 0, 0, 0.3));\n",
              "      fill: #FFFFFF;\n",
              "    }\n",
              "  </style>\n",
              "\n",
              "      <script>\n",
              "        const buttonEl =\n",
              "          document.querySelector('#df-fdad2748-83f8-4184-9d1a-3d384cce6c5f button.colab-df-convert');\n",
              "        buttonEl.style.display =\n",
              "          google.colab.kernel.accessAllowed ? 'block' : 'none';\n",
              "\n",
              "        async function convertToInteractive(key) {\n",
              "          const element = document.querySelector('#df-fdad2748-83f8-4184-9d1a-3d384cce6c5f');\n",
              "          const dataTable =\n",
              "            await google.colab.kernel.invokeFunction('convertToInteractive',\n",
              "                                                     [key], {});\n",
              "          if (!dataTable) return;\n",
              "\n",
              "          const docLinkHtml = 'Like what you see? Visit the ' +\n",
              "            '<a target=\"_blank\" href=https://colab.research.google.com/notebooks/data_table.ipynb>data table notebook</a>'\n",
              "            + ' to learn more about interactive tables.';\n",
              "          element.innerHTML = '';\n",
              "          dataTable['output_type'] = 'display_data';\n",
              "          await google.colab.output.renderOutput(dataTable, element);\n",
              "          const docLink = document.createElement('div');\n",
              "          docLink.innerHTML = docLinkHtml;\n",
              "          element.appendChild(docLink);\n",
              "        }\n",
              "      </script>\n",
              "    </div>\n",
              "  </div>\n",
              "  "
            ]
          },
          "metadata": {},
          "execution_count": 27
        }
      ]
    },
    {
      "cell_type": "code",
      "source": [
        "# Drop id column from df\n",
        "df.drop(columns = [\"Id\"], inplace = True)\n",
        "\n",
        "# seperate target column\n",
        "X = df.drop(columns = [\"SalePrice\"])\n",
        "y = df[\"SalePrice\"]"
      ],
      "metadata": {
        "id": "8aPe0KsnKUr7"
      },
      "execution_count": null,
      "outputs": []
    },
    {
      "cell_type": "code",
      "source": [
        "X.isnull().mean().sort_values(ascending = False)[:30] * 100"
      ],
      "metadata": {
        "colab": {
          "base_uri": "https://localhost:8080/"
        },
        "id": "KDNbv_RNK3py",
        "outputId": "e237624f-a6c1-4e01-b5ec-90b7fc421a80"
      },
      "execution_count": null,
      "outputs": [
        {
          "output_type": "execute_result",
          "data": {
            "text/plain": [
              "PoolQC          99.520548\n",
              "MiscFeature     96.301370\n",
              "Alley           93.767123\n",
              "Fence           80.753425\n",
              "FireplaceQu     47.260274\n",
              "LotFrontage     17.739726\n",
              "GarageType       5.547945\n",
              "GarageYrBlt      5.547945\n",
              "GarageQual       5.547945\n",
              "GarageCond       5.547945\n",
              "GarageFinish     5.547945\n",
              "BsmtFinType2     2.602740\n",
              "BsmtExposure     2.602740\n",
              "BsmtCond         2.534247\n",
              "BsmtFinType1     2.534247\n",
              "BsmtQual         2.534247\n",
              "MasVnrArea       0.547945\n",
              "MasVnrType       0.547945\n",
              "Electrical       0.068493\n",
              "BedroomAbvGr     0.000000\n",
              "BsmtHalfBath     0.000000\n",
              "FullBath         0.000000\n",
              "KitchenAbvGr     0.000000\n",
              "HalfBath         0.000000\n",
              "Functional       0.000000\n",
              "Fireplaces       0.000000\n",
              "KitchenQual      0.000000\n",
              "TotRmsAbvGrd     0.000000\n",
              "MSSubClass       0.000000\n",
              "GrLivArea        0.000000\n",
              "dtype: float64"
            ]
          },
          "metadata": {},
          "execution_count": 29
        }
      ]
    },
    {
      "cell_type": "code",
      "source": [
        "X.isnull().mean()[X.isnull().mean() < 0.2]"
      ],
      "metadata": {
        "colab": {
          "base_uri": "https://localhost:8080/"
        },
        "id": "LU3vSomVTbbK",
        "outputId": "cab960f2-227f-4a07-b6c8-f926f3566dcc"
      },
      "execution_count": null,
      "outputs": [
        {
          "output_type": "execute_result",
          "data": {
            "text/plain": [
              "MSSubClass       0.000000\n",
              "MSZoning         0.000000\n",
              "LotFrontage      0.177397\n",
              "LotArea          0.000000\n",
              "Street           0.000000\n",
              "                   ...   \n",
              "MiscVal          0.000000\n",
              "MoSold           0.000000\n",
              "YrSold           0.000000\n",
              "SaleType         0.000000\n",
              "SaleCondition    0.000000\n",
              "Length: 74, dtype: float64"
            ]
          },
          "metadata": {},
          "execution_count": 5
        }
      ]
    },
    {
      "cell_type": "code",
      "source": [
        "X.isnull().mean()[X.isnull().mean() < .20].sort_values(ascending = False)"
      ],
      "metadata": {
        "colab": {
          "base_uri": "https://localhost:8080/"
        },
        "id": "GX4Nj0ZPShKb",
        "outputId": "9f194a90-76cd-4ed8-e9fc-f453b41ca2b4"
      },
      "execution_count": null,
      "outputs": [
        {
          "output_type": "execute_result",
          "data": {
            "text/plain": [
              "LotFrontage      0.177397\n",
              "GarageType       0.055479\n",
              "GarageCond       0.055479\n",
              "GarageYrBlt      0.055479\n",
              "GarageFinish     0.055479\n",
              "                   ...   \n",
              "BsmtUnfSF        0.000000\n",
              "TotalBsmtSF      0.000000\n",
              "MSZoning         0.000000\n",
              "HeatingQC        0.000000\n",
              "SaleCondition    0.000000\n",
              "Length: 74, dtype: float64"
            ]
          },
          "metadata": {},
          "execution_count": 6
        }
      ]
    },
    {
      "cell_type": "code",
      "source": [
        "s = X.isnull().mean()[X.isnull().mean() < .20].sort_values(ascending = False)\n",
        "s"
      ],
      "metadata": {
        "colab": {
          "base_uri": "https://localhost:8080/"
        },
        "id": "xdirimgFLFue",
        "outputId": "9c24fcce-0c8c-42e9-c3f1-f23f4a69c6c2"
      },
      "execution_count": null,
      "outputs": [
        {
          "output_type": "execute_result",
          "data": {
            "text/plain": [
              "LotFrontage      0.177397\n",
              "GarageType       0.055479\n",
              "GarageCond       0.055479\n",
              "GarageYrBlt      0.055479\n",
              "GarageFinish     0.055479\n",
              "                   ...   \n",
              "BsmtUnfSF        0.000000\n",
              "TotalBsmtSF      0.000000\n",
              "MSZoning         0.000000\n",
              "HeatingQC        0.000000\n",
              "SaleCondition    0.000000\n",
              "Length: 74, dtype: float64"
            ]
          },
          "metadata": {},
          "execution_count": 30
        }
      ]
    },
    {
      "cell_type": "code",
      "source": [
        "col = s.index\n",
        "col"
      ],
      "metadata": {
        "colab": {
          "base_uri": "https://localhost:8080/"
        },
        "id": "-JfcuK-FUo3x",
        "outputId": "24fa4d83-4f6d-4410-92fd-1b6c4baa14ed"
      },
      "execution_count": null,
      "outputs": [
        {
          "output_type": "execute_result",
          "data": {
            "text/plain": [
              "Index(['LotFrontage', 'GarageType', 'GarageCond', 'GarageYrBlt',\n",
              "       'GarageFinish', 'GarageQual', 'BsmtFinType2', 'BsmtExposure',\n",
              "       'BsmtFinType1', 'BsmtCond', 'BsmtQual', 'MasVnrArea', 'MasVnrType',\n",
              "       'Electrical', 'PavedDrive', 'PoolArea', 'LowQualFinSF', 'GrLivArea',\n",
              "       'BsmtFullBath', 'BsmtHalfBath', 'FullBath', 'HalfBath', 'SaleType',\n",
              "       'BedroomAbvGr', 'YrSold', 'MoSold', 'MiscVal', 'KitchenAbvGr',\n",
              "       'WoodDeckSF', 'KitchenQual', 'TotRmsAbvGrd', 'ScreenPorch', '3SsnPorch',\n",
              "       'Functional', 'Fireplaces', '2ndFlrSF', 'EnclosedPorch', 'OpenPorchSF',\n",
              "       'GarageCars', 'GarageArea', 'MSSubClass', 'Heating', '1stFlrSF',\n",
              "       'CentralAir', 'LotArea', 'Street', 'LotShape', 'LandContour',\n",
              "       'Utilities', 'LotConfig', 'LandSlope', 'Neighborhood', 'Condition1',\n",
              "       'Condition2', 'BldgType', 'HouseStyle', 'OverallQual', 'OverallCond',\n",
              "       'YearBuilt', 'YearRemodAdd', 'RoofStyle', 'RoofMatl', 'Exterior1st',\n",
              "       'Exterior2nd', 'ExterQual', 'ExterCond', 'Foundation', 'BsmtFinSF1',\n",
              "       'BsmtFinSF2', 'BsmtUnfSF', 'TotalBsmtSF', 'MSZoning', 'HeatingQC',\n",
              "       'SaleCondition'],\n",
              "      dtype='object')"
            ]
          },
          "metadata": {},
          "execution_count": 31
        }
      ]
    },
    {
      "cell_type": "code",
      "source": [
        "col = X.isnull().mean()[X.isnull().mean() < .20].index\n",
        "col"
      ],
      "metadata": {
        "colab": {
          "base_uri": "https://localhost:8080/"
        },
        "id": "aM-us7w5LXP5",
        "outputId": "c9118bad-c83d-4ac5-fe9b-9fb3001ea13e"
      },
      "execution_count": null,
      "outputs": [
        {
          "output_type": "execute_result",
          "data": {
            "text/plain": [
              "Index(['MSSubClass', 'MSZoning', 'LotFrontage', 'LotArea', 'Street',\n",
              "       'LotShape', 'LandContour', 'Utilities', 'LotConfig', 'LandSlope',\n",
              "       'Neighborhood', 'Condition1', 'Condition2', 'BldgType', 'HouseStyle',\n",
              "       'OverallQual', 'OverallCond', 'YearBuilt', 'YearRemodAdd', 'RoofStyle',\n",
              "       'RoofMatl', 'Exterior1st', 'Exterior2nd', 'MasVnrType', 'MasVnrArea',\n",
              "       'ExterQual', 'ExterCond', 'Foundation', 'BsmtQual', 'BsmtCond',\n",
              "       'BsmtExposure', 'BsmtFinType1', 'BsmtFinSF1', 'BsmtFinType2',\n",
              "       'BsmtFinSF2', 'BsmtUnfSF', 'TotalBsmtSF', 'Heating', 'HeatingQC',\n",
              "       'CentralAir', 'Electrical', '1stFlrSF', '2ndFlrSF', 'LowQualFinSF',\n",
              "       'GrLivArea', 'BsmtFullBath', 'BsmtHalfBath', 'FullBath', 'HalfBath',\n",
              "       'BedroomAbvGr', 'KitchenAbvGr', 'KitchenQual', 'TotRmsAbvGrd',\n",
              "       'Functional', 'Fireplaces', 'GarageType', 'GarageYrBlt', 'GarageFinish',\n",
              "       'GarageCars', 'GarageArea', 'GarageQual', 'GarageCond', 'PavedDrive',\n",
              "       'WoodDeckSF', 'OpenPorchSF', 'EnclosedPorch', '3SsnPorch',\n",
              "       'ScreenPorch', 'PoolArea', 'MiscVal', 'MoSold', 'YrSold', 'SaleType',\n",
              "       'SaleCondition'],\n",
              "      dtype='object')"
            ]
          },
          "metadata": {},
          "execution_count": 9
        }
      ]
    },
    {
      "cell_type": "code",
      "source": [
        "# Break off validation set from training data\n",
        "from sklearn.model_selection import train_test_split\n",
        "X_train, X_valid, y_train, y_valid = train_test_split(X[col], y,\n",
        "                                                      train_size=0.8,\n",
        "                                                      random_state=0)\n",
        "\n",
        "print(f'Shape of X_train -: {X_train.shape}')\n",
        "print(f'Shape of X_valid -: {X_valid.shape}')\n",
        "print(f'Shape of y_train -: {y_train.shape}')\n",
        "print(f'Shape of y_valid -: {y_valid.shape}')"
      ],
      "metadata": {
        "colab": {
          "base_uri": "https://localhost:8080/"
        },
        "id": "A_wLtq2OMWBB",
        "outputId": "ec2d65a7-7a10-4531-f3ef-81a2a644a101"
      },
      "execution_count": null,
      "outputs": [
        {
          "output_type": "stream",
          "name": "stdout",
          "text": [
            "Shape of X_train -: (1168, 74)\n",
            "Shape of X_valid -: (292, 74)\n",
            "Shape of y_train -: (1168,)\n",
            "Shape of y_valid -: (292,)\n"
          ]
        }
      ]
    },
    {
      "cell_type": "code",
      "source": [
        "from sklearn.ensemble import RandomForestRegressor\n",
        "from sklearn.metrics import mean_absolute_error\n",
        "\n",
        "# function for comparing different approaches\n",
        "def score_dataset(X_train, X_valid, y_train, y_valid):\n",
        "    model = RandomForestRegressor(n_estimators=100, random_state=0)\n",
        "    model.fit(X_train, y_train)\n",
        "    preds = model.predict(X_valid)\n",
        "    return mean_absolute_error(y_valid, preds)"
      ],
      "metadata": {
        "id": "X7xqZhigMhUu"
      },
      "execution_count": null,
      "outputs": []
    },
    {
      "cell_type": "code",
      "source": [
        "# cat_col = [col for col in X_train.columns if X_train[col].dtype == object]"
      ],
      "metadata": {
        "id": "3W91O4RkVrMp"
      },
      "execution_count": null,
      "outputs": []
    },
    {
      "cell_type": "code",
      "source": [
        "# Seperating numerical and categorical columns\n",
        "num_col = [col for col in X_train.columns if X_train[col].dtype !=object]\n",
        "cat_col = [col for col in X_train.columns if X_train[col].dtype ==object]"
      ],
      "metadata": {
        "id": "jWCthiHWMnRv"
      },
      "execution_count": null,
      "outputs": []
    },
    {
      "cell_type": "code",
      "source": [
        "X_train[num_col]"
      ],
      "metadata": {
        "colab": {
          "base_uri": "https://localhost:8080/",
          "height": 487
        },
        "id": "iL41zt3yNF5J",
        "outputId": "8e3c7858-4a27-4468-dcba-a7903cdc8283"
      },
      "execution_count": null,
      "outputs": [
        {
          "output_type": "execute_result",
          "data": {
            "text/plain": [
              "      LotFrontage  GarageYrBlt  MasVnrArea  PoolArea  LowQualFinSF  GrLivArea  \\\n",
              "618          90.0       2007.0       452.0         0             0       1828   \n",
              "870          60.0       1962.0         0.0         0             0        894   \n",
              "92           80.0       1921.0         0.0         0             0        964   \n",
              "817           NaN       2002.0       148.0         0             0       1689   \n",
              "302         118.0       2001.0       150.0         0             0       1541   \n",
              "...           ...          ...         ...       ...           ...        ...   \n",
              "763          82.0       1999.0       673.0         0             0       2365   \n",
              "835          60.0       1996.0         0.0         0             0       1067   \n",
              "1216         68.0       1978.0         0.0         0             0       1902   \n",
              "559           NaN       2003.0        18.0         0             0       1557   \n",
              "684          58.0       1998.0        30.0         0             0       1839   \n",
              "\n",
              "      BsmtFullBath  BsmtHalfBath  FullBath  HalfBath  ...  1stFlrSF  LotArea  \\\n",
              "618              0             0         2         0  ...      1828    11694   \n",
              "870              0             0         1         0  ...       894     6600   \n",
              "92               1             0         1         0  ...       964    13360   \n",
              "817              1             0         2         0  ...      1689    13265   \n",
              "302              0             0         2         0  ...      1541    13704   \n",
              "...            ...           ...       ...       ...  ...       ...      ...   \n",
              "763              1             0         2         1  ...      1268     9430   \n",
              "835              0             0         2         0  ...      1067     9600   \n",
              "1216             0             0         2         0  ...      1318     8930   \n",
              "559              0             0         2         0  ...      1557     3196   \n",
              "684              0             0         2         1  ...      1195    16770   \n",
              "\n",
              "      OverallQual  OverallCond  YearBuilt  YearRemodAdd  BsmtFinSF1  \\\n",
              "618             9            5       2007          2007          48   \n",
              "870             5            5       1962          1962           0   \n",
              "92              5            7       1921          2006         713   \n",
              "817             8            5       2002          2002        1218   \n",
              "302             7            5       2001          2002           0   \n",
              "...           ...          ...        ...           ...         ...   \n",
              "763             8            5       1999          1999        1163   \n",
              "835             4            7       1950          1995         442   \n",
              "1216            6            5       1978          1978           0   \n",
              "559             7            5       2003          2004           0   \n",
              "684             7            5       1998          1998           0   \n",
              "\n",
              "      BsmtFinSF2  BsmtUnfSF  TotalBsmtSF  \n",
              "618            0       1774         1822  \n",
              "870            0        894          894  \n",
              "92             0        163          876  \n",
              "817            0        350         1568  \n",
              "302            0       1541         1541  \n",
              "...          ...        ...          ...  \n",
              "763            0         89         1252  \n",
              "835            0        625         1067  \n",
              "1216           0          0            0  \n",
              "559            0       1374         1374  \n",
              "684            0       1195         1195  \n",
              "\n",
              "[1168 rows x 36 columns]"
            ],
            "text/html": [
              "\n",
              "  <div id=\"df-9b5d3f89-bc7a-48b9-836b-4cd051a24325\">\n",
              "    <div class=\"colab-df-container\">\n",
              "      <div>\n",
              "<style scoped>\n",
              "    .dataframe tbody tr th:only-of-type {\n",
              "        vertical-align: middle;\n",
              "    }\n",
              "\n",
              "    .dataframe tbody tr th {\n",
              "        vertical-align: top;\n",
              "    }\n",
              "\n",
              "    .dataframe thead th {\n",
              "        text-align: right;\n",
              "    }\n",
              "</style>\n",
              "<table border=\"1\" class=\"dataframe\">\n",
              "  <thead>\n",
              "    <tr style=\"text-align: right;\">\n",
              "      <th></th>\n",
              "      <th>LotFrontage</th>\n",
              "      <th>GarageYrBlt</th>\n",
              "      <th>MasVnrArea</th>\n",
              "      <th>PoolArea</th>\n",
              "      <th>LowQualFinSF</th>\n",
              "      <th>GrLivArea</th>\n",
              "      <th>BsmtFullBath</th>\n",
              "      <th>BsmtHalfBath</th>\n",
              "      <th>FullBath</th>\n",
              "      <th>HalfBath</th>\n",
              "      <th>...</th>\n",
              "      <th>1stFlrSF</th>\n",
              "      <th>LotArea</th>\n",
              "      <th>OverallQual</th>\n",
              "      <th>OverallCond</th>\n",
              "      <th>YearBuilt</th>\n",
              "      <th>YearRemodAdd</th>\n",
              "      <th>BsmtFinSF1</th>\n",
              "      <th>BsmtFinSF2</th>\n",
              "      <th>BsmtUnfSF</th>\n",
              "      <th>TotalBsmtSF</th>\n",
              "    </tr>\n",
              "  </thead>\n",
              "  <tbody>\n",
              "    <tr>\n",
              "      <th>618</th>\n",
              "      <td>90.0</td>\n",
              "      <td>2007.0</td>\n",
              "      <td>452.0</td>\n",
              "      <td>0</td>\n",
              "      <td>0</td>\n",
              "      <td>1828</td>\n",
              "      <td>0</td>\n",
              "      <td>0</td>\n",
              "      <td>2</td>\n",
              "      <td>0</td>\n",
              "      <td>...</td>\n",
              "      <td>1828</td>\n",
              "      <td>11694</td>\n",
              "      <td>9</td>\n",
              "      <td>5</td>\n",
              "      <td>2007</td>\n",
              "      <td>2007</td>\n",
              "      <td>48</td>\n",
              "      <td>0</td>\n",
              "      <td>1774</td>\n",
              "      <td>1822</td>\n",
              "    </tr>\n",
              "    <tr>\n",
              "      <th>870</th>\n",
              "      <td>60.0</td>\n",
              "      <td>1962.0</td>\n",
              "      <td>0.0</td>\n",
              "      <td>0</td>\n",
              "      <td>0</td>\n",
              "      <td>894</td>\n",
              "      <td>0</td>\n",
              "      <td>0</td>\n",
              "      <td>1</td>\n",
              "      <td>0</td>\n",
              "      <td>...</td>\n",
              "      <td>894</td>\n",
              "      <td>6600</td>\n",
              "      <td>5</td>\n",
              "      <td>5</td>\n",
              "      <td>1962</td>\n",
              "      <td>1962</td>\n",
              "      <td>0</td>\n",
              "      <td>0</td>\n",
              "      <td>894</td>\n",
              "      <td>894</td>\n",
              "    </tr>\n",
              "    <tr>\n",
              "      <th>92</th>\n",
              "      <td>80.0</td>\n",
              "      <td>1921.0</td>\n",
              "      <td>0.0</td>\n",
              "      <td>0</td>\n",
              "      <td>0</td>\n",
              "      <td>964</td>\n",
              "      <td>1</td>\n",
              "      <td>0</td>\n",
              "      <td>1</td>\n",
              "      <td>0</td>\n",
              "      <td>...</td>\n",
              "      <td>964</td>\n",
              "      <td>13360</td>\n",
              "      <td>5</td>\n",
              "      <td>7</td>\n",
              "      <td>1921</td>\n",
              "      <td>2006</td>\n",
              "      <td>713</td>\n",
              "      <td>0</td>\n",
              "      <td>163</td>\n",
              "      <td>876</td>\n",
              "    </tr>\n",
              "    <tr>\n",
              "      <th>817</th>\n",
              "      <td>NaN</td>\n",
              "      <td>2002.0</td>\n",
              "      <td>148.0</td>\n",
              "      <td>0</td>\n",
              "      <td>0</td>\n",
              "      <td>1689</td>\n",
              "      <td>1</td>\n",
              "      <td>0</td>\n",
              "      <td>2</td>\n",
              "      <td>0</td>\n",
              "      <td>...</td>\n",
              "      <td>1689</td>\n",
              "      <td>13265</td>\n",
              "      <td>8</td>\n",
              "      <td>5</td>\n",
              "      <td>2002</td>\n",
              "      <td>2002</td>\n",
              "      <td>1218</td>\n",
              "      <td>0</td>\n",
              "      <td>350</td>\n",
              "      <td>1568</td>\n",
              "    </tr>\n",
              "    <tr>\n",
              "      <th>302</th>\n",
              "      <td>118.0</td>\n",
              "      <td>2001.0</td>\n",
              "      <td>150.0</td>\n",
              "      <td>0</td>\n",
              "      <td>0</td>\n",
              "      <td>1541</td>\n",
              "      <td>0</td>\n",
              "      <td>0</td>\n",
              "      <td>2</td>\n",
              "      <td>0</td>\n",
              "      <td>...</td>\n",
              "      <td>1541</td>\n",
              "      <td>13704</td>\n",
              "      <td>7</td>\n",
              "      <td>5</td>\n",
              "      <td>2001</td>\n",
              "      <td>2002</td>\n",
              "      <td>0</td>\n",
              "      <td>0</td>\n",
              "      <td>1541</td>\n",
              "      <td>1541</td>\n",
              "    </tr>\n",
              "    <tr>\n",
              "      <th>...</th>\n",
              "      <td>...</td>\n",
              "      <td>...</td>\n",
              "      <td>...</td>\n",
              "      <td>...</td>\n",
              "      <td>...</td>\n",
              "      <td>...</td>\n",
              "      <td>...</td>\n",
              "      <td>...</td>\n",
              "      <td>...</td>\n",
              "      <td>...</td>\n",
              "      <td>...</td>\n",
              "      <td>...</td>\n",
              "      <td>...</td>\n",
              "      <td>...</td>\n",
              "      <td>...</td>\n",
              "      <td>...</td>\n",
              "      <td>...</td>\n",
              "      <td>...</td>\n",
              "      <td>...</td>\n",
              "      <td>...</td>\n",
              "      <td>...</td>\n",
              "    </tr>\n",
              "    <tr>\n",
              "      <th>763</th>\n",
              "      <td>82.0</td>\n",
              "      <td>1999.0</td>\n",
              "      <td>673.0</td>\n",
              "      <td>0</td>\n",
              "      <td>0</td>\n",
              "      <td>2365</td>\n",
              "      <td>1</td>\n",
              "      <td>0</td>\n",
              "      <td>2</td>\n",
              "      <td>1</td>\n",
              "      <td>...</td>\n",
              "      <td>1268</td>\n",
              "      <td>9430</td>\n",
              "      <td>8</td>\n",
              "      <td>5</td>\n",
              "      <td>1999</td>\n",
              "      <td>1999</td>\n",
              "      <td>1163</td>\n",
              "      <td>0</td>\n",
              "      <td>89</td>\n",
              "      <td>1252</td>\n",
              "    </tr>\n",
              "    <tr>\n",
              "      <th>835</th>\n",
              "      <td>60.0</td>\n",
              "      <td>1996.0</td>\n",
              "      <td>0.0</td>\n",
              "      <td>0</td>\n",
              "      <td>0</td>\n",
              "      <td>1067</td>\n",
              "      <td>0</td>\n",
              "      <td>0</td>\n",
              "      <td>2</td>\n",
              "      <td>0</td>\n",
              "      <td>...</td>\n",
              "      <td>1067</td>\n",
              "      <td>9600</td>\n",
              "      <td>4</td>\n",
              "      <td>7</td>\n",
              "      <td>1950</td>\n",
              "      <td>1995</td>\n",
              "      <td>442</td>\n",
              "      <td>0</td>\n",
              "      <td>625</td>\n",
              "      <td>1067</td>\n",
              "    </tr>\n",
              "    <tr>\n",
              "      <th>1216</th>\n",
              "      <td>68.0</td>\n",
              "      <td>1978.0</td>\n",
              "      <td>0.0</td>\n",
              "      <td>0</td>\n",
              "      <td>0</td>\n",
              "      <td>1902</td>\n",
              "      <td>0</td>\n",
              "      <td>0</td>\n",
              "      <td>2</td>\n",
              "      <td>0</td>\n",
              "      <td>...</td>\n",
              "      <td>1318</td>\n",
              "      <td>8930</td>\n",
              "      <td>6</td>\n",
              "      <td>5</td>\n",
              "      <td>1978</td>\n",
              "      <td>1978</td>\n",
              "      <td>0</td>\n",
              "      <td>0</td>\n",
              "      <td>0</td>\n",
              "      <td>0</td>\n",
              "    </tr>\n",
              "    <tr>\n",
              "      <th>559</th>\n",
              "      <td>NaN</td>\n",
              "      <td>2003.0</td>\n",
              "      <td>18.0</td>\n",
              "      <td>0</td>\n",
              "      <td>0</td>\n",
              "      <td>1557</td>\n",
              "      <td>0</td>\n",
              "      <td>0</td>\n",
              "      <td>2</td>\n",
              "      <td>0</td>\n",
              "      <td>...</td>\n",
              "      <td>1557</td>\n",
              "      <td>3196</td>\n",
              "      <td>7</td>\n",
              "      <td>5</td>\n",
              "      <td>2003</td>\n",
              "      <td>2004</td>\n",
              "      <td>0</td>\n",
              "      <td>0</td>\n",
              "      <td>1374</td>\n",
              "      <td>1374</td>\n",
              "    </tr>\n",
              "    <tr>\n",
              "      <th>684</th>\n",
              "      <td>58.0</td>\n",
              "      <td>1998.0</td>\n",
              "      <td>30.0</td>\n",
              "      <td>0</td>\n",
              "      <td>0</td>\n",
              "      <td>1839</td>\n",
              "      <td>0</td>\n",
              "      <td>0</td>\n",
              "      <td>2</td>\n",
              "      <td>1</td>\n",
              "      <td>...</td>\n",
              "      <td>1195</td>\n",
              "      <td>16770</td>\n",
              "      <td>7</td>\n",
              "      <td>5</td>\n",
              "      <td>1998</td>\n",
              "      <td>1998</td>\n",
              "      <td>0</td>\n",
              "      <td>0</td>\n",
              "      <td>1195</td>\n",
              "      <td>1195</td>\n",
              "    </tr>\n",
              "  </tbody>\n",
              "</table>\n",
              "<p>1168 rows × 36 columns</p>\n",
              "</div>\n",
              "      <button class=\"colab-df-convert\" onclick=\"convertToInteractive('df-9b5d3f89-bc7a-48b9-836b-4cd051a24325')\"\n",
              "              title=\"Convert this dataframe to an interactive table.\"\n",
              "              style=\"display:none;\">\n",
              "        \n",
              "  <svg xmlns=\"http://www.w3.org/2000/svg\" height=\"24px\"viewBox=\"0 0 24 24\"\n",
              "       width=\"24px\">\n",
              "    <path d=\"M0 0h24v24H0V0z\" fill=\"none\"/>\n",
              "    <path d=\"M18.56 5.44l.94 2.06.94-2.06 2.06-.94-2.06-.94-.94-2.06-.94 2.06-2.06.94zm-11 1L8.5 8.5l.94-2.06 2.06-.94-2.06-.94L8.5 2.5l-.94 2.06-2.06.94zm10 10l.94 2.06.94-2.06 2.06-.94-2.06-.94-.94-2.06-.94 2.06-2.06.94z\"/><path d=\"M17.41 7.96l-1.37-1.37c-.4-.4-.92-.59-1.43-.59-.52 0-1.04.2-1.43.59L10.3 9.45l-7.72 7.72c-.78.78-.78 2.05 0 2.83L4 21.41c.39.39.9.59 1.41.59.51 0 1.02-.2 1.41-.59l7.78-7.78 2.81-2.81c.8-.78.8-2.07 0-2.86zM5.41 20L4 18.59l7.72-7.72 1.47 1.35L5.41 20z\"/>\n",
              "  </svg>\n",
              "      </button>\n",
              "      \n",
              "  <style>\n",
              "    .colab-df-container {\n",
              "      display:flex;\n",
              "      flex-wrap:wrap;\n",
              "      gap: 12px;\n",
              "    }\n",
              "\n",
              "    .colab-df-convert {\n",
              "      background-color: #E8F0FE;\n",
              "      border: none;\n",
              "      border-radius: 50%;\n",
              "      cursor: pointer;\n",
              "      display: none;\n",
              "      fill: #1967D2;\n",
              "      height: 32px;\n",
              "      padding: 0 0 0 0;\n",
              "      width: 32px;\n",
              "    }\n",
              "\n",
              "    .colab-df-convert:hover {\n",
              "      background-color: #E2EBFA;\n",
              "      box-shadow: 0px 1px 2px rgba(60, 64, 67, 0.3), 0px 1px 3px 1px rgba(60, 64, 67, 0.15);\n",
              "      fill: #174EA6;\n",
              "    }\n",
              "\n",
              "    [theme=dark] .colab-df-convert {\n",
              "      background-color: #3B4455;\n",
              "      fill: #D2E3FC;\n",
              "    }\n",
              "\n",
              "    [theme=dark] .colab-df-convert:hover {\n",
              "      background-color: #434B5C;\n",
              "      box-shadow: 0px 1px 3px 1px rgba(0, 0, 0, 0.15);\n",
              "      filter: drop-shadow(0px 1px 2px rgba(0, 0, 0, 0.3));\n",
              "      fill: #FFFFFF;\n",
              "    }\n",
              "  </style>\n",
              "\n",
              "      <script>\n",
              "        const buttonEl =\n",
              "          document.querySelector('#df-9b5d3f89-bc7a-48b9-836b-4cd051a24325 button.colab-df-convert');\n",
              "        buttonEl.style.display =\n",
              "          google.colab.kernel.accessAllowed ? 'block' : 'none';\n",
              "\n",
              "        async function convertToInteractive(key) {\n",
              "          const element = document.querySelector('#df-9b5d3f89-bc7a-48b9-836b-4cd051a24325');\n",
              "          const dataTable =\n",
              "            await google.colab.kernel.invokeFunction('convertToInteractive',\n",
              "                                                     [key], {});\n",
              "          if (!dataTable) return;\n",
              "\n",
              "          const docLinkHtml = 'Like what you see? Visit the ' +\n",
              "            '<a target=\"_blank\" href=https://colab.research.google.com/notebooks/data_table.ipynb>data table notebook</a>'\n",
              "            + ' to learn more about interactive tables.';\n",
              "          element.innerHTML = '';\n",
              "          dataTable['output_type'] = 'display_data';\n",
              "          await google.colab.output.renderOutput(dataTable, element);\n",
              "          const docLink = document.createElement('div');\n",
              "          docLink.innerHTML = docLinkHtml;\n",
              "          element.appendChild(docLink);\n",
              "        }\n",
              "      </script>\n",
              "    </div>\n",
              "  </div>\n",
              "  "
            ]
          },
          "metadata": {},
          "execution_count": 36
        }
      ]
    },
    {
      "cell_type": "code",
      "source": [
        "X_train[cat_col]"
      ],
      "metadata": {
        "colab": {
          "base_uri": "https://localhost:8080/",
          "height": 487
        },
        "id": "s0og55N2NJfJ",
        "outputId": "b3957379-9d66-4433-9f8b-7c76a4a92537"
      },
      "execution_count": null,
      "outputs": [
        {
          "output_type": "execute_result",
          "data": {
            "text/plain": [
              "     GarageType GarageCond GarageFinish GarageQual BsmtFinType2 BsmtExposure  \\\n",
              "618      Attchd         TA          Unf         TA          Unf           Av   \n",
              "870      Detchd         TA          Unf         TA          Unf           No   \n",
              "92       Detchd         TA          Unf         TA          Unf           No   \n",
              "817      Attchd         TA          RFn         TA          Unf           No   \n",
              "302      Attchd         TA          RFn         TA          Unf           No   \n",
              "...         ...        ...          ...        ...          ...          ...   \n",
              "763      Attchd         TA          RFn         TA          Unf           Mn   \n",
              "835      Attchd         TA          Unf         TA          Unf           No   \n",
              "1216     Attchd         TA          Unf         TA          NaN          NaN   \n",
              "559      Attchd         TA          Fin         TA          Unf           Gd   \n",
              "684      Attchd         TA          Fin         TA          Unf           No   \n",
              "\n",
              "     BsmtFinType1 BsmtCond BsmtQual MasVnrType  ... RoofStyle RoofMatl  \\\n",
              "618           GLQ       TA       Ex    BrkFace  ...       Hip  CompShg   \n",
              "870           Unf       TA       TA       None  ...       Hip  CompShg   \n",
              "92            ALQ       TA       Gd       None  ...     Gable  CompShg   \n",
              "817           GLQ       TA       Gd    BrkFace  ...       Hip  CompShg   \n",
              "302           Unf       TA       Gd    BrkFace  ...     Gable  CompShg   \n",
              "...           ...      ...      ...        ...  ...       ...      ...   \n",
              "763           GLQ       TA       Gd    BrkFace  ...     Gable  CompShg   \n",
              "835           BLQ       TA       Gd       None  ...     Gable  CompShg   \n",
              "1216          NaN      NaN      NaN       None  ...     Gable  CompShg   \n",
              "559           Unf       TA       Gd    BrkFace  ...     Gable  CompShg   \n",
              "684           Unf       TA       Gd    BrkFace  ...     Gable  CompShg   \n",
              "\n",
              "     Exterior1st Exterior2nd ExterQual ExterCond Foundation MSZoning  \\\n",
              "618      CemntBd     CmentBd        Ex        TA      PConc       RL   \n",
              "870      MetalSd     MetalSd        TA        TA     CBlock       RL   \n",
              "92       Wd Sdng     Wd Sdng        TA        Gd     BrkTil       RL   \n",
              "817      CemntBd     CmentBd        Gd        TA      PConc       RL   \n",
              "302      VinylSd     VinylSd        Gd        TA      PConc       RL   \n",
              "...          ...         ...       ...       ...        ...      ...   \n",
              "763      VinylSd     VinylSd        Gd        TA      PConc       RL   \n",
              "835      VinylSd     HdBoard        TA        TA     CBlock       RL   \n",
              "1216     VinylSd     VinylSd        TA        TA       Slab       RM   \n",
              "559      VinylSd     VinylSd        Gd        TA      PConc       RL   \n",
              "684      VinylSd     VinylSd        Gd        TA      PConc       RL   \n",
              "\n",
              "     HeatingQC SaleCondition  \n",
              "618         Ex       Partial  \n",
              "870         Gd        Normal  \n",
              "92          Ex        Normal  \n",
              "817         Ex        Normal  \n",
              "302         Ex        Normal  \n",
              "...        ...           ...  \n",
              "763         Ex        Normal  \n",
              "835         TA        Normal  \n",
              "1216        TA        Normal  \n",
              "559         Ex        Normal  \n",
              "684         Gd        Normal  \n",
              "\n",
              "[1168 rows x 38 columns]"
            ],
            "text/html": [
              "\n",
              "  <div id=\"df-7c81018a-fbfe-40a9-9349-f94573d75d24\">\n",
              "    <div class=\"colab-df-container\">\n",
              "      <div>\n",
              "<style scoped>\n",
              "    .dataframe tbody tr th:only-of-type {\n",
              "        vertical-align: middle;\n",
              "    }\n",
              "\n",
              "    .dataframe tbody tr th {\n",
              "        vertical-align: top;\n",
              "    }\n",
              "\n",
              "    .dataframe thead th {\n",
              "        text-align: right;\n",
              "    }\n",
              "</style>\n",
              "<table border=\"1\" class=\"dataframe\">\n",
              "  <thead>\n",
              "    <tr style=\"text-align: right;\">\n",
              "      <th></th>\n",
              "      <th>GarageType</th>\n",
              "      <th>GarageCond</th>\n",
              "      <th>GarageFinish</th>\n",
              "      <th>GarageQual</th>\n",
              "      <th>BsmtFinType2</th>\n",
              "      <th>BsmtExposure</th>\n",
              "      <th>BsmtFinType1</th>\n",
              "      <th>BsmtCond</th>\n",
              "      <th>BsmtQual</th>\n",
              "      <th>MasVnrType</th>\n",
              "      <th>...</th>\n",
              "      <th>RoofStyle</th>\n",
              "      <th>RoofMatl</th>\n",
              "      <th>Exterior1st</th>\n",
              "      <th>Exterior2nd</th>\n",
              "      <th>ExterQual</th>\n",
              "      <th>ExterCond</th>\n",
              "      <th>Foundation</th>\n",
              "      <th>MSZoning</th>\n",
              "      <th>HeatingQC</th>\n",
              "      <th>SaleCondition</th>\n",
              "    </tr>\n",
              "  </thead>\n",
              "  <tbody>\n",
              "    <tr>\n",
              "      <th>618</th>\n",
              "      <td>Attchd</td>\n",
              "      <td>TA</td>\n",
              "      <td>Unf</td>\n",
              "      <td>TA</td>\n",
              "      <td>Unf</td>\n",
              "      <td>Av</td>\n",
              "      <td>GLQ</td>\n",
              "      <td>TA</td>\n",
              "      <td>Ex</td>\n",
              "      <td>BrkFace</td>\n",
              "      <td>...</td>\n",
              "      <td>Hip</td>\n",
              "      <td>CompShg</td>\n",
              "      <td>CemntBd</td>\n",
              "      <td>CmentBd</td>\n",
              "      <td>Ex</td>\n",
              "      <td>TA</td>\n",
              "      <td>PConc</td>\n",
              "      <td>RL</td>\n",
              "      <td>Ex</td>\n",
              "      <td>Partial</td>\n",
              "    </tr>\n",
              "    <tr>\n",
              "      <th>870</th>\n",
              "      <td>Detchd</td>\n",
              "      <td>TA</td>\n",
              "      <td>Unf</td>\n",
              "      <td>TA</td>\n",
              "      <td>Unf</td>\n",
              "      <td>No</td>\n",
              "      <td>Unf</td>\n",
              "      <td>TA</td>\n",
              "      <td>TA</td>\n",
              "      <td>None</td>\n",
              "      <td>...</td>\n",
              "      <td>Hip</td>\n",
              "      <td>CompShg</td>\n",
              "      <td>MetalSd</td>\n",
              "      <td>MetalSd</td>\n",
              "      <td>TA</td>\n",
              "      <td>TA</td>\n",
              "      <td>CBlock</td>\n",
              "      <td>RL</td>\n",
              "      <td>Gd</td>\n",
              "      <td>Normal</td>\n",
              "    </tr>\n",
              "    <tr>\n",
              "      <th>92</th>\n",
              "      <td>Detchd</td>\n",
              "      <td>TA</td>\n",
              "      <td>Unf</td>\n",
              "      <td>TA</td>\n",
              "      <td>Unf</td>\n",
              "      <td>No</td>\n",
              "      <td>ALQ</td>\n",
              "      <td>TA</td>\n",
              "      <td>Gd</td>\n",
              "      <td>None</td>\n",
              "      <td>...</td>\n",
              "      <td>Gable</td>\n",
              "      <td>CompShg</td>\n",
              "      <td>Wd Sdng</td>\n",
              "      <td>Wd Sdng</td>\n",
              "      <td>TA</td>\n",
              "      <td>Gd</td>\n",
              "      <td>BrkTil</td>\n",
              "      <td>RL</td>\n",
              "      <td>Ex</td>\n",
              "      <td>Normal</td>\n",
              "    </tr>\n",
              "    <tr>\n",
              "      <th>817</th>\n",
              "      <td>Attchd</td>\n",
              "      <td>TA</td>\n",
              "      <td>RFn</td>\n",
              "      <td>TA</td>\n",
              "      <td>Unf</td>\n",
              "      <td>No</td>\n",
              "      <td>GLQ</td>\n",
              "      <td>TA</td>\n",
              "      <td>Gd</td>\n",
              "      <td>BrkFace</td>\n",
              "      <td>...</td>\n",
              "      <td>Hip</td>\n",
              "      <td>CompShg</td>\n",
              "      <td>CemntBd</td>\n",
              "      <td>CmentBd</td>\n",
              "      <td>Gd</td>\n",
              "      <td>TA</td>\n",
              "      <td>PConc</td>\n",
              "      <td>RL</td>\n",
              "      <td>Ex</td>\n",
              "      <td>Normal</td>\n",
              "    </tr>\n",
              "    <tr>\n",
              "      <th>302</th>\n",
              "      <td>Attchd</td>\n",
              "      <td>TA</td>\n",
              "      <td>RFn</td>\n",
              "      <td>TA</td>\n",
              "      <td>Unf</td>\n",
              "      <td>No</td>\n",
              "      <td>Unf</td>\n",
              "      <td>TA</td>\n",
              "      <td>Gd</td>\n",
              "      <td>BrkFace</td>\n",
              "      <td>...</td>\n",
              "      <td>Gable</td>\n",
              "      <td>CompShg</td>\n",
              "      <td>VinylSd</td>\n",
              "      <td>VinylSd</td>\n",
              "      <td>Gd</td>\n",
              "      <td>TA</td>\n",
              "      <td>PConc</td>\n",
              "      <td>RL</td>\n",
              "      <td>Ex</td>\n",
              "      <td>Normal</td>\n",
              "    </tr>\n",
              "    <tr>\n",
              "      <th>...</th>\n",
              "      <td>...</td>\n",
              "      <td>...</td>\n",
              "      <td>...</td>\n",
              "      <td>...</td>\n",
              "      <td>...</td>\n",
              "      <td>...</td>\n",
              "      <td>...</td>\n",
              "      <td>...</td>\n",
              "      <td>...</td>\n",
              "      <td>...</td>\n",
              "      <td>...</td>\n",
              "      <td>...</td>\n",
              "      <td>...</td>\n",
              "      <td>...</td>\n",
              "      <td>...</td>\n",
              "      <td>...</td>\n",
              "      <td>...</td>\n",
              "      <td>...</td>\n",
              "      <td>...</td>\n",
              "      <td>...</td>\n",
              "      <td>...</td>\n",
              "    </tr>\n",
              "    <tr>\n",
              "      <th>763</th>\n",
              "      <td>Attchd</td>\n",
              "      <td>TA</td>\n",
              "      <td>RFn</td>\n",
              "      <td>TA</td>\n",
              "      <td>Unf</td>\n",
              "      <td>Mn</td>\n",
              "      <td>GLQ</td>\n",
              "      <td>TA</td>\n",
              "      <td>Gd</td>\n",
              "      <td>BrkFace</td>\n",
              "      <td>...</td>\n",
              "      <td>Gable</td>\n",
              "      <td>CompShg</td>\n",
              "      <td>VinylSd</td>\n",
              "      <td>VinylSd</td>\n",
              "      <td>Gd</td>\n",
              "      <td>TA</td>\n",
              "      <td>PConc</td>\n",
              "      <td>RL</td>\n",
              "      <td>Ex</td>\n",
              "      <td>Normal</td>\n",
              "    </tr>\n",
              "    <tr>\n",
              "      <th>835</th>\n",
              "      <td>Attchd</td>\n",
              "      <td>TA</td>\n",
              "      <td>Unf</td>\n",
              "      <td>TA</td>\n",
              "      <td>Unf</td>\n",
              "      <td>No</td>\n",
              "      <td>BLQ</td>\n",
              "      <td>TA</td>\n",
              "      <td>Gd</td>\n",
              "      <td>None</td>\n",
              "      <td>...</td>\n",
              "      <td>Gable</td>\n",
              "      <td>CompShg</td>\n",
              "      <td>VinylSd</td>\n",
              "      <td>HdBoard</td>\n",
              "      <td>TA</td>\n",
              "      <td>TA</td>\n",
              "      <td>CBlock</td>\n",
              "      <td>RL</td>\n",
              "      <td>TA</td>\n",
              "      <td>Normal</td>\n",
              "    </tr>\n",
              "    <tr>\n",
              "      <th>1216</th>\n",
              "      <td>Attchd</td>\n",
              "      <td>TA</td>\n",
              "      <td>Unf</td>\n",
              "      <td>TA</td>\n",
              "      <td>NaN</td>\n",
              "      <td>NaN</td>\n",
              "      <td>NaN</td>\n",
              "      <td>NaN</td>\n",
              "      <td>NaN</td>\n",
              "      <td>None</td>\n",
              "      <td>...</td>\n",
              "      <td>Gable</td>\n",
              "      <td>CompShg</td>\n",
              "      <td>VinylSd</td>\n",
              "      <td>VinylSd</td>\n",
              "      <td>TA</td>\n",
              "      <td>TA</td>\n",
              "      <td>Slab</td>\n",
              "      <td>RM</td>\n",
              "      <td>TA</td>\n",
              "      <td>Normal</td>\n",
              "    </tr>\n",
              "    <tr>\n",
              "      <th>559</th>\n",
              "      <td>Attchd</td>\n",
              "      <td>TA</td>\n",
              "      <td>Fin</td>\n",
              "      <td>TA</td>\n",
              "      <td>Unf</td>\n",
              "      <td>Gd</td>\n",
              "      <td>Unf</td>\n",
              "      <td>TA</td>\n",
              "      <td>Gd</td>\n",
              "      <td>BrkFace</td>\n",
              "      <td>...</td>\n",
              "      <td>Gable</td>\n",
              "      <td>CompShg</td>\n",
              "      <td>VinylSd</td>\n",
              "      <td>VinylSd</td>\n",
              "      <td>Gd</td>\n",
              "      <td>TA</td>\n",
              "      <td>PConc</td>\n",
              "      <td>RL</td>\n",
              "      <td>Ex</td>\n",
              "      <td>Normal</td>\n",
              "    </tr>\n",
              "    <tr>\n",
              "      <th>684</th>\n",
              "      <td>Attchd</td>\n",
              "      <td>TA</td>\n",
              "      <td>Fin</td>\n",
              "      <td>TA</td>\n",
              "      <td>Unf</td>\n",
              "      <td>No</td>\n",
              "      <td>Unf</td>\n",
              "      <td>TA</td>\n",
              "      <td>Gd</td>\n",
              "      <td>BrkFace</td>\n",
              "      <td>...</td>\n",
              "      <td>Gable</td>\n",
              "      <td>CompShg</td>\n",
              "      <td>VinylSd</td>\n",
              "      <td>VinylSd</td>\n",
              "      <td>Gd</td>\n",
              "      <td>TA</td>\n",
              "      <td>PConc</td>\n",
              "      <td>RL</td>\n",
              "      <td>Gd</td>\n",
              "      <td>Normal</td>\n",
              "    </tr>\n",
              "  </tbody>\n",
              "</table>\n",
              "<p>1168 rows × 38 columns</p>\n",
              "</div>\n",
              "      <button class=\"colab-df-convert\" onclick=\"convertToInteractive('df-7c81018a-fbfe-40a9-9349-f94573d75d24')\"\n",
              "              title=\"Convert this dataframe to an interactive table.\"\n",
              "              style=\"display:none;\">\n",
              "        \n",
              "  <svg xmlns=\"http://www.w3.org/2000/svg\" height=\"24px\"viewBox=\"0 0 24 24\"\n",
              "       width=\"24px\">\n",
              "    <path d=\"M0 0h24v24H0V0z\" fill=\"none\"/>\n",
              "    <path d=\"M18.56 5.44l.94 2.06.94-2.06 2.06-.94-2.06-.94-.94-2.06-.94 2.06-2.06.94zm-11 1L8.5 8.5l.94-2.06 2.06-.94-2.06-.94L8.5 2.5l-.94 2.06-2.06.94zm10 10l.94 2.06.94-2.06 2.06-.94-2.06-.94-.94-2.06-.94 2.06-2.06.94z\"/><path d=\"M17.41 7.96l-1.37-1.37c-.4-.4-.92-.59-1.43-.59-.52 0-1.04.2-1.43.59L10.3 9.45l-7.72 7.72c-.78.78-.78 2.05 0 2.83L4 21.41c.39.39.9.59 1.41.59.51 0 1.02-.2 1.41-.59l7.78-7.78 2.81-2.81c.8-.78.8-2.07 0-2.86zM5.41 20L4 18.59l7.72-7.72 1.47 1.35L5.41 20z\"/>\n",
              "  </svg>\n",
              "      </button>\n",
              "      \n",
              "  <style>\n",
              "    .colab-df-container {\n",
              "      display:flex;\n",
              "      flex-wrap:wrap;\n",
              "      gap: 12px;\n",
              "    }\n",
              "\n",
              "    .colab-df-convert {\n",
              "      background-color: #E8F0FE;\n",
              "      border: none;\n",
              "      border-radius: 50%;\n",
              "      cursor: pointer;\n",
              "      display: none;\n",
              "      fill: #1967D2;\n",
              "      height: 32px;\n",
              "      padding: 0 0 0 0;\n",
              "      width: 32px;\n",
              "    }\n",
              "\n",
              "    .colab-df-convert:hover {\n",
              "      background-color: #E2EBFA;\n",
              "      box-shadow: 0px 1px 2px rgba(60, 64, 67, 0.3), 0px 1px 3px 1px rgba(60, 64, 67, 0.15);\n",
              "      fill: #174EA6;\n",
              "    }\n",
              "\n",
              "    [theme=dark] .colab-df-convert {\n",
              "      background-color: #3B4455;\n",
              "      fill: #D2E3FC;\n",
              "    }\n",
              "\n",
              "    [theme=dark] .colab-df-convert:hover {\n",
              "      background-color: #434B5C;\n",
              "      box-shadow: 0px 1px 3px 1px rgba(0, 0, 0, 0.15);\n",
              "      filter: drop-shadow(0px 1px 2px rgba(0, 0, 0, 0.3));\n",
              "      fill: #FFFFFF;\n",
              "    }\n",
              "  </style>\n",
              "\n",
              "      <script>\n",
              "        const buttonEl =\n",
              "          document.querySelector('#df-7c81018a-fbfe-40a9-9349-f94573d75d24 button.colab-df-convert');\n",
              "        buttonEl.style.display =\n",
              "          google.colab.kernel.accessAllowed ? 'block' : 'none';\n",
              "\n",
              "        async function convertToInteractive(key) {\n",
              "          const element = document.querySelector('#df-7c81018a-fbfe-40a9-9349-f94573d75d24');\n",
              "          const dataTable =\n",
              "            await google.colab.kernel.invokeFunction('convertToInteractive',\n",
              "                                                     [key], {});\n",
              "          if (!dataTable) return;\n",
              "\n",
              "          const docLinkHtml = 'Like what you see? Visit the ' +\n",
              "            '<a target=\"_blank\" href=https://colab.research.google.com/notebooks/data_table.ipynb>data table notebook</a>'\n",
              "            + ' to learn more about interactive tables.';\n",
              "          element.innerHTML = '';\n",
              "          dataTable['output_type'] = 'display_data';\n",
              "          await google.colab.output.renderOutput(dataTable, element);\n",
              "          const docLink = document.createElement('div');\n",
              "          docLink.innerHTML = docLinkHtml;\n",
              "          element.appendChild(docLink);\n",
              "        }\n",
              "      </script>\n",
              "    </div>\n",
              "  </div>\n",
              "  "
            ]
          },
          "metadata": {},
          "execution_count": 37
        }
      ]
    },
    {
      "cell_type": "code",
      "source": [
        "X_train"
      ],
      "metadata": {
        "colab": {
          "base_uri": "https://localhost:8080/",
          "height": 487
        },
        "id": "GTWQEjD6WU0W",
        "outputId": "f3920f08-636a-45b9-9ed4-ea3482e1947f"
      },
      "execution_count": null,
      "outputs": [
        {
          "output_type": "execute_result",
          "data": {
            "text/plain": [
              "      LotFrontage GarageType GarageCond  GarageYrBlt GarageFinish GarageQual  \\\n",
              "618          90.0     Attchd         TA       2007.0          Unf         TA   \n",
              "870          60.0     Detchd         TA       1962.0          Unf         TA   \n",
              "92           80.0     Detchd         TA       1921.0          Unf         TA   \n",
              "817           NaN     Attchd         TA       2002.0          RFn         TA   \n",
              "302         118.0     Attchd         TA       2001.0          RFn         TA   \n",
              "...           ...        ...        ...          ...          ...        ...   \n",
              "763          82.0     Attchd         TA       1999.0          RFn         TA   \n",
              "835          60.0     Attchd         TA       1996.0          Unf         TA   \n",
              "1216         68.0     Attchd         TA       1978.0          Unf         TA   \n",
              "559           NaN     Attchd         TA       2003.0          Fin         TA   \n",
              "684          58.0     Attchd         TA       1998.0          Fin         TA   \n",
              "\n",
              "     BsmtFinType2 BsmtExposure BsmtFinType1 BsmtCond  ... ExterQual  \\\n",
              "618           Unf           Av          GLQ       TA  ...        Ex   \n",
              "870           Unf           No          Unf       TA  ...        TA   \n",
              "92            Unf           No          ALQ       TA  ...        TA   \n",
              "817           Unf           No          GLQ       TA  ...        Gd   \n",
              "302           Unf           No          Unf       TA  ...        Gd   \n",
              "...           ...          ...          ...      ...  ...       ...   \n",
              "763           Unf           Mn          GLQ       TA  ...        Gd   \n",
              "835           Unf           No          BLQ       TA  ...        TA   \n",
              "1216          NaN          NaN          NaN      NaN  ...        TA   \n",
              "559           Unf           Gd          Unf       TA  ...        Gd   \n",
              "684           Unf           No          Unf       TA  ...        Gd   \n",
              "\n",
              "      ExterCond Foundation BsmtFinSF1 BsmtFinSF2  BsmtUnfSF  TotalBsmtSF  \\\n",
              "618          TA      PConc         48          0       1774         1822   \n",
              "870          TA     CBlock          0          0        894          894   \n",
              "92           Gd     BrkTil        713          0        163          876   \n",
              "817          TA      PConc       1218          0        350         1568   \n",
              "302          TA      PConc          0          0       1541         1541   \n",
              "...         ...        ...        ...        ...        ...          ...   \n",
              "763          TA      PConc       1163          0         89         1252   \n",
              "835          TA     CBlock        442          0        625         1067   \n",
              "1216         TA       Slab          0          0          0            0   \n",
              "559          TA      PConc          0          0       1374         1374   \n",
              "684          TA      PConc          0          0       1195         1195   \n",
              "\n",
              "      MSZoning  HeatingQC  SaleCondition  \n",
              "618         RL         Ex        Partial  \n",
              "870         RL         Gd         Normal  \n",
              "92          RL         Ex         Normal  \n",
              "817         RL         Ex         Normal  \n",
              "302         RL         Ex         Normal  \n",
              "...        ...        ...            ...  \n",
              "763         RL         Ex         Normal  \n",
              "835         RL         TA         Normal  \n",
              "1216        RM         TA         Normal  \n",
              "559         RL         Ex         Normal  \n",
              "684         RL         Gd         Normal  \n",
              "\n",
              "[1168 rows x 74 columns]"
            ],
            "text/html": [
              "\n",
              "  <div id=\"df-f2a3bff7-54f2-43b2-afb7-b2f5561b0ea3\">\n",
              "    <div class=\"colab-df-container\">\n",
              "      <div>\n",
              "<style scoped>\n",
              "    .dataframe tbody tr th:only-of-type {\n",
              "        vertical-align: middle;\n",
              "    }\n",
              "\n",
              "    .dataframe tbody tr th {\n",
              "        vertical-align: top;\n",
              "    }\n",
              "\n",
              "    .dataframe thead th {\n",
              "        text-align: right;\n",
              "    }\n",
              "</style>\n",
              "<table border=\"1\" class=\"dataframe\">\n",
              "  <thead>\n",
              "    <tr style=\"text-align: right;\">\n",
              "      <th></th>\n",
              "      <th>LotFrontage</th>\n",
              "      <th>GarageType</th>\n",
              "      <th>GarageCond</th>\n",
              "      <th>GarageYrBlt</th>\n",
              "      <th>GarageFinish</th>\n",
              "      <th>GarageQual</th>\n",
              "      <th>BsmtFinType2</th>\n",
              "      <th>BsmtExposure</th>\n",
              "      <th>BsmtFinType1</th>\n",
              "      <th>BsmtCond</th>\n",
              "      <th>...</th>\n",
              "      <th>ExterQual</th>\n",
              "      <th>ExterCond</th>\n",
              "      <th>Foundation</th>\n",
              "      <th>BsmtFinSF1</th>\n",
              "      <th>BsmtFinSF2</th>\n",
              "      <th>BsmtUnfSF</th>\n",
              "      <th>TotalBsmtSF</th>\n",
              "      <th>MSZoning</th>\n",
              "      <th>HeatingQC</th>\n",
              "      <th>SaleCondition</th>\n",
              "    </tr>\n",
              "  </thead>\n",
              "  <tbody>\n",
              "    <tr>\n",
              "      <th>618</th>\n",
              "      <td>90.0</td>\n",
              "      <td>Attchd</td>\n",
              "      <td>TA</td>\n",
              "      <td>2007.0</td>\n",
              "      <td>Unf</td>\n",
              "      <td>TA</td>\n",
              "      <td>Unf</td>\n",
              "      <td>Av</td>\n",
              "      <td>GLQ</td>\n",
              "      <td>TA</td>\n",
              "      <td>...</td>\n",
              "      <td>Ex</td>\n",
              "      <td>TA</td>\n",
              "      <td>PConc</td>\n",
              "      <td>48</td>\n",
              "      <td>0</td>\n",
              "      <td>1774</td>\n",
              "      <td>1822</td>\n",
              "      <td>RL</td>\n",
              "      <td>Ex</td>\n",
              "      <td>Partial</td>\n",
              "    </tr>\n",
              "    <tr>\n",
              "      <th>870</th>\n",
              "      <td>60.0</td>\n",
              "      <td>Detchd</td>\n",
              "      <td>TA</td>\n",
              "      <td>1962.0</td>\n",
              "      <td>Unf</td>\n",
              "      <td>TA</td>\n",
              "      <td>Unf</td>\n",
              "      <td>No</td>\n",
              "      <td>Unf</td>\n",
              "      <td>TA</td>\n",
              "      <td>...</td>\n",
              "      <td>TA</td>\n",
              "      <td>TA</td>\n",
              "      <td>CBlock</td>\n",
              "      <td>0</td>\n",
              "      <td>0</td>\n",
              "      <td>894</td>\n",
              "      <td>894</td>\n",
              "      <td>RL</td>\n",
              "      <td>Gd</td>\n",
              "      <td>Normal</td>\n",
              "    </tr>\n",
              "    <tr>\n",
              "      <th>92</th>\n",
              "      <td>80.0</td>\n",
              "      <td>Detchd</td>\n",
              "      <td>TA</td>\n",
              "      <td>1921.0</td>\n",
              "      <td>Unf</td>\n",
              "      <td>TA</td>\n",
              "      <td>Unf</td>\n",
              "      <td>No</td>\n",
              "      <td>ALQ</td>\n",
              "      <td>TA</td>\n",
              "      <td>...</td>\n",
              "      <td>TA</td>\n",
              "      <td>Gd</td>\n",
              "      <td>BrkTil</td>\n",
              "      <td>713</td>\n",
              "      <td>0</td>\n",
              "      <td>163</td>\n",
              "      <td>876</td>\n",
              "      <td>RL</td>\n",
              "      <td>Ex</td>\n",
              "      <td>Normal</td>\n",
              "    </tr>\n",
              "    <tr>\n",
              "      <th>817</th>\n",
              "      <td>NaN</td>\n",
              "      <td>Attchd</td>\n",
              "      <td>TA</td>\n",
              "      <td>2002.0</td>\n",
              "      <td>RFn</td>\n",
              "      <td>TA</td>\n",
              "      <td>Unf</td>\n",
              "      <td>No</td>\n",
              "      <td>GLQ</td>\n",
              "      <td>TA</td>\n",
              "      <td>...</td>\n",
              "      <td>Gd</td>\n",
              "      <td>TA</td>\n",
              "      <td>PConc</td>\n",
              "      <td>1218</td>\n",
              "      <td>0</td>\n",
              "      <td>350</td>\n",
              "      <td>1568</td>\n",
              "      <td>RL</td>\n",
              "      <td>Ex</td>\n",
              "      <td>Normal</td>\n",
              "    </tr>\n",
              "    <tr>\n",
              "      <th>302</th>\n",
              "      <td>118.0</td>\n",
              "      <td>Attchd</td>\n",
              "      <td>TA</td>\n",
              "      <td>2001.0</td>\n",
              "      <td>RFn</td>\n",
              "      <td>TA</td>\n",
              "      <td>Unf</td>\n",
              "      <td>No</td>\n",
              "      <td>Unf</td>\n",
              "      <td>TA</td>\n",
              "      <td>...</td>\n",
              "      <td>Gd</td>\n",
              "      <td>TA</td>\n",
              "      <td>PConc</td>\n",
              "      <td>0</td>\n",
              "      <td>0</td>\n",
              "      <td>1541</td>\n",
              "      <td>1541</td>\n",
              "      <td>RL</td>\n",
              "      <td>Ex</td>\n",
              "      <td>Normal</td>\n",
              "    </tr>\n",
              "    <tr>\n",
              "      <th>...</th>\n",
              "      <td>...</td>\n",
              "      <td>...</td>\n",
              "      <td>...</td>\n",
              "      <td>...</td>\n",
              "      <td>...</td>\n",
              "      <td>...</td>\n",
              "      <td>...</td>\n",
              "      <td>...</td>\n",
              "      <td>...</td>\n",
              "      <td>...</td>\n",
              "      <td>...</td>\n",
              "      <td>...</td>\n",
              "      <td>...</td>\n",
              "      <td>...</td>\n",
              "      <td>...</td>\n",
              "      <td>...</td>\n",
              "      <td>...</td>\n",
              "      <td>...</td>\n",
              "      <td>...</td>\n",
              "      <td>...</td>\n",
              "      <td>...</td>\n",
              "    </tr>\n",
              "    <tr>\n",
              "      <th>763</th>\n",
              "      <td>82.0</td>\n",
              "      <td>Attchd</td>\n",
              "      <td>TA</td>\n",
              "      <td>1999.0</td>\n",
              "      <td>RFn</td>\n",
              "      <td>TA</td>\n",
              "      <td>Unf</td>\n",
              "      <td>Mn</td>\n",
              "      <td>GLQ</td>\n",
              "      <td>TA</td>\n",
              "      <td>...</td>\n",
              "      <td>Gd</td>\n",
              "      <td>TA</td>\n",
              "      <td>PConc</td>\n",
              "      <td>1163</td>\n",
              "      <td>0</td>\n",
              "      <td>89</td>\n",
              "      <td>1252</td>\n",
              "      <td>RL</td>\n",
              "      <td>Ex</td>\n",
              "      <td>Normal</td>\n",
              "    </tr>\n",
              "    <tr>\n",
              "      <th>835</th>\n",
              "      <td>60.0</td>\n",
              "      <td>Attchd</td>\n",
              "      <td>TA</td>\n",
              "      <td>1996.0</td>\n",
              "      <td>Unf</td>\n",
              "      <td>TA</td>\n",
              "      <td>Unf</td>\n",
              "      <td>No</td>\n",
              "      <td>BLQ</td>\n",
              "      <td>TA</td>\n",
              "      <td>...</td>\n",
              "      <td>TA</td>\n",
              "      <td>TA</td>\n",
              "      <td>CBlock</td>\n",
              "      <td>442</td>\n",
              "      <td>0</td>\n",
              "      <td>625</td>\n",
              "      <td>1067</td>\n",
              "      <td>RL</td>\n",
              "      <td>TA</td>\n",
              "      <td>Normal</td>\n",
              "    </tr>\n",
              "    <tr>\n",
              "      <th>1216</th>\n",
              "      <td>68.0</td>\n",
              "      <td>Attchd</td>\n",
              "      <td>TA</td>\n",
              "      <td>1978.0</td>\n",
              "      <td>Unf</td>\n",
              "      <td>TA</td>\n",
              "      <td>NaN</td>\n",
              "      <td>NaN</td>\n",
              "      <td>NaN</td>\n",
              "      <td>NaN</td>\n",
              "      <td>...</td>\n",
              "      <td>TA</td>\n",
              "      <td>TA</td>\n",
              "      <td>Slab</td>\n",
              "      <td>0</td>\n",
              "      <td>0</td>\n",
              "      <td>0</td>\n",
              "      <td>0</td>\n",
              "      <td>RM</td>\n",
              "      <td>TA</td>\n",
              "      <td>Normal</td>\n",
              "    </tr>\n",
              "    <tr>\n",
              "      <th>559</th>\n",
              "      <td>NaN</td>\n",
              "      <td>Attchd</td>\n",
              "      <td>TA</td>\n",
              "      <td>2003.0</td>\n",
              "      <td>Fin</td>\n",
              "      <td>TA</td>\n",
              "      <td>Unf</td>\n",
              "      <td>Gd</td>\n",
              "      <td>Unf</td>\n",
              "      <td>TA</td>\n",
              "      <td>...</td>\n",
              "      <td>Gd</td>\n",
              "      <td>TA</td>\n",
              "      <td>PConc</td>\n",
              "      <td>0</td>\n",
              "      <td>0</td>\n",
              "      <td>1374</td>\n",
              "      <td>1374</td>\n",
              "      <td>RL</td>\n",
              "      <td>Ex</td>\n",
              "      <td>Normal</td>\n",
              "    </tr>\n",
              "    <tr>\n",
              "      <th>684</th>\n",
              "      <td>58.0</td>\n",
              "      <td>Attchd</td>\n",
              "      <td>TA</td>\n",
              "      <td>1998.0</td>\n",
              "      <td>Fin</td>\n",
              "      <td>TA</td>\n",
              "      <td>Unf</td>\n",
              "      <td>No</td>\n",
              "      <td>Unf</td>\n",
              "      <td>TA</td>\n",
              "      <td>...</td>\n",
              "      <td>Gd</td>\n",
              "      <td>TA</td>\n",
              "      <td>PConc</td>\n",
              "      <td>0</td>\n",
              "      <td>0</td>\n",
              "      <td>1195</td>\n",
              "      <td>1195</td>\n",
              "      <td>RL</td>\n",
              "      <td>Gd</td>\n",
              "      <td>Normal</td>\n",
              "    </tr>\n",
              "  </tbody>\n",
              "</table>\n",
              "<p>1168 rows × 74 columns</p>\n",
              "</div>\n",
              "      <button class=\"colab-df-convert\" onclick=\"convertToInteractive('df-f2a3bff7-54f2-43b2-afb7-b2f5561b0ea3')\"\n",
              "              title=\"Convert this dataframe to an interactive table.\"\n",
              "              style=\"display:none;\">\n",
              "        \n",
              "  <svg xmlns=\"http://www.w3.org/2000/svg\" height=\"24px\"viewBox=\"0 0 24 24\"\n",
              "       width=\"24px\">\n",
              "    <path d=\"M0 0h24v24H0V0z\" fill=\"none\"/>\n",
              "    <path d=\"M18.56 5.44l.94 2.06.94-2.06 2.06-.94-2.06-.94-.94-2.06-.94 2.06-2.06.94zm-11 1L8.5 8.5l.94-2.06 2.06-.94-2.06-.94L8.5 2.5l-.94 2.06-2.06.94zm10 10l.94 2.06.94-2.06 2.06-.94-2.06-.94-.94-2.06-.94 2.06-2.06.94z\"/><path d=\"M17.41 7.96l-1.37-1.37c-.4-.4-.92-.59-1.43-.59-.52 0-1.04.2-1.43.59L10.3 9.45l-7.72 7.72c-.78.78-.78 2.05 0 2.83L4 21.41c.39.39.9.59 1.41.59.51 0 1.02-.2 1.41-.59l7.78-7.78 2.81-2.81c.8-.78.8-2.07 0-2.86zM5.41 20L4 18.59l7.72-7.72 1.47 1.35L5.41 20z\"/>\n",
              "  </svg>\n",
              "      </button>\n",
              "      \n",
              "  <style>\n",
              "    .colab-df-container {\n",
              "      display:flex;\n",
              "      flex-wrap:wrap;\n",
              "      gap: 12px;\n",
              "    }\n",
              "\n",
              "    .colab-df-convert {\n",
              "      background-color: #E8F0FE;\n",
              "      border: none;\n",
              "      border-radius: 50%;\n",
              "      cursor: pointer;\n",
              "      display: none;\n",
              "      fill: #1967D2;\n",
              "      height: 32px;\n",
              "      padding: 0 0 0 0;\n",
              "      width: 32px;\n",
              "    }\n",
              "\n",
              "    .colab-df-convert:hover {\n",
              "      background-color: #E2EBFA;\n",
              "      box-shadow: 0px 1px 2px rgba(60, 64, 67, 0.3), 0px 1px 3px 1px rgba(60, 64, 67, 0.15);\n",
              "      fill: #174EA6;\n",
              "    }\n",
              "\n",
              "    [theme=dark] .colab-df-convert {\n",
              "      background-color: #3B4455;\n",
              "      fill: #D2E3FC;\n",
              "    }\n",
              "\n",
              "    [theme=dark] .colab-df-convert:hover {\n",
              "      background-color: #434B5C;\n",
              "      box-shadow: 0px 1px 3px 1px rgba(0, 0, 0, 0.15);\n",
              "      filter: drop-shadow(0px 1px 2px rgba(0, 0, 0, 0.3));\n",
              "      fill: #FFFFFF;\n",
              "    }\n",
              "  </style>\n",
              "\n",
              "      <script>\n",
              "        const buttonEl =\n",
              "          document.querySelector('#df-f2a3bff7-54f2-43b2-afb7-b2f5561b0ea3 button.colab-df-convert');\n",
              "        buttonEl.style.display =\n",
              "          google.colab.kernel.accessAllowed ? 'block' : 'none';\n",
              "\n",
              "        async function convertToInteractive(key) {\n",
              "          const element = document.querySelector('#df-f2a3bff7-54f2-43b2-afb7-b2f5561b0ea3');\n",
              "          const dataTable =\n",
              "            await google.colab.kernel.invokeFunction('convertToInteractive',\n",
              "                                                     [key], {});\n",
              "          if (!dataTable) return;\n",
              "\n",
              "          const docLinkHtml = 'Like what you see? Visit the ' +\n",
              "            '<a target=\"_blank\" href=https://colab.research.google.com/notebooks/data_table.ipynb>data table notebook</a>'\n",
              "            + ' to learn more about interactive tables.';\n",
              "          element.innerHTML = '';\n",
              "          dataTable['output_type'] = 'display_data';\n",
              "          await google.colab.output.renderOutput(dataTable, element);\n",
              "          const docLink = document.createElement('div');\n",
              "          docLink.innerHTML = docLinkHtml;\n",
              "          element.appendChild(docLink);\n",
              "        }\n",
              "      </script>\n",
              "    </div>\n",
              "  </div>\n",
              "  "
            ]
          },
          "metadata": {},
          "execution_count": 38
        }
      ]
    },
    {
      "cell_type": "code",
      "source": [
        "X_train.head()"
      ],
      "metadata": {
        "colab": {
          "base_uri": "https://localhost:8080/",
          "height": 299
        },
        "id": "8rSvjfHGXAK3",
        "outputId": "5c57376b-881e-4b41-c2d1-48b0a5ea00f3"
      },
      "execution_count": null,
      "outputs": [
        {
          "output_type": "execute_result",
          "data": {
            "text/plain": [
              "     LotFrontage GarageType GarageCond  GarageYrBlt GarageFinish GarageQual  \\\n",
              "618         90.0     Attchd         TA       2007.0          Unf         TA   \n",
              "870         60.0     Detchd         TA       1962.0          Unf         TA   \n",
              "92          80.0     Detchd         TA       1921.0          Unf         TA   \n",
              "817          NaN     Attchd         TA       2002.0          RFn         TA   \n",
              "302        118.0     Attchd         TA       2001.0          RFn         TA   \n",
              "\n",
              "    BsmtFinType2 BsmtExposure BsmtFinType1 BsmtCond  ... ExterQual  ExterCond  \\\n",
              "618          Unf           Av          GLQ       TA  ...        Ex         TA   \n",
              "870          Unf           No          Unf       TA  ...        TA         TA   \n",
              "92           Unf           No          ALQ       TA  ...        TA         Gd   \n",
              "817          Unf           No          GLQ       TA  ...        Gd         TA   \n",
              "302          Unf           No          Unf       TA  ...        Gd         TA   \n",
              "\n",
              "    Foundation BsmtFinSF1 BsmtFinSF2  BsmtUnfSF  TotalBsmtSF  MSZoning  \\\n",
              "618      PConc         48          0       1774         1822        RL   \n",
              "870     CBlock          0          0        894          894        RL   \n",
              "92      BrkTil        713          0        163          876        RL   \n",
              "817      PConc       1218          0        350         1568        RL   \n",
              "302      PConc          0          0       1541         1541        RL   \n",
              "\n",
              "     HeatingQC  SaleCondition  \n",
              "618         Ex        Partial  \n",
              "870         Gd         Normal  \n",
              "92          Ex         Normal  \n",
              "817         Ex         Normal  \n",
              "302         Ex         Normal  \n",
              "\n",
              "[5 rows x 74 columns]"
            ],
            "text/html": [
              "\n",
              "  <div id=\"df-620c24e9-387e-49fd-af44-9dbb0c0767f2\">\n",
              "    <div class=\"colab-df-container\">\n",
              "      <div>\n",
              "<style scoped>\n",
              "    .dataframe tbody tr th:only-of-type {\n",
              "        vertical-align: middle;\n",
              "    }\n",
              "\n",
              "    .dataframe tbody tr th {\n",
              "        vertical-align: top;\n",
              "    }\n",
              "\n",
              "    .dataframe thead th {\n",
              "        text-align: right;\n",
              "    }\n",
              "</style>\n",
              "<table border=\"1\" class=\"dataframe\">\n",
              "  <thead>\n",
              "    <tr style=\"text-align: right;\">\n",
              "      <th></th>\n",
              "      <th>LotFrontage</th>\n",
              "      <th>GarageType</th>\n",
              "      <th>GarageCond</th>\n",
              "      <th>GarageYrBlt</th>\n",
              "      <th>GarageFinish</th>\n",
              "      <th>GarageQual</th>\n",
              "      <th>BsmtFinType2</th>\n",
              "      <th>BsmtExposure</th>\n",
              "      <th>BsmtFinType1</th>\n",
              "      <th>BsmtCond</th>\n",
              "      <th>...</th>\n",
              "      <th>ExterQual</th>\n",
              "      <th>ExterCond</th>\n",
              "      <th>Foundation</th>\n",
              "      <th>BsmtFinSF1</th>\n",
              "      <th>BsmtFinSF2</th>\n",
              "      <th>BsmtUnfSF</th>\n",
              "      <th>TotalBsmtSF</th>\n",
              "      <th>MSZoning</th>\n",
              "      <th>HeatingQC</th>\n",
              "      <th>SaleCondition</th>\n",
              "    </tr>\n",
              "  </thead>\n",
              "  <tbody>\n",
              "    <tr>\n",
              "      <th>618</th>\n",
              "      <td>90.0</td>\n",
              "      <td>Attchd</td>\n",
              "      <td>TA</td>\n",
              "      <td>2007.0</td>\n",
              "      <td>Unf</td>\n",
              "      <td>TA</td>\n",
              "      <td>Unf</td>\n",
              "      <td>Av</td>\n",
              "      <td>GLQ</td>\n",
              "      <td>TA</td>\n",
              "      <td>...</td>\n",
              "      <td>Ex</td>\n",
              "      <td>TA</td>\n",
              "      <td>PConc</td>\n",
              "      <td>48</td>\n",
              "      <td>0</td>\n",
              "      <td>1774</td>\n",
              "      <td>1822</td>\n",
              "      <td>RL</td>\n",
              "      <td>Ex</td>\n",
              "      <td>Partial</td>\n",
              "    </tr>\n",
              "    <tr>\n",
              "      <th>870</th>\n",
              "      <td>60.0</td>\n",
              "      <td>Detchd</td>\n",
              "      <td>TA</td>\n",
              "      <td>1962.0</td>\n",
              "      <td>Unf</td>\n",
              "      <td>TA</td>\n",
              "      <td>Unf</td>\n",
              "      <td>No</td>\n",
              "      <td>Unf</td>\n",
              "      <td>TA</td>\n",
              "      <td>...</td>\n",
              "      <td>TA</td>\n",
              "      <td>TA</td>\n",
              "      <td>CBlock</td>\n",
              "      <td>0</td>\n",
              "      <td>0</td>\n",
              "      <td>894</td>\n",
              "      <td>894</td>\n",
              "      <td>RL</td>\n",
              "      <td>Gd</td>\n",
              "      <td>Normal</td>\n",
              "    </tr>\n",
              "    <tr>\n",
              "      <th>92</th>\n",
              "      <td>80.0</td>\n",
              "      <td>Detchd</td>\n",
              "      <td>TA</td>\n",
              "      <td>1921.0</td>\n",
              "      <td>Unf</td>\n",
              "      <td>TA</td>\n",
              "      <td>Unf</td>\n",
              "      <td>No</td>\n",
              "      <td>ALQ</td>\n",
              "      <td>TA</td>\n",
              "      <td>...</td>\n",
              "      <td>TA</td>\n",
              "      <td>Gd</td>\n",
              "      <td>BrkTil</td>\n",
              "      <td>713</td>\n",
              "      <td>0</td>\n",
              "      <td>163</td>\n",
              "      <td>876</td>\n",
              "      <td>RL</td>\n",
              "      <td>Ex</td>\n",
              "      <td>Normal</td>\n",
              "    </tr>\n",
              "    <tr>\n",
              "      <th>817</th>\n",
              "      <td>NaN</td>\n",
              "      <td>Attchd</td>\n",
              "      <td>TA</td>\n",
              "      <td>2002.0</td>\n",
              "      <td>RFn</td>\n",
              "      <td>TA</td>\n",
              "      <td>Unf</td>\n",
              "      <td>No</td>\n",
              "      <td>GLQ</td>\n",
              "      <td>TA</td>\n",
              "      <td>...</td>\n",
              "      <td>Gd</td>\n",
              "      <td>TA</td>\n",
              "      <td>PConc</td>\n",
              "      <td>1218</td>\n",
              "      <td>0</td>\n",
              "      <td>350</td>\n",
              "      <td>1568</td>\n",
              "      <td>RL</td>\n",
              "      <td>Ex</td>\n",
              "      <td>Normal</td>\n",
              "    </tr>\n",
              "    <tr>\n",
              "      <th>302</th>\n",
              "      <td>118.0</td>\n",
              "      <td>Attchd</td>\n",
              "      <td>TA</td>\n",
              "      <td>2001.0</td>\n",
              "      <td>RFn</td>\n",
              "      <td>TA</td>\n",
              "      <td>Unf</td>\n",
              "      <td>No</td>\n",
              "      <td>Unf</td>\n",
              "      <td>TA</td>\n",
              "      <td>...</td>\n",
              "      <td>Gd</td>\n",
              "      <td>TA</td>\n",
              "      <td>PConc</td>\n",
              "      <td>0</td>\n",
              "      <td>0</td>\n",
              "      <td>1541</td>\n",
              "      <td>1541</td>\n",
              "      <td>RL</td>\n",
              "      <td>Ex</td>\n",
              "      <td>Normal</td>\n",
              "    </tr>\n",
              "  </tbody>\n",
              "</table>\n",
              "<p>5 rows × 74 columns</p>\n",
              "</div>\n",
              "      <button class=\"colab-df-convert\" onclick=\"convertToInteractive('df-620c24e9-387e-49fd-af44-9dbb0c0767f2')\"\n",
              "              title=\"Convert this dataframe to an interactive table.\"\n",
              "              style=\"display:none;\">\n",
              "        \n",
              "  <svg xmlns=\"http://www.w3.org/2000/svg\" height=\"24px\"viewBox=\"0 0 24 24\"\n",
              "       width=\"24px\">\n",
              "    <path d=\"M0 0h24v24H0V0z\" fill=\"none\"/>\n",
              "    <path d=\"M18.56 5.44l.94 2.06.94-2.06 2.06-.94-2.06-.94-.94-2.06-.94 2.06-2.06.94zm-11 1L8.5 8.5l.94-2.06 2.06-.94-2.06-.94L8.5 2.5l-.94 2.06-2.06.94zm10 10l.94 2.06.94-2.06 2.06-.94-2.06-.94-.94-2.06-.94 2.06-2.06.94z\"/><path d=\"M17.41 7.96l-1.37-1.37c-.4-.4-.92-.59-1.43-.59-.52 0-1.04.2-1.43.59L10.3 9.45l-7.72 7.72c-.78.78-.78 2.05 0 2.83L4 21.41c.39.39.9.59 1.41.59.51 0 1.02-.2 1.41-.59l7.78-7.78 2.81-2.81c.8-.78.8-2.07 0-2.86zM5.41 20L4 18.59l7.72-7.72 1.47 1.35L5.41 20z\"/>\n",
              "  </svg>\n",
              "      </button>\n",
              "      \n",
              "  <style>\n",
              "    .colab-df-container {\n",
              "      display:flex;\n",
              "      flex-wrap:wrap;\n",
              "      gap: 12px;\n",
              "    }\n",
              "\n",
              "    .colab-df-convert {\n",
              "      background-color: #E8F0FE;\n",
              "      border: none;\n",
              "      border-radius: 50%;\n",
              "      cursor: pointer;\n",
              "      display: none;\n",
              "      fill: #1967D2;\n",
              "      height: 32px;\n",
              "      padding: 0 0 0 0;\n",
              "      width: 32px;\n",
              "    }\n",
              "\n",
              "    .colab-df-convert:hover {\n",
              "      background-color: #E2EBFA;\n",
              "      box-shadow: 0px 1px 2px rgba(60, 64, 67, 0.3), 0px 1px 3px 1px rgba(60, 64, 67, 0.15);\n",
              "      fill: #174EA6;\n",
              "    }\n",
              "\n",
              "    [theme=dark] .colab-df-convert {\n",
              "      background-color: #3B4455;\n",
              "      fill: #D2E3FC;\n",
              "    }\n",
              "\n",
              "    [theme=dark] .colab-df-convert:hover {\n",
              "      background-color: #434B5C;\n",
              "      box-shadow: 0px 1px 3px 1px rgba(0, 0, 0, 0.15);\n",
              "      filter: drop-shadow(0px 1px 2px rgba(0, 0, 0, 0.3));\n",
              "      fill: #FFFFFF;\n",
              "    }\n",
              "  </style>\n",
              "\n",
              "      <script>\n",
              "        const buttonEl =\n",
              "          document.querySelector('#df-620c24e9-387e-49fd-af44-9dbb0c0767f2 button.colab-df-convert');\n",
              "        buttonEl.style.display =\n",
              "          google.colab.kernel.accessAllowed ? 'block' : 'none';\n",
              "\n",
              "        async function convertToInteractive(key) {\n",
              "          const element = document.querySelector('#df-620c24e9-387e-49fd-af44-9dbb0c0767f2');\n",
              "          const dataTable =\n",
              "            await google.colab.kernel.invokeFunction('convertToInteractive',\n",
              "                                                     [key], {});\n",
              "          if (!dataTable) return;\n",
              "\n",
              "          const docLinkHtml = 'Like what you see? Visit the ' +\n",
              "            '<a target=\"_blank\" href=https://colab.research.google.com/notebooks/data_table.ipynb>data table notebook</a>'\n",
              "            + ' to learn more about interactive tables.';\n",
              "          element.innerHTML = '';\n",
              "          dataTable['output_type'] = 'display_data';\n",
              "          await google.colab.output.renderOutput(dataTable, element);\n",
              "          const docLink = document.createElement('div');\n",
              "          docLink.innerHTML = docLinkHtml;\n",
              "          element.appendChild(docLink);\n",
              "        }\n",
              "      </script>\n",
              "    </div>\n",
              "  </div>\n",
              "  "
            ]
          },
          "metadata": {},
          "execution_count": 40
        }
      ]
    },
    {
      "cell_type": "code",
      "source": [
        "X_train = X_train[num_col + cat_col]\n",
        "X_valid = X_valid[num_col + cat_col]"
      ],
      "metadata": {
        "id": "wOAME--_N3Jp"
      },
      "execution_count": null,
      "outputs": []
    },
    {
      "cell_type": "code",
      "source": [
        "X_train.head()"
      ],
      "metadata": {
        "colab": {
          "base_uri": "https://localhost:8080/",
          "height": 299
        },
        "id": "HtLbOeJ0XEkW",
        "outputId": "31b15469-bf40-4c13-e798-d907cf26ed94"
      },
      "execution_count": null,
      "outputs": [
        {
          "output_type": "execute_result",
          "data": {
            "text/plain": [
              "     LotFrontage  GarageYrBlt  MasVnrArea  PoolArea  LowQualFinSF  GrLivArea  \\\n",
              "618         90.0       2007.0       452.0         0             0       1828   \n",
              "870         60.0       1962.0         0.0         0             0        894   \n",
              "92          80.0       1921.0         0.0         0             0        964   \n",
              "817          NaN       2002.0       148.0         0             0       1689   \n",
              "302        118.0       2001.0       150.0         0             0       1541   \n",
              "\n",
              "     BsmtFullBath  BsmtHalfBath  FullBath  HalfBath  ...  RoofStyle  RoofMatl  \\\n",
              "618             0             0         2         0  ...        Hip   CompShg   \n",
              "870             0             0         1         0  ...        Hip   CompShg   \n",
              "92              1             0         1         0  ...      Gable   CompShg   \n",
              "817             1             0         2         0  ...        Hip   CompShg   \n",
              "302             0             0         2         0  ...      Gable   CompShg   \n",
              "\n",
              "     Exterior1st  Exterior2nd  ExterQual  ExterCond  Foundation  MSZoning  \\\n",
              "618      CemntBd      CmentBd         Ex         TA       PConc        RL   \n",
              "870      MetalSd      MetalSd         TA         TA      CBlock        RL   \n",
              "92       Wd Sdng      Wd Sdng         TA         Gd      BrkTil        RL   \n",
              "817      CemntBd      CmentBd         Gd         TA       PConc        RL   \n",
              "302      VinylSd      VinylSd         Gd         TA       PConc        RL   \n",
              "\n",
              "     HeatingQC  SaleCondition  \n",
              "618         Ex        Partial  \n",
              "870         Gd         Normal  \n",
              "92          Ex         Normal  \n",
              "817         Ex         Normal  \n",
              "302         Ex         Normal  \n",
              "\n",
              "[5 rows x 74 columns]"
            ],
            "text/html": [
              "\n",
              "  <div id=\"df-2c32f0fe-d38f-4088-91fd-ccf853210d50\">\n",
              "    <div class=\"colab-df-container\">\n",
              "      <div>\n",
              "<style scoped>\n",
              "    .dataframe tbody tr th:only-of-type {\n",
              "        vertical-align: middle;\n",
              "    }\n",
              "\n",
              "    .dataframe tbody tr th {\n",
              "        vertical-align: top;\n",
              "    }\n",
              "\n",
              "    .dataframe thead th {\n",
              "        text-align: right;\n",
              "    }\n",
              "</style>\n",
              "<table border=\"1\" class=\"dataframe\">\n",
              "  <thead>\n",
              "    <tr style=\"text-align: right;\">\n",
              "      <th></th>\n",
              "      <th>LotFrontage</th>\n",
              "      <th>GarageYrBlt</th>\n",
              "      <th>MasVnrArea</th>\n",
              "      <th>PoolArea</th>\n",
              "      <th>LowQualFinSF</th>\n",
              "      <th>GrLivArea</th>\n",
              "      <th>BsmtFullBath</th>\n",
              "      <th>BsmtHalfBath</th>\n",
              "      <th>FullBath</th>\n",
              "      <th>HalfBath</th>\n",
              "      <th>...</th>\n",
              "      <th>RoofStyle</th>\n",
              "      <th>RoofMatl</th>\n",
              "      <th>Exterior1st</th>\n",
              "      <th>Exterior2nd</th>\n",
              "      <th>ExterQual</th>\n",
              "      <th>ExterCond</th>\n",
              "      <th>Foundation</th>\n",
              "      <th>MSZoning</th>\n",
              "      <th>HeatingQC</th>\n",
              "      <th>SaleCondition</th>\n",
              "    </tr>\n",
              "  </thead>\n",
              "  <tbody>\n",
              "    <tr>\n",
              "      <th>618</th>\n",
              "      <td>90.0</td>\n",
              "      <td>2007.0</td>\n",
              "      <td>452.0</td>\n",
              "      <td>0</td>\n",
              "      <td>0</td>\n",
              "      <td>1828</td>\n",
              "      <td>0</td>\n",
              "      <td>0</td>\n",
              "      <td>2</td>\n",
              "      <td>0</td>\n",
              "      <td>...</td>\n",
              "      <td>Hip</td>\n",
              "      <td>CompShg</td>\n",
              "      <td>CemntBd</td>\n",
              "      <td>CmentBd</td>\n",
              "      <td>Ex</td>\n",
              "      <td>TA</td>\n",
              "      <td>PConc</td>\n",
              "      <td>RL</td>\n",
              "      <td>Ex</td>\n",
              "      <td>Partial</td>\n",
              "    </tr>\n",
              "    <tr>\n",
              "      <th>870</th>\n",
              "      <td>60.0</td>\n",
              "      <td>1962.0</td>\n",
              "      <td>0.0</td>\n",
              "      <td>0</td>\n",
              "      <td>0</td>\n",
              "      <td>894</td>\n",
              "      <td>0</td>\n",
              "      <td>0</td>\n",
              "      <td>1</td>\n",
              "      <td>0</td>\n",
              "      <td>...</td>\n",
              "      <td>Hip</td>\n",
              "      <td>CompShg</td>\n",
              "      <td>MetalSd</td>\n",
              "      <td>MetalSd</td>\n",
              "      <td>TA</td>\n",
              "      <td>TA</td>\n",
              "      <td>CBlock</td>\n",
              "      <td>RL</td>\n",
              "      <td>Gd</td>\n",
              "      <td>Normal</td>\n",
              "    </tr>\n",
              "    <tr>\n",
              "      <th>92</th>\n",
              "      <td>80.0</td>\n",
              "      <td>1921.0</td>\n",
              "      <td>0.0</td>\n",
              "      <td>0</td>\n",
              "      <td>0</td>\n",
              "      <td>964</td>\n",
              "      <td>1</td>\n",
              "      <td>0</td>\n",
              "      <td>1</td>\n",
              "      <td>0</td>\n",
              "      <td>...</td>\n",
              "      <td>Gable</td>\n",
              "      <td>CompShg</td>\n",
              "      <td>Wd Sdng</td>\n",
              "      <td>Wd Sdng</td>\n",
              "      <td>TA</td>\n",
              "      <td>Gd</td>\n",
              "      <td>BrkTil</td>\n",
              "      <td>RL</td>\n",
              "      <td>Ex</td>\n",
              "      <td>Normal</td>\n",
              "    </tr>\n",
              "    <tr>\n",
              "      <th>817</th>\n",
              "      <td>NaN</td>\n",
              "      <td>2002.0</td>\n",
              "      <td>148.0</td>\n",
              "      <td>0</td>\n",
              "      <td>0</td>\n",
              "      <td>1689</td>\n",
              "      <td>1</td>\n",
              "      <td>0</td>\n",
              "      <td>2</td>\n",
              "      <td>0</td>\n",
              "      <td>...</td>\n",
              "      <td>Hip</td>\n",
              "      <td>CompShg</td>\n",
              "      <td>CemntBd</td>\n",
              "      <td>CmentBd</td>\n",
              "      <td>Gd</td>\n",
              "      <td>TA</td>\n",
              "      <td>PConc</td>\n",
              "      <td>RL</td>\n",
              "      <td>Ex</td>\n",
              "      <td>Normal</td>\n",
              "    </tr>\n",
              "    <tr>\n",
              "      <th>302</th>\n",
              "      <td>118.0</td>\n",
              "      <td>2001.0</td>\n",
              "      <td>150.0</td>\n",
              "      <td>0</td>\n",
              "      <td>0</td>\n",
              "      <td>1541</td>\n",
              "      <td>0</td>\n",
              "      <td>0</td>\n",
              "      <td>2</td>\n",
              "      <td>0</td>\n",
              "      <td>...</td>\n",
              "      <td>Gable</td>\n",
              "      <td>CompShg</td>\n",
              "      <td>VinylSd</td>\n",
              "      <td>VinylSd</td>\n",
              "      <td>Gd</td>\n",
              "      <td>TA</td>\n",
              "      <td>PConc</td>\n",
              "      <td>RL</td>\n",
              "      <td>Ex</td>\n",
              "      <td>Normal</td>\n",
              "    </tr>\n",
              "  </tbody>\n",
              "</table>\n",
              "<p>5 rows × 74 columns</p>\n",
              "</div>\n",
              "      <button class=\"colab-df-convert\" onclick=\"convertToInteractive('df-2c32f0fe-d38f-4088-91fd-ccf853210d50')\"\n",
              "              title=\"Convert this dataframe to an interactive table.\"\n",
              "              style=\"display:none;\">\n",
              "        \n",
              "  <svg xmlns=\"http://www.w3.org/2000/svg\" height=\"24px\"viewBox=\"0 0 24 24\"\n",
              "       width=\"24px\">\n",
              "    <path d=\"M0 0h24v24H0V0z\" fill=\"none\"/>\n",
              "    <path d=\"M18.56 5.44l.94 2.06.94-2.06 2.06-.94-2.06-.94-.94-2.06-.94 2.06-2.06.94zm-11 1L8.5 8.5l.94-2.06 2.06-.94-2.06-.94L8.5 2.5l-.94 2.06-2.06.94zm10 10l.94 2.06.94-2.06 2.06-.94-2.06-.94-.94-2.06-.94 2.06-2.06.94z\"/><path d=\"M17.41 7.96l-1.37-1.37c-.4-.4-.92-.59-1.43-.59-.52 0-1.04.2-1.43.59L10.3 9.45l-7.72 7.72c-.78.78-.78 2.05 0 2.83L4 21.41c.39.39.9.59 1.41.59.51 0 1.02-.2 1.41-.59l7.78-7.78 2.81-2.81c.8-.78.8-2.07 0-2.86zM5.41 20L4 18.59l7.72-7.72 1.47 1.35L5.41 20z\"/>\n",
              "  </svg>\n",
              "      </button>\n",
              "      \n",
              "  <style>\n",
              "    .colab-df-container {\n",
              "      display:flex;\n",
              "      flex-wrap:wrap;\n",
              "      gap: 12px;\n",
              "    }\n",
              "\n",
              "    .colab-df-convert {\n",
              "      background-color: #E8F0FE;\n",
              "      border: none;\n",
              "      border-radius: 50%;\n",
              "      cursor: pointer;\n",
              "      display: none;\n",
              "      fill: #1967D2;\n",
              "      height: 32px;\n",
              "      padding: 0 0 0 0;\n",
              "      width: 32px;\n",
              "    }\n",
              "\n",
              "    .colab-df-convert:hover {\n",
              "      background-color: #E2EBFA;\n",
              "      box-shadow: 0px 1px 2px rgba(60, 64, 67, 0.3), 0px 1px 3px 1px rgba(60, 64, 67, 0.15);\n",
              "      fill: #174EA6;\n",
              "    }\n",
              "\n",
              "    [theme=dark] .colab-df-convert {\n",
              "      background-color: #3B4455;\n",
              "      fill: #D2E3FC;\n",
              "    }\n",
              "\n",
              "    [theme=dark] .colab-df-convert:hover {\n",
              "      background-color: #434B5C;\n",
              "      box-shadow: 0px 1px 3px 1px rgba(0, 0, 0, 0.15);\n",
              "      filter: drop-shadow(0px 1px 2px rgba(0, 0, 0, 0.3));\n",
              "      fill: #FFFFFF;\n",
              "    }\n",
              "  </style>\n",
              "\n",
              "      <script>\n",
              "        const buttonEl =\n",
              "          document.querySelector('#df-2c32f0fe-d38f-4088-91fd-ccf853210d50 button.colab-df-convert');\n",
              "        buttonEl.style.display =\n",
              "          google.colab.kernel.accessAllowed ? 'block' : 'none';\n",
              "\n",
              "        async function convertToInteractive(key) {\n",
              "          const element = document.querySelector('#df-2c32f0fe-d38f-4088-91fd-ccf853210d50');\n",
              "          const dataTable =\n",
              "            await google.colab.kernel.invokeFunction('convertToInteractive',\n",
              "                                                     [key], {});\n",
              "          if (!dataTable) return;\n",
              "\n",
              "          const docLinkHtml = 'Like what you see? Visit the ' +\n",
              "            '<a target=\"_blank\" href=https://colab.research.google.com/notebooks/data_table.ipynb>data table notebook</a>'\n",
              "            + ' to learn more about interactive tables.';\n",
              "          element.innerHTML = '';\n",
              "          dataTable['output_type'] = 'display_data';\n",
              "          await google.colab.output.renderOutput(dataTable, element);\n",
              "          const docLink = document.createElement('div');\n",
              "          docLink.innerHTML = docLinkHtml;\n",
              "          element.appendChild(docLink);\n",
              "        }\n",
              "      </script>\n",
              "    </div>\n",
              "  </div>\n",
              "  "
            ]
          },
          "metadata": {},
          "execution_count": 42
        }
      ]
    },
    {
      "cell_type": "code",
      "source": [
        "len(num_col)"
      ],
      "metadata": {
        "colab": {
          "base_uri": "https://localhost:8080/"
        },
        "id": "qoxz2rVnXUme",
        "outputId": "82262ff1-8588-40bf-f3e2-79b18d4a4249"
      },
      "execution_count": null,
      "outputs": [
        {
          "output_type": "execute_result",
          "data": {
            "text/plain": [
              "36"
            ]
          },
          "metadata": {},
          "execution_count": 43
        }
      ]
    },
    {
      "cell_type": "code",
      "source": [
        "X_train.columns.get_loc(\"TotalBsmtSF\")"
      ],
      "metadata": {
        "colab": {
          "base_uri": "https://localhost:8080/"
        },
        "id": "AUeRxCrQP7LZ",
        "outputId": "c8e68c67-dd96-467b-f1fc-fe81838f226b"
      },
      "execution_count": null,
      "outputs": [
        {
          "output_type": "execute_result",
          "data": {
            "text/plain": [
              "35"
            ]
          },
          "metadata": {},
          "execution_count": 50
        }
      ]
    },
    {
      "cell_type": "code",
      "source": [
        "X_train.iloc[:,:36].head()"
      ],
      "metadata": {
        "colab": {
          "base_uri": "https://localhost:8080/",
          "height": 299
        },
        "id": "h3Z_h-UsXx0_",
        "outputId": "11687e28-811b-4760-d228-06dafbd7fe75"
      },
      "execution_count": null,
      "outputs": [
        {
          "output_type": "execute_result",
          "data": {
            "text/plain": [
              "     LotFrontage  GarageYrBlt  MasVnrArea  PoolArea  LowQualFinSF  GrLivArea  \\\n",
              "618         90.0       2007.0       452.0         0             0       1828   \n",
              "870         60.0       1962.0         0.0         0             0        894   \n",
              "92          80.0       1921.0         0.0         0             0        964   \n",
              "817          NaN       2002.0       148.0         0             0       1689   \n",
              "302        118.0       2001.0       150.0         0             0       1541   \n",
              "\n",
              "     BsmtFullBath  BsmtHalfBath  FullBath  HalfBath  ...  1stFlrSF  LotArea  \\\n",
              "618             0             0         2         0  ...      1828    11694   \n",
              "870             0             0         1         0  ...       894     6600   \n",
              "92              1             0         1         0  ...       964    13360   \n",
              "817             1             0         2         0  ...      1689    13265   \n",
              "302             0             0         2         0  ...      1541    13704   \n",
              "\n",
              "     OverallQual  OverallCond  YearBuilt  YearRemodAdd  BsmtFinSF1  \\\n",
              "618            9            5       2007          2007          48   \n",
              "870            5            5       1962          1962           0   \n",
              "92             5            7       1921          2006         713   \n",
              "817            8            5       2002          2002        1218   \n",
              "302            7            5       2001          2002           0   \n",
              "\n",
              "     BsmtFinSF2  BsmtUnfSF  TotalBsmtSF  \n",
              "618           0       1774         1822  \n",
              "870           0        894          894  \n",
              "92            0        163          876  \n",
              "817           0        350         1568  \n",
              "302           0       1541         1541  \n",
              "\n",
              "[5 rows x 36 columns]"
            ],
            "text/html": [
              "\n",
              "  <div id=\"df-6fd7a231-50bf-4952-beff-35b6683cafce\">\n",
              "    <div class=\"colab-df-container\">\n",
              "      <div>\n",
              "<style scoped>\n",
              "    .dataframe tbody tr th:only-of-type {\n",
              "        vertical-align: middle;\n",
              "    }\n",
              "\n",
              "    .dataframe tbody tr th {\n",
              "        vertical-align: top;\n",
              "    }\n",
              "\n",
              "    .dataframe thead th {\n",
              "        text-align: right;\n",
              "    }\n",
              "</style>\n",
              "<table border=\"1\" class=\"dataframe\">\n",
              "  <thead>\n",
              "    <tr style=\"text-align: right;\">\n",
              "      <th></th>\n",
              "      <th>LotFrontage</th>\n",
              "      <th>GarageYrBlt</th>\n",
              "      <th>MasVnrArea</th>\n",
              "      <th>PoolArea</th>\n",
              "      <th>LowQualFinSF</th>\n",
              "      <th>GrLivArea</th>\n",
              "      <th>BsmtFullBath</th>\n",
              "      <th>BsmtHalfBath</th>\n",
              "      <th>FullBath</th>\n",
              "      <th>HalfBath</th>\n",
              "      <th>...</th>\n",
              "      <th>1stFlrSF</th>\n",
              "      <th>LotArea</th>\n",
              "      <th>OverallQual</th>\n",
              "      <th>OverallCond</th>\n",
              "      <th>YearBuilt</th>\n",
              "      <th>YearRemodAdd</th>\n",
              "      <th>BsmtFinSF1</th>\n",
              "      <th>BsmtFinSF2</th>\n",
              "      <th>BsmtUnfSF</th>\n",
              "      <th>TotalBsmtSF</th>\n",
              "    </tr>\n",
              "  </thead>\n",
              "  <tbody>\n",
              "    <tr>\n",
              "      <th>618</th>\n",
              "      <td>90.0</td>\n",
              "      <td>2007.0</td>\n",
              "      <td>452.0</td>\n",
              "      <td>0</td>\n",
              "      <td>0</td>\n",
              "      <td>1828</td>\n",
              "      <td>0</td>\n",
              "      <td>0</td>\n",
              "      <td>2</td>\n",
              "      <td>0</td>\n",
              "      <td>...</td>\n",
              "      <td>1828</td>\n",
              "      <td>11694</td>\n",
              "      <td>9</td>\n",
              "      <td>5</td>\n",
              "      <td>2007</td>\n",
              "      <td>2007</td>\n",
              "      <td>48</td>\n",
              "      <td>0</td>\n",
              "      <td>1774</td>\n",
              "      <td>1822</td>\n",
              "    </tr>\n",
              "    <tr>\n",
              "      <th>870</th>\n",
              "      <td>60.0</td>\n",
              "      <td>1962.0</td>\n",
              "      <td>0.0</td>\n",
              "      <td>0</td>\n",
              "      <td>0</td>\n",
              "      <td>894</td>\n",
              "      <td>0</td>\n",
              "      <td>0</td>\n",
              "      <td>1</td>\n",
              "      <td>0</td>\n",
              "      <td>...</td>\n",
              "      <td>894</td>\n",
              "      <td>6600</td>\n",
              "      <td>5</td>\n",
              "      <td>5</td>\n",
              "      <td>1962</td>\n",
              "      <td>1962</td>\n",
              "      <td>0</td>\n",
              "      <td>0</td>\n",
              "      <td>894</td>\n",
              "      <td>894</td>\n",
              "    </tr>\n",
              "    <tr>\n",
              "      <th>92</th>\n",
              "      <td>80.0</td>\n",
              "      <td>1921.0</td>\n",
              "      <td>0.0</td>\n",
              "      <td>0</td>\n",
              "      <td>0</td>\n",
              "      <td>964</td>\n",
              "      <td>1</td>\n",
              "      <td>0</td>\n",
              "      <td>1</td>\n",
              "      <td>0</td>\n",
              "      <td>...</td>\n",
              "      <td>964</td>\n",
              "      <td>13360</td>\n",
              "      <td>5</td>\n",
              "      <td>7</td>\n",
              "      <td>1921</td>\n",
              "      <td>2006</td>\n",
              "      <td>713</td>\n",
              "      <td>0</td>\n",
              "      <td>163</td>\n",
              "      <td>876</td>\n",
              "    </tr>\n",
              "    <tr>\n",
              "      <th>817</th>\n",
              "      <td>NaN</td>\n",
              "      <td>2002.0</td>\n",
              "      <td>148.0</td>\n",
              "      <td>0</td>\n",
              "      <td>0</td>\n",
              "      <td>1689</td>\n",
              "      <td>1</td>\n",
              "      <td>0</td>\n",
              "      <td>2</td>\n",
              "      <td>0</td>\n",
              "      <td>...</td>\n",
              "      <td>1689</td>\n",
              "      <td>13265</td>\n",
              "      <td>8</td>\n",
              "      <td>5</td>\n",
              "      <td>2002</td>\n",
              "      <td>2002</td>\n",
              "      <td>1218</td>\n",
              "      <td>0</td>\n",
              "      <td>350</td>\n",
              "      <td>1568</td>\n",
              "    </tr>\n",
              "    <tr>\n",
              "      <th>302</th>\n",
              "      <td>118.0</td>\n",
              "      <td>2001.0</td>\n",
              "      <td>150.0</td>\n",
              "      <td>0</td>\n",
              "      <td>0</td>\n",
              "      <td>1541</td>\n",
              "      <td>0</td>\n",
              "      <td>0</td>\n",
              "      <td>2</td>\n",
              "      <td>0</td>\n",
              "      <td>...</td>\n",
              "      <td>1541</td>\n",
              "      <td>13704</td>\n",
              "      <td>7</td>\n",
              "      <td>5</td>\n",
              "      <td>2001</td>\n",
              "      <td>2002</td>\n",
              "      <td>0</td>\n",
              "      <td>0</td>\n",
              "      <td>1541</td>\n",
              "      <td>1541</td>\n",
              "    </tr>\n",
              "  </tbody>\n",
              "</table>\n",
              "<p>5 rows × 36 columns</p>\n",
              "</div>\n",
              "      <button class=\"colab-df-convert\" onclick=\"convertToInteractive('df-6fd7a231-50bf-4952-beff-35b6683cafce')\"\n",
              "              title=\"Convert this dataframe to an interactive table.\"\n",
              "              style=\"display:none;\">\n",
              "        \n",
              "  <svg xmlns=\"http://www.w3.org/2000/svg\" height=\"24px\"viewBox=\"0 0 24 24\"\n",
              "       width=\"24px\">\n",
              "    <path d=\"M0 0h24v24H0V0z\" fill=\"none\"/>\n",
              "    <path d=\"M18.56 5.44l.94 2.06.94-2.06 2.06-.94-2.06-.94-.94-2.06-.94 2.06-2.06.94zm-11 1L8.5 8.5l.94-2.06 2.06-.94-2.06-.94L8.5 2.5l-.94 2.06-2.06.94zm10 10l.94 2.06.94-2.06 2.06-.94-2.06-.94-.94-2.06-.94 2.06-2.06.94z\"/><path d=\"M17.41 7.96l-1.37-1.37c-.4-.4-.92-.59-1.43-.59-.52 0-1.04.2-1.43.59L10.3 9.45l-7.72 7.72c-.78.78-.78 2.05 0 2.83L4 21.41c.39.39.9.59 1.41.59.51 0 1.02-.2 1.41-.59l7.78-7.78 2.81-2.81c.8-.78.8-2.07 0-2.86zM5.41 20L4 18.59l7.72-7.72 1.47 1.35L5.41 20z\"/>\n",
              "  </svg>\n",
              "      </button>\n",
              "      \n",
              "  <style>\n",
              "    .colab-df-container {\n",
              "      display:flex;\n",
              "      flex-wrap:wrap;\n",
              "      gap: 12px;\n",
              "    }\n",
              "\n",
              "    .colab-df-convert {\n",
              "      background-color: #E8F0FE;\n",
              "      border: none;\n",
              "      border-radius: 50%;\n",
              "      cursor: pointer;\n",
              "      display: none;\n",
              "      fill: #1967D2;\n",
              "      height: 32px;\n",
              "      padding: 0 0 0 0;\n",
              "      width: 32px;\n",
              "    }\n",
              "\n",
              "    .colab-df-convert:hover {\n",
              "      background-color: #E2EBFA;\n",
              "      box-shadow: 0px 1px 2px rgba(60, 64, 67, 0.3), 0px 1px 3px 1px rgba(60, 64, 67, 0.15);\n",
              "      fill: #174EA6;\n",
              "    }\n",
              "\n",
              "    [theme=dark] .colab-df-convert {\n",
              "      background-color: #3B4455;\n",
              "      fill: #D2E3FC;\n",
              "    }\n",
              "\n",
              "    [theme=dark] .colab-df-convert:hover {\n",
              "      background-color: #434B5C;\n",
              "      box-shadow: 0px 1px 3px 1px rgba(0, 0, 0, 0.15);\n",
              "      filter: drop-shadow(0px 1px 2px rgba(0, 0, 0, 0.3));\n",
              "      fill: #FFFFFF;\n",
              "    }\n",
              "  </style>\n",
              "\n",
              "      <script>\n",
              "        const buttonEl =\n",
              "          document.querySelector('#df-6fd7a231-50bf-4952-beff-35b6683cafce button.colab-df-convert');\n",
              "        buttonEl.style.display =\n",
              "          google.colab.kernel.accessAllowed ? 'block' : 'none';\n",
              "\n",
              "        async function convertToInteractive(key) {\n",
              "          const element = document.querySelector('#df-6fd7a231-50bf-4952-beff-35b6683cafce');\n",
              "          const dataTable =\n",
              "            await google.colab.kernel.invokeFunction('convertToInteractive',\n",
              "                                                     [key], {});\n",
              "          if (!dataTable) return;\n",
              "\n",
              "          const docLinkHtml = 'Like what you see? Visit the ' +\n",
              "            '<a target=\"_blank\" href=https://colab.research.google.com/notebooks/data_table.ipynb>data table notebook</a>'\n",
              "            + ' to learn more about interactive tables.';\n",
              "          element.innerHTML = '';\n",
              "          dataTable['output_type'] = 'display_data';\n",
              "          await google.colab.output.renderOutput(dataTable, element);\n",
              "          const docLink = document.createElement('div');\n",
              "          docLink.innerHTML = docLinkHtml;\n",
              "          element.appendChild(docLink);\n",
              "        }\n",
              "      </script>\n",
              "    </div>\n",
              "  </div>\n",
              "  "
            ]
          },
          "metadata": {},
          "execution_count": 51
        }
      ]
    },
    {
      "cell_type": "code",
      "source": [
        "X_train.iloc[:,:36].head()"
      ],
      "metadata": {
        "colab": {
          "base_uri": "https://localhost:8080/",
          "height": 299
        },
        "id": "HcNQA9GVOMMK",
        "outputId": "22cb68e4-cd2b-4070-f2fe-9875b43bd378"
      },
      "execution_count": null,
      "outputs": [
        {
          "output_type": "execute_result",
          "data": {
            "text/plain": [
              "     MSSubClass  LotFrontage  LotArea  OverallQual  OverallCond  YearBuilt  \\\n",
              "618          20         90.0    11694            9            5       2007   \n",
              "870          20         60.0     6600            5            5       1962   \n",
              "92           30         80.0    13360            5            7       1921   \n",
              "817          20          NaN    13265            8            5       2002   \n",
              "302          20        118.0    13704            7            5       2001   \n",
              "\n",
              "     YearRemodAdd  MasVnrArea  BsmtFinSF1  BsmtFinSF2  ...  GarageArea  \\\n",
              "618          2007       452.0          48           0  ...         774   \n",
              "870          1962         0.0           0           0  ...         308   \n",
              "92           2006         0.0         713           0  ...         432   \n",
              "817          2002       148.0        1218           0  ...         857   \n",
              "302          2002       150.0           0           0  ...         843   \n",
              "\n",
              "     WoodDeckSF  OpenPorchSF  EnclosedPorch  3SsnPorch  ScreenPorch  PoolArea  \\\n",
              "618           0          108              0          0          260         0   \n",
              "870           0            0              0          0            0         0   \n",
              "92            0            0             44          0            0         0   \n",
              "817         150           59              0          0            0         0   \n",
              "302         468           81              0          0            0         0   \n",
              "\n",
              "     MiscVal  MoSold  YrSold  \n",
              "618        0       7    2007  \n",
              "870        0       8    2009  \n",
              "92         0       8    2009  \n",
              "817        0       7    2008  \n",
              "302        0       1    2006  \n",
              "\n",
              "[5 rows x 36 columns]"
            ],
            "text/html": [
              "\n",
              "  <div id=\"df-e6e813cc-d839-4373-af02-140a6bfcb8dd\">\n",
              "    <div class=\"colab-df-container\">\n",
              "      <div>\n",
              "<style scoped>\n",
              "    .dataframe tbody tr th:only-of-type {\n",
              "        vertical-align: middle;\n",
              "    }\n",
              "\n",
              "    .dataframe tbody tr th {\n",
              "        vertical-align: top;\n",
              "    }\n",
              "\n",
              "    .dataframe thead th {\n",
              "        text-align: right;\n",
              "    }\n",
              "</style>\n",
              "<table border=\"1\" class=\"dataframe\">\n",
              "  <thead>\n",
              "    <tr style=\"text-align: right;\">\n",
              "      <th></th>\n",
              "      <th>MSSubClass</th>\n",
              "      <th>LotFrontage</th>\n",
              "      <th>LotArea</th>\n",
              "      <th>OverallQual</th>\n",
              "      <th>OverallCond</th>\n",
              "      <th>YearBuilt</th>\n",
              "      <th>YearRemodAdd</th>\n",
              "      <th>MasVnrArea</th>\n",
              "      <th>BsmtFinSF1</th>\n",
              "      <th>BsmtFinSF2</th>\n",
              "      <th>...</th>\n",
              "      <th>GarageArea</th>\n",
              "      <th>WoodDeckSF</th>\n",
              "      <th>OpenPorchSF</th>\n",
              "      <th>EnclosedPorch</th>\n",
              "      <th>3SsnPorch</th>\n",
              "      <th>ScreenPorch</th>\n",
              "      <th>PoolArea</th>\n",
              "      <th>MiscVal</th>\n",
              "      <th>MoSold</th>\n",
              "      <th>YrSold</th>\n",
              "    </tr>\n",
              "  </thead>\n",
              "  <tbody>\n",
              "    <tr>\n",
              "      <th>618</th>\n",
              "      <td>20</td>\n",
              "      <td>90.0</td>\n",
              "      <td>11694</td>\n",
              "      <td>9</td>\n",
              "      <td>5</td>\n",
              "      <td>2007</td>\n",
              "      <td>2007</td>\n",
              "      <td>452.0</td>\n",
              "      <td>48</td>\n",
              "      <td>0</td>\n",
              "      <td>...</td>\n",
              "      <td>774</td>\n",
              "      <td>0</td>\n",
              "      <td>108</td>\n",
              "      <td>0</td>\n",
              "      <td>0</td>\n",
              "      <td>260</td>\n",
              "      <td>0</td>\n",
              "      <td>0</td>\n",
              "      <td>7</td>\n",
              "      <td>2007</td>\n",
              "    </tr>\n",
              "    <tr>\n",
              "      <th>870</th>\n",
              "      <td>20</td>\n",
              "      <td>60.0</td>\n",
              "      <td>6600</td>\n",
              "      <td>5</td>\n",
              "      <td>5</td>\n",
              "      <td>1962</td>\n",
              "      <td>1962</td>\n",
              "      <td>0.0</td>\n",
              "      <td>0</td>\n",
              "      <td>0</td>\n",
              "      <td>...</td>\n",
              "      <td>308</td>\n",
              "      <td>0</td>\n",
              "      <td>0</td>\n",
              "      <td>0</td>\n",
              "      <td>0</td>\n",
              "      <td>0</td>\n",
              "      <td>0</td>\n",
              "      <td>0</td>\n",
              "      <td>8</td>\n",
              "      <td>2009</td>\n",
              "    </tr>\n",
              "    <tr>\n",
              "      <th>92</th>\n",
              "      <td>30</td>\n",
              "      <td>80.0</td>\n",
              "      <td>13360</td>\n",
              "      <td>5</td>\n",
              "      <td>7</td>\n",
              "      <td>1921</td>\n",
              "      <td>2006</td>\n",
              "      <td>0.0</td>\n",
              "      <td>713</td>\n",
              "      <td>0</td>\n",
              "      <td>...</td>\n",
              "      <td>432</td>\n",
              "      <td>0</td>\n",
              "      <td>0</td>\n",
              "      <td>44</td>\n",
              "      <td>0</td>\n",
              "      <td>0</td>\n",
              "      <td>0</td>\n",
              "      <td>0</td>\n",
              "      <td>8</td>\n",
              "      <td>2009</td>\n",
              "    </tr>\n",
              "    <tr>\n",
              "      <th>817</th>\n",
              "      <td>20</td>\n",
              "      <td>NaN</td>\n",
              "      <td>13265</td>\n",
              "      <td>8</td>\n",
              "      <td>5</td>\n",
              "      <td>2002</td>\n",
              "      <td>2002</td>\n",
              "      <td>148.0</td>\n",
              "      <td>1218</td>\n",
              "      <td>0</td>\n",
              "      <td>...</td>\n",
              "      <td>857</td>\n",
              "      <td>150</td>\n",
              "      <td>59</td>\n",
              "      <td>0</td>\n",
              "      <td>0</td>\n",
              "      <td>0</td>\n",
              "      <td>0</td>\n",
              "      <td>0</td>\n",
              "      <td>7</td>\n",
              "      <td>2008</td>\n",
              "    </tr>\n",
              "    <tr>\n",
              "      <th>302</th>\n",
              "      <td>20</td>\n",
              "      <td>118.0</td>\n",
              "      <td>13704</td>\n",
              "      <td>7</td>\n",
              "      <td>5</td>\n",
              "      <td>2001</td>\n",
              "      <td>2002</td>\n",
              "      <td>150.0</td>\n",
              "      <td>0</td>\n",
              "      <td>0</td>\n",
              "      <td>...</td>\n",
              "      <td>843</td>\n",
              "      <td>468</td>\n",
              "      <td>81</td>\n",
              "      <td>0</td>\n",
              "      <td>0</td>\n",
              "      <td>0</td>\n",
              "      <td>0</td>\n",
              "      <td>0</td>\n",
              "      <td>1</td>\n",
              "      <td>2006</td>\n",
              "    </tr>\n",
              "  </tbody>\n",
              "</table>\n",
              "<p>5 rows × 36 columns</p>\n",
              "</div>\n",
              "      <button class=\"colab-df-convert\" onclick=\"convertToInteractive('df-e6e813cc-d839-4373-af02-140a6bfcb8dd')\"\n",
              "              title=\"Convert this dataframe to an interactive table.\"\n",
              "              style=\"display:none;\">\n",
              "        \n",
              "  <svg xmlns=\"http://www.w3.org/2000/svg\" height=\"24px\"viewBox=\"0 0 24 24\"\n",
              "       width=\"24px\">\n",
              "    <path d=\"M0 0h24v24H0V0z\" fill=\"none\"/>\n",
              "    <path d=\"M18.56 5.44l.94 2.06.94-2.06 2.06-.94-2.06-.94-.94-2.06-.94 2.06-2.06.94zm-11 1L8.5 8.5l.94-2.06 2.06-.94-2.06-.94L8.5 2.5l-.94 2.06-2.06.94zm10 10l.94 2.06.94-2.06 2.06-.94-2.06-.94-.94-2.06-.94 2.06-2.06.94z\"/><path d=\"M17.41 7.96l-1.37-1.37c-.4-.4-.92-.59-1.43-.59-.52 0-1.04.2-1.43.59L10.3 9.45l-7.72 7.72c-.78.78-.78 2.05 0 2.83L4 21.41c.39.39.9.59 1.41.59.51 0 1.02-.2 1.41-.59l7.78-7.78 2.81-2.81c.8-.78.8-2.07 0-2.86zM5.41 20L4 18.59l7.72-7.72 1.47 1.35L5.41 20z\"/>\n",
              "  </svg>\n",
              "      </button>\n",
              "      \n",
              "  <style>\n",
              "    .colab-df-container {\n",
              "      display:flex;\n",
              "      flex-wrap:wrap;\n",
              "      gap: 12px;\n",
              "    }\n",
              "\n",
              "    .colab-df-convert {\n",
              "      background-color: #E8F0FE;\n",
              "      border: none;\n",
              "      border-radius: 50%;\n",
              "      cursor: pointer;\n",
              "      display: none;\n",
              "      fill: #1967D2;\n",
              "      height: 32px;\n",
              "      padding: 0 0 0 0;\n",
              "      width: 32px;\n",
              "    }\n",
              "\n",
              "    .colab-df-convert:hover {\n",
              "      background-color: #E2EBFA;\n",
              "      box-shadow: 0px 1px 2px rgba(60, 64, 67, 0.3), 0px 1px 3px 1px rgba(60, 64, 67, 0.15);\n",
              "      fill: #174EA6;\n",
              "    }\n",
              "\n",
              "    [theme=dark] .colab-df-convert {\n",
              "      background-color: #3B4455;\n",
              "      fill: #D2E3FC;\n",
              "    }\n",
              "\n",
              "    [theme=dark] .colab-df-convert:hover {\n",
              "      background-color: #434B5C;\n",
              "      box-shadow: 0px 1px 3px 1px rgba(0, 0, 0, 0.15);\n",
              "      filter: drop-shadow(0px 1px 2px rgba(0, 0, 0, 0.3));\n",
              "      fill: #FFFFFF;\n",
              "    }\n",
              "  </style>\n",
              "\n",
              "      <script>\n",
              "        const buttonEl =\n",
              "          document.querySelector('#df-e6e813cc-d839-4373-af02-140a6bfcb8dd button.colab-df-convert');\n",
              "        buttonEl.style.display =\n",
              "          google.colab.kernel.accessAllowed ? 'block' : 'none';\n",
              "\n",
              "        async function convertToInteractive(key) {\n",
              "          const element = document.querySelector('#df-e6e813cc-d839-4373-af02-140a6bfcb8dd');\n",
              "          const dataTable =\n",
              "            await google.colab.kernel.invokeFunction('convertToInteractive',\n",
              "                                                     [key], {});\n",
              "          if (!dataTable) return;\n",
              "\n",
              "          const docLinkHtml = 'Like what you see? Visit the ' +\n",
              "            '<a target=\"_blank\" href=https://colab.research.google.com/notebooks/data_table.ipynb>data table notebook</a>'\n",
              "            + ' to learn more about interactive tables.';\n",
              "          element.innerHTML = '';\n",
              "          dataTable['output_type'] = 'display_data';\n",
              "          await google.colab.output.renderOutput(dataTable, element);\n",
              "          const docLink = document.createElement('div');\n",
              "          docLink.innerHTML = docLinkHtml;\n",
              "          element.appendChild(docLink);\n",
              "        }\n",
              "      </script>\n",
              "    </div>\n",
              "  </div>\n",
              "  "
            ]
          },
          "metadata": {},
          "execution_count": 71
        }
      ]
    },
    {
      "cell_type": "code",
      "source": [
        "len(X_train.columns)"
      ],
      "metadata": {
        "colab": {
          "base_uri": "https://localhost:8080/"
        },
        "id": "I1rdzuR6S_im",
        "outputId": "a1198bc9-5900-4b00-8ecd-4d2b0bc59055"
      },
      "execution_count": null,
      "outputs": [
        {
          "output_type": "execute_result",
          "data": {
            "text/plain": [
              "74"
            ]
          },
          "metadata": {},
          "execution_count": 75
        }
      ]
    },
    {
      "cell_type": "code",
      "source": [
        "X_train.iloc[:,36:len(X_train.columns)].head()"
      ],
      "metadata": {
        "colab": {
          "base_uri": "https://localhost:8080/",
          "height": 299
        },
        "id": "lSSZ4cyISkKO",
        "outputId": "8c93d184-175a-45d4-83bc-b9bd61917951"
      },
      "execution_count": null,
      "outputs": [
        {
          "output_type": "execute_result",
          "data": {
            "text/plain": [
              "    MSZoning Street LotShape LandContour Utilities LotConfig LandSlope  \\\n",
              "618       RL   Pave      Reg         Lvl    AllPub    Inside       Gtl   \n",
              "870       RL   Pave      Reg         Lvl    AllPub    Inside       Gtl   \n",
              "92        RL   Pave      IR1         HLS    AllPub    Inside       Gtl   \n",
              "817       RL   Pave      IR1         Lvl    AllPub   CulDSac       Gtl   \n",
              "302       RL   Pave      IR1         Lvl    AllPub    Corner       Gtl   \n",
              "\n",
              "    Neighborhood Condition1 Condition2  ... Electrical KitchenQual Functional  \\\n",
              "618      NridgHt       Norm       Norm  ...      SBrkr          Gd        Typ   \n",
              "870        NAmes       PosN       Norm  ...      SBrkr          TA        Typ   \n",
              "92       Crawfor       Norm       Norm  ...      SBrkr          TA        Typ   \n",
              "817      Mitchel       Norm       Norm  ...      SBrkr          Gd        Typ   \n",
              "302      CollgCr       Norm       Norm  ...      SBrkr          Gd        Typ   \n",
              "\n",
              "    GarageType GarageFinish GarageQual GarageCond PavedDrive SaleType  \\\n",
              "618     Attchd          Unf         TA         TA          Y      New   \n",
              "870     Detchd          Unf         TA         TA          Y       WD   \n",
              "92      Detchd          Unf         TA         TA          Y       WD   \n",
              "817     Attchd          RFn         TA         TA          Y       WD   \n",
              "302     Attchd          RFn         TA         TA          Y       WD   \n",
              "\n",
              "    SaleCondition  \n",
              "618       Partial  \n",
              "870        Normal  \n",
              "92         Normal  \n",
              "817        Normal  \n",
              "302        Normal  \n",
              "\n",
              "[5 rows x 38 columns]"
            ],
            "text/html": [
              "\n",
              "  <div id=\"df-57fca2f1-3e51-4df1-aca8-aa82ea3df434\">\n",
              "    <div class=\"colab-df-container\">\n",
              "      <div>\n",
              "<style scoped>\n",
              "    .dataframe tbody tr th:only-of-type {\n",
              "        vertical-align: middle;\n",
              "    }\n",
              "\n",
              "    .dataframe tbody tr th {\n",
              "        vertical-align: top;\n",
              "    }\n",
              "\n",
              "    .dataframe thead th {\n",
              "        text-align: right;\n",
              "    }\n",
              "</style>\n",
              "<table border=\"1\" class=\"dataframe\">\n",
              "  <thead>\n",
              "    <tr style=\"text-align: right;\">\n",
              "      <th></th>\n",
              "      <th>MSZoning</th>\n",
              "      <th>Street</th>\n",
              "      <th>LotShape</th>\n",
              "      <th>LandContour</th>\n",
              "      <th>Utilities</th>\n",
              "      <th>LotConfig</th>\n",
              "      <th>LandSlope</th>\n",
              "      <th>Neighborhood</th>\n",
              "      <th>Condition1</th>\n",
              "      <th>Condition2</th>\n",
              "      <th>...</th>\n",
              "      <th>Electrical</th>\n",
              "      <th>KitchenQual</th>\n",
              "      <th>Functional</th>\n",
              "      <th>GarageType</th>\n",
              "      <th>GarageFinish</th>\n",
              "      <th>GarageQual</th>\n",
              "      <th>GarageCond</th>\n",
              "      <th>PavedDrive</th>\n",
              "      <th>SaleType</th>\n",
              "      <th>SaleCondition</th>\n",
              "    </tr>\n",
              "  </thead>\n",
              "  <tbody>\n",
              "    <tr>\n",
              "      <th>618</th>\n",
              "      <td>RL</td>\n",
              "      <td>Pave</td>\n",
              "      <td>Reg</td>\n",
              "      <td>Lvl</td>\n",
              "      <td>AllPub</td>\n",
              "      <td>Inside</td>\n",
              "      <td>Gtl</td>\n",
              "      <td>NridgHt</td>\n",
              "      <td>Norm</td>\n",
              "      <td>Norm</td>\n",
              "      <td>...</td>\n",
              "      <td>SBrkr</td>\n",
              "      <td>Gd</td>\n",
              "      <td>Typ</td>\n",
              "      <td>Attchd</td>\n",
              "      <td>Unf</td>\n",
              "      <td>TA</td>\n",
              "      <td>TA</td>\n",
              "      <td>Y</td>\n",
              "      <td>New</td>\n",
              "      <td>Partial</td>\n",
              "    </tr>\n",
              "    <tr>\n",
              "      <th>870</th>\n",
              "      <td>RL</td>\n",
              "      <td>Pave</td>\n",
              "      <td>Reg</td>\n",
              "      <td>Lvl</td>\n",
              "      <td>AllPub</td>\n",
              "      <td>Inside</td>\n",
              "      <td>Gtl</td>\n",
              "      <td>NAmes</td>\n",
              "      <td>PosN</td>\n",
              "      <td>Norm</td>\n",
              "      <td>...</td>\n",
              "      <td>SBrkr</td>\n",
              "      <td>TA</td>\n",
              "      <td>Typ</td>\n",
              "      <td>Detchd</td>\n",
              "      <td>Unf</td>\n",
              "      <td>TA</td>\n",
              "      <td>TA</td>\n",
              "      <td>Y</td>\n",
              "      <td>WD</td>\n",
              "      <td>Normal</td>\n",
              "    </tr>\n",
              "    <tr>\n",
              "      <th>92</th>\n",
              "      <td>RL</td>\n",
              "      <td>Pave</td>\n",
              "      <td>IR1</td>\n",
              "      <td>HLS</td>\n",
              "      <td>AllPub</td>\n",
              "      <td>Inside</td>\n",
              "      <td>Gtl</td>\n",
              "      <td>Crawfor</td>\n",
              "      <td>Norm</td>\n",
              "      <td>Norm</td>\n",
              "      <td>...</td>\n",
              "      <td>SBrkr</td>\n",
              "      <td>TA</td>\n",
              "      <td>Typ</td>\n",
              "      <td>Detchd</td>\n",
              "      <td>Unf</td>\n",
              "      <td>TA</td>\n",
              "      <td>TA</td>\n",
              "      <td>Y</td>\n",
              "      <td>WD</td>\n",
              "      <td>Normal</td>\n",
              "    </tr>\n",
              "    <tr>\n",
              "      <th>817</th>\n",
              "      <td>RL</td>\n",
              "      <td>Pave</td>\n",
              "      <td>IR1</td>\n",
              "      <td>Lvl</td>\n",
              "      <td>AllPub</td>\n",
              "      <td>CulDSac</td>\n",
              "      <td>Gtl</td>\n",
              "      <td>Mitchel</td>\n",
              "      <td>Norm</td>\n",
              "      <td>Norm</td>\n",
              "      <td>...</td>\n",
              "      <td>SBrkr</td>\n",
              "      <td>Gd</td>\n",
              "      <td>Typ</td>\n",
              "      <td>Attchd</td>\n",
              "      <td>RFn</td>\n",
              "      <td>TA</td>\n",
              "      <td>TA</td>\n",
              "      <td>Y</td>\n",
              "      <td>WD</td>\n",
              "      <td>Normal</td>\n",
              "    </tr>\n",
              "    <tr>\n",
              "      <th>302</th>\n",
              "      <td>RL</td>\n",
              "      <td>Pave</td>\n",
              "      <td>IR1</td>\n",
              "      <td>Lvl</td>\n",
              "      <td>AllPub</td>\n",
              "      <td>Corner</td>\n",
              "      <td>Gtl</td>\n",
              "      <td>CollgCr</td>\n",
              "      <td>Norm</td>\n",
              "      <td>Norm</td>\n",
              "      <td>...</td>\n",
              "      <td>SBrkr</td>\n",
              "      <td>Gd</td>\n",
              "      <td>Typ</td>\n",
              "      <td>Attchd</td>\n",
              "      <td>RFn</td>\n",
              "      <td>TA</td>\n",
              "      <td>TA</td>\n",
              "      <td>Y</td>\n",
              "      <td>WD</td>\n",
              "      <td>Normal</td>\n",
              "    </tr>\n",
              "  </tbody>\n",
              "</table>\n",
              "<p>5 rows × 38 columns</p>\n",
              "</div>\n",
              "      <button class=\"colab-df-convert\" onclick=\"convertToInteractive('df-57fca2f1-3e51-4df1-aca8-aa82ea3df434')\"\n",
              "              title=\"Convert this dataframe to an interactive table.\"\n",
              "              style=\"display:none;\">\n",
              "        \n",
              "  <svg xmlns=\"http://www.w3.org/2000/svg\" height=\"24px\"viewBox=\"0 0 24 24\"\n",
              "       width=\"24px\">\n",
              "    <path d=\"M0 0h24v24H0V0z\" fill=\"none\"/>\n",
              "    <path d=\"M18.56 5.44l.94 2.06.94-2.06 2.06-.94-2.06-.94-.94-2.06-.94 2.06-2.06.94zm-11 1L8.5 8.5l.94-2.06 2.06-.94-2.06-.94L8.5 2.5l-.94 2.06-2.06.94zm10 10l.94 2.06.94-2.06 2.06-.94-2.06-.94-.94-2.06-.94 2.06-2.06.94z\"/><path d=\"M17.41 7.96l-1.37-1.37c-.4-.4-.92-.59-1.43-.59-.52 0-1.04.2-1.43.59L10.3 9.45l-7.72 7.72c-.78.78-.78 2.05 0 2.83L4 21.41c.39.39.9.59 1.41.59.51 0 1.02-.2 1.41-.59l7.78-7.78 2.81-2.81c.8-.78.8-2.07 0-2.86zM5.41 20L4 18.59l7.72-7.72 1.47 1.35L5.41 20z\"/>\n",
              "  </svg>\n",
              "      </button>\n",
              "      \n",
              "  <style>\n",
              "    .colab-df-container {\n",
              "      display:flex;\n",
              "      flex-wrap:wrap;\n",
              "      gap: 12px;\n",
              "    }\n",
              "\n",
              "    .colab-df-convert {\n",
              "      background-color: #E8F0FE;\n",
              "      border: none;\n",
              "      border-radius: 50%;\n",
              "      cursor: pointer;\n",
              "      display: none;\n",
              "      fill: #1967D2;\n",
              "      height: 32px;\n",
              "      padding: 0 0 0 0;\n",
              "      width: 32px;\n",
              "    }\n",
              "\n",
              "    .colab-df-convert:hover {\n",
              "      background-color: #E2EBFA;\n",
              "      box-shadow: 0px 1px 2px rgba(60, 64, 67, 0.3), 0px 1px 3px 1px rgba(60, 64, 67, 0.15);\n",
              "      fill: #174EA6;\n",
              "    }\n",
              "\n",
              "    [theme=dark] .colab-df-convert {\n",
              "      background-color: #3B4455;\n",
              "      fill: #D2E3FC;\n",
              "    }\n",
              "\n",
              "    [theme=dark] .colab-df-convert:hover {\n",
              "      background-color: #434B5C;\n",
              "      box-shadow: 0px 1px 3px 1px rgba(0, 0, 0, 0.15);\n",
              "      filter: drop-shadow(0px 1px 2px rgba(0, 0, 0, 0.3));\n",
              "      fill: #FFFFFF;\n",
              "    }\n",
              "  </style>\n",
              "\n",
              "      <script>\n",
              "        const buttonEl =\n",
              "          document.querySelector('#df-57fca2f1-3e51-4df1-aca8-aa82ea3df434 button.colab-df-convert');\n",
              "        buttonEl.style.display =\n",
              "          google.colab.kernel.accessAllowed ? 'block' : 'none';\n",
              "\n",
              "        async function convertToInteractive(key) {\n",
              "          const element = document.querySelector('#df-57fca2f1-3e51-4df1-aca8-aa82ea3df434');\n",
              "          const dataTable =\n",
              "            await google.colab.kernel.invokeFunction('convertToInteractive',\n",
              "                                                     [key], {});\n",
              "          if (!dataTable) return;\n",
              "\n",
              "          const docLinkHtml = 'Like what you see? Visit the ' +\n",
              "            '<a target=\"_blank\" href=https://colab.research.google.com/notebooks/data_table.ipynb>data table notebook</a>'\n",
              "            + ' to learn more about interactive tables.';\n",
              "          element.innerHTML = '';\n",
              "          dataTable['output_type'] = 'display_data';\n",
              "          await google.colab.output.renderOutput(dataTable, element);\n",
              "          const docLink = document.createElement('div');\n",
              "          docLink.innerHTML = docLinkHtml;\n",
              "          element.appendChild(docLink);\n",
              "        }\n",
              "      </script>\n",
              "    </div>\n",
              "  </div>\n",
              "  "
            ]
          },
          "metadata": {},
          "execution_count": 76
        }
      ]
    },
    {
      "cell_type": "code",
      "source": [
        "# List slicing\n",
        "L = [0,1, 2, 3, 4, 5]\n",
        "s1 = slice(3)\n",
        "s2 = slice(1,4)\n",
        "\n",
        "print(\"List slicing\")\n",
        "print(L[s1])\n",
        "print(L[s2])"
      ],
      "metadata": {
        "colab": {
          "base_uri": "https://localhost:8080/"
        },
        "id": "HeFUvkXDVTU1",
        "outputId": "8f499927-ad71-47e7-8b59-50e75042a812"
      },
      "execution_count": null,
      "outputs": [
        {
          "output_type": "stream",
          "name": "stdout",
          "text": [
            "List slicing\n",
            "[0, 1, 2]\n",
            "[1, 2, 3]\n"
          ]
        }
      ]
    },
    {
      "cell_type": "code",
      "source": [
        "\n",
        "ct_imputation = ColumnTransformer([\n",
        "    ('mean_imputer',SimpleImputer(strategy = \"mean\"),slice(0,36)),\n",
        "    ('mode_imputer',SimpleImputer(strategy='most_frequent'),slice(36,len(X_train.columns)))\n",
        "],remainder# imputation column transformer='passthrough')"
      ],
      "metadata": {
        "id": "7WZ9wny3PpHk"
      },
      "execution_count": null,
      "outputs": []
    },
    {
      "cell_type": "code",
      "source": [
        "# one hot encoding\n",
        "ct_ohe = ColumnTransformer([\n",
        "    ('ohe_cat_columns',OneHotEncoder(sparse=False,handle_unknown='ignore'),slice(36,len(X_train.columns)))\n",
        "],remainder='passthrough')"
      ],
      "metadata": {
        "id": "u0ZofPHbTUAr"
      },
      "execution_count": null,
      "outputs": []
    },
    {
      "cell_type": "code",
      "source": [
        "# Scaling\n",
        "ct_scale = ColumnTransformer([\n",
        "    ('scale',MinMaxScaler(),slice(0,36))\n",
        "])"
      ],
      "metadata": {
        "id": "PGgfTfGkUHUm"
      },
      "execution_count": null,
      "outputs": []
    },
    {
      "cell_type": "code",
      "source": [
        "# define the model\n",
        "model = RandomForestRegressor(n_estimators=100, random_state=0)"
      ],
      "metadata": {
        "id": "82eaAdzXT2Cl"
      },
      "execution_count": null,
      "outputs": []
    },
    {
      "cell_type": "markdown",
      "source": [
        "Transforming on column name basis\n",
        "\n",
        "![1584450419539.jpg](data:image/jpeg;base64,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)\n"
      ],
      "metadata": {
        "id": "IelrFN0YgQdY"
      }
    },
    {
      "cell_type": "code",
      "source": [
        "# imputation column transformer\n",
        "ct_imputation = ColumnTransformer([\n",
        "    ('mean_imputer',SimpleImputer(strategy = \"mean\"),num_col),\n",
        "    ('mode_imputer',SimpleImputer(strategy='most_frequent'),cat_col)\n",
        "],remainder='passthrough')"
      ],
      "metadata": {
        "id": "y3wKMqtCgilI"
      },
      "execution_count": null,
      "outputs": []
    },
    {
      "cell_type": "code",
      "source": [
        "a = ct_imputation.fit_transform(X_train)\n",
        "a\n"
      ],
      "metadata": {
        "colab": {
          "base_uri": "https://localhost:8080/"
        },
        "id": "ndb3MthOguS5",
        "outputId": "240bae83-8499-4b87-b28a-ab226eaf9555"
      },
      "execution_count": null,
      "outputs": [
        {
          "output_type": "execute_result",
          "data": {
            "text/plain": [
              "array([[90.0, 2007.0, 452.0, ..., 'RL', 'Ex', 'Partial'],\n",
              "       [60.0, 1962.0, 0.0, ..., 'RL', 'Gd', 'Normal'],\n",
              "       [80.0, 1921.0, 0.0, ..., 'RL', 'Ex', 'Normal'],\n",
              "       ...,\n",
              "       [68.0, 1978.0, 0.0, ..., 'RM', 'TA', 'Normal'],\n",
              "       [69.61401673640168, 2003.0, 18.0, ..., 'RL', 'Ex', 'Normal'],\n",
              "       [58.0, 1998.0, 30.0, ..., 'RL', 'Gd', 'Normal']], dtype=object)"
            ]
          },
          "metadata": {},
          "execution_count": 51
        }
      ]
    },
    {
      "cell_type": "code",
      "source": [
        "pd.DataFrame(ct_imputation.fit_transform(X_train)).isnull().sum().sort_values(ascending = False)\n"
      ],
      "metadata": {
        "colab": {
          "base_uri": "https://localhost:8080/"
        },
        "outputId": "63c2b61e-4fcc-4e35-9f2d-3e61cb47d234",
        "id": "CmZuQ_qilolo"
      },
      "execution_count": null,
      "outputs": [
        {
          "output_type": "execute_result",
          "data": {
            "text/plain": [
              "0     0\n",
              "55    0\n",
              "53    0\n",
              "52    0\n",
              "51    0\n",
              "     ..\n",
              "24    0\n",
              "23    0\n",
              "22    0\n",
              "21    0\n",
              "73    0\n",
              "Length: 74, dtype: int64"
            ]
          },
          "metadata": {},
          "execution_count": 52
        }
      ]
    },
    {
      "cell_type": "code",
      "source": [
        "# make pipeline\n",
        "pipe = Pipeline(steps = [\n",
        "    ('ct_imputation',ct_imputation),\n",
        "    ('ct_ohe',ct_ohe),\n",
        "    ('ct_scale',ct_scale),\n",
        "    # ('model',model)\n",
        "])"
      ],
      "metadata": {
        "id": "j95Hd9AiU5MI"
      },
      "execution_count": null,
      "outputs": []
    },
    {
      "cell_type": "code",
      "source": [
        "# train\n",
        "pipe.fit(X_train,y_train)"
      ],
      "metadata": {
        "colab": {
          "base_uri": "https://localhost:8080/",
          "height": 410
        },
        "id": "NJvDDJcbRLhJ",
        "outputId": "7e33c77b-30fe-4e6b-90fc-8b9d818b3668"
      },
      "execution_count": null,
      "outputs": [
        {
          "output_type": "stream",
          "name": "stderr",
          "text": [
            "/usr/local/lib/python3.10/dist-packages/sklearn/preprocessing/_encoders.py:868: FutureWarning: `sparse` was renamed to `sparse_output` in version 1.2 and will be removed in 1.4. `sparse_output` is ignored unless you leave `sparse` to its default value.\n",
            "  warnings.warn(\n"
          ]
        },
        {
          "output_type": "execute_result",
          "data": {
            "text/plain": [
              "Pipeline(steps=[('ct_imputation',\n",
              "                 ColumnTransformer(remainder='passthrough',\n",
              "                                   transformers=[('mean_imputer',\n",
              "                                                  SimpleImputer(),\n",
              "                                                  slice(0, 36, None)),\n",
              "                                                 ('mode_imputer',\n",
              "                                                  SimpleImputer(strategy='most_frequent'),\n",
              "                                                  slice(36, 74, None))])),\n",
              "                ('ct_ohe',\n",
              "                 ColumnTransformer(remainder='passthrough',\n",
              "                                   transformers=[('ohe_cat_columns',\n",
              "                                                  OneHotEncoder(handle_unknown='ignore',\n",
              "                                                                sparse=False),\n",
              "                                                  slice(36, 74, None))])),\n",
              "                ('ct_scale',\n",
              "                 ColumnTransformer(transformers=[('scale', MinMaxScaler(),\n",
              "                                                  slice(0, 36, None))]))])"
            ],
            "text/html": [
              "<style>#sk-container-id-5 {color: black;background-color: white;}#sk-container-id-5 pre{padding: 0;}#sk-container-id-5 div.sk-toggleable {background-color: white;}#sk-container-id-5 label.sk-toggleable__label {cursor: pointer;display: block;width: 100%;margin-bottom: 0;padding: 0.3em;box-sizing: border-box;text-align: center;}#sk-container-id-5 label.sk-toggleable__label-arrow:before {content: \"▸\";float: left;margin-right: 0.25em;color: #696969;}#sk-container-id-5 label.sk-toggleable__label-arrow:hover:before {color: black;}#sk-container-id-5 div.sk-estimator:hover label.sk-toggleable__label-arrow:before {color: black;}#sk-container-id-5 div.sk-toggleable__content {max-height: 0;max-width: 0;overflow: hidden;text-align: left;background-color: #f0f8ff;}#sk-container-id-5 div.sk-toggleable__content pre {margin: 0.2em;color: black;border-radius: 0.25em;background-color: #f0f8ff;}#sk-container-id-5 input.sk-toggleable__control:checked~div.sk-toggleable__content {max-height: 200px;max-width: 100%;overflow: auto;}#sk-container-id-5 input.sk-toggleable__control:checked~label.sk-toggleable__label-arrow:before {content: \"▾\";}#sk-container-id-5 div.sk-estimator input.sk-toggleable__control:checked~label.sk-toggleable__label {background-color: #d4ebff;}#sk-container-id-5 div.sk-label input.sk-toggleable__control:checked~label.sk-toggleable__label {background-color: #d4ebff;}#sk-container-id-5 input.sk-hidden--visually {border: 0;clip: rect(1px 1px 1px 1px);clip: rect(1px, 1px, 1px, 1px);height: 1px;margin: -1px;overflow: hidden;padding: 0;position: absolute;width: 1px;}#sk-container-id-5 div.sk-estimator {font-family: monospace;background-color: #f0f8ff;border: 1px dotted black;border-radius: 0.25em;box-sizing: border-box;margin-bottom: 0.5em;}#sk-container-id-5 div.sk-estimator:hover {background-color: #d4ebff;}#sk-container-id-5 div.sk-parallel-item::after {content: \"\";width: 100%;border-bottom: 1px solid gray;flex-grow: 1;}#sk-container-id-5 div.sk-label:hover label.sk-toggleable__label {background-color: #d4ebff;}#sk-container-id-5 div.sk-serial::before {content: \"\";position: absolute;border-left: 1px solid gray;box-sizing: border-box;top: 0;bottom: 0;left: 50%;z-index: 0;}#sk-container-id-5 div.sk-serial {display: flex;flex-direction: column;align-items: center;background-color: white;padding-right: 0.2em;padding-left: 0.2em;position: relative;}#sk-container-id-5 div.sk-item {position: relative;z-index: 1;}#sk-container-id-5 div.sk-parallel {display: flex;align-items: stretch;justify-content: center;background-color: white;position: relative;}#sk-container-id-5 div.sk-item::before, #sk-container-id-5 div.sk-parallel-item::before {content: \"\";position: absolute;border-left: 1px solid gray;box-sizing: border-box;top: 0;bottom: 0;left: 50%;z-index: -1;}#sk-container-id-5 div.sk-parallel-item {display: flex;flex-direction: column;z-index: 1;position: relative;background-color: white;}#sk-container-id-5 div.sk-parallel-item:first-child::after {align-self: flex-end;width: 50%;}#sk-container-id-5 div.sk-parallel-item:last-child::after {align-self: flex-start;width: 50%;}#sk-container-id-5 div.sk-parallel-item:only-child::after {width: 0;}#sk-container-id-5 div.sk-dashed-wrapped {border: 1px dashed gray;margin: 0 0.4em 0.5em 0.4em;box-sizing: border-box;padding-bottom: 0.4em;background-color: white;}#sk-container-id-5 div.sk-label label {font-family: monospace;font-weight: bold;display: inline-block;line-height: 1.2em;}#sk-container-id-5 div.sk-label-container {text-align: center;}#sk-container-id-5 div.sk-container {/* jupyter's `normalize.less` sets `[hidden] { display: none; }` but bootstrap.min.css set `[hidden] { display: none !important; }` so we also need the `!important` here to be able to override the default hidden behavior on the sphinx rendered scikit-learn.org. See: https://github.com/scikit-learn/scikit-learn/issues/21755 */display: inline-block !important;position: relative;}#sk-container-id-5 div.sk-text-repr-fallback {display: none;}</style><div id=\"sk-container-id-5\" class=\"sk-top-container\"><div class=\"sk-text-repr-fallback\"><pre>Pipeline(steps=[(&#x27;ct_imputation&#x27;,\n",
              "                 ColumnTransformer(remainder=&#x27;passthrough&#x27;,\n",
              "                                   transformers=[(&#x27;mean_imputer&#x27;,\n",
              "                                                  SimpleImputer(),\n",
              "                                                  slice(0, 36, None)),\n",
              "                                                 (&#x27;mode_imputer&#x27;,\n",
              "                                                  SimpleImputer(strategy=&#x27;most_frequent&#x27;),\n",
              "                                                  slice(36, 74, None))])),\n",
              "                (&#x27;ct_ohe&#x27;,\n",
              "                 ColumnTransformer(remainder=&#x27;passthrough&#x27;,\n",
              "                                   transformers=[(&#x27;ohe_cat_columns&#x27;,\n",
              "                                                  OneHotEncoder(handle_unknown=&#x27;ignore&#x27;,\n",
              "                                                                sparse=False),\n",
              "                                                  slice(36, 74, None))])),\n",
              "                (&#x27;ct_scale&#x27;,\n",
              "                 ColumnTransformer(transformers=[(&#x27;scale&#x27;, MinMaxScaler(),\n",
              "                                                  slice(0, 36, None))]))])</pre><b>In a Jupyter environment, please rerun this cell to show the HTML representation or trust the notebook. <br />On GitHub, the HTML representation is unable to render, please try loading this page with nbviewer.org.</b></div><div class=\"sk-container\" hidden><div class=\"sk-item sk-dashed-wrapped\"><div class=\"sk-label-container\"><div class=\"sk-label sk-toggleable\"><input class=\"sk-toggleable__control sk-hidden--visually\" id=\"sk-estimator-id-43\" type=\"checkbox\" ><label for=\"sk-estimator-id-43\" class=\"sk-toggleable__label sk-toggleable__label-arrow\">Pipeline</label><div class=\"sk-toggleable__content\"><pre>Pipeline(steps=[(&#x27;ct_imputation&#x27;,\n",
              "                 ColumnTransformer(remainder=&#x27;passthrough&#x27;,\n",
              "                                   transformers=[(&#x27;mean_imputer&#x27;,\n",
              "                                                  SimpleImputer(),\n",
              "                                                  slice(0, 36, None)),\n",
              "                                                 (&#x27;mode_imputer&#x27;,\n",
              "                                                  SimpleImputer(strategy=&#x27;most_frequent&#x27;),\n",
              "                                                  slice(36, 74, None))])),\n",
              "                (&#x27;ct_ohe&#x27;,\n",
              "                 ColumnTransformer(remainder=&#x27;passthrough&#x27;,\n",
              "                                   transformers=[(&#x27;ohe_cat_columns&#x27;,\n",
              "                                                  OneHotEncoder(handle_unknown=&#x27;ignore&#x27;,\n",
              "                                                                sparse=False),\n",
              "                                                  slice(36, 74, None))])),\n",
              "                (&#x27;ct_scale&#x27;,\n",
              "                 ColumnTransformer(transformers=[(&#x27;scale&#x27;, MinMaxScaler(),\n",
              "                                                  slice(0, 36, None))]))])</pre></div></div></div><div class=\"sk-serial\"><div class=\"sk-item sk-dashed-wrapped\"><div class=\"sk-label-container\"><div class=\"sk-label sk-toggleable\"><input class=\"sk-toggleable__control sk-hidden--visually\" id=\"sk-estimator-id-44\" type=\"checkbox\" ><label for=\"sk-estimator-id-44\" class=\"sk-toggleable__label sk-toggleable__label-arrow\">ct_imputation: ColumnTransformer</label><div class=\"sk-toggleable__content\"><pre>ColumnTransformer(remainder=&#x27;passthrough&#x27;,\n",
              "                  transformers=[(&#x27;mean_imputer&#x27;, SimpleImputer(),\n",
              "                                 slice(0, 36, None)),\n",
              "                                (&#x27;mode_imputer&#x27;,\n",
              "                                 SimpleImputer(strategy=&#x27;most_frequent&#x27;),\n",
              "                                 slice(36, 74, None))])</pre></div></div></div><div class=\"sk-parallel\"><div class=\"sk-parallel-item\"><div class=\"sk-item\"><div class=\"sk-label-container\"><div class=\"sk-label sk-toggleable\"><input class=\"sk-toggleable__control sk-hidden--visually\" id=\"sk-estimator-id-45\" type=\"checkbox\" ><label for=\"sk-estimator-id-45\" class=\"sk-toggleable__label sk-toggleable__label-arrow\">mean_imputer</label><div class=\"sk-toggleable__content\"><pre>slice(0, 36, None)</pre></div></div></div><div class=\"sk-serial\"><div class=\"sk-item\"><div class=\"sk-estimator sk-toggleable\"><input class=\"sk-toggleable__control sk-hidden--visually\" id=\"sk-estimator-id-46\" type=\"checkbox\" ><label for=\"sk-estimator-id-46\" class=\"sk-toggleable__label sk-toggleable__label-arrow\">SimpleImputer</label><div class=\"sk-toggleable__content\"><pre>SimpleImputer()</pre></div></div></div></div></div></div><div class=\"sk-parallel-item\"><div class=\"sk-item\"><div class=\"sk-label-container\"><div class=\"sk-label sk-toggleable\"><input class=\"sk-toggleable__control sk-hidden--visually\" id=\"sk-estimator-id-47\" type=\"checkbox\" ><label for=\"sk-estimator-id-47\" class=\"sk-toggleable__label sk-toggleable__label-arrow\">mode_imputer</label><div class=\"sk-toggleable__content\"><pre>slice(36, 74, None)</pre></div></div></div><div class=\"sk-serial\"><div class=\"sk-item\"><div class=\"sk-estimator sk-toggleable\"><input class=\"sk-toggleable__control sk-hidden--visually\" id=\"sk-estimator-id-48\" type=\"checkbox\" ><label for=\"sk-estimator-id-48\" class=\"sk-toggleable__label sk-toggleable__label-arrow\">SimpleImputer</label><div class=\"sk-toggleable__content\"><pre>SimpleImputer(strategy=&#x27;most_frequent&#x27;)</pre></div></div></div></div></div></div><div class=\"sk-parallel-item\"><div class=\"sk-item\"><div class=\"sk-label-container\"><div class=\"sk-label sk-toggleable\"><input class=\"sk-toggleable__control sk-hidden--visually\" id=\"sk-estimator-id-49\" type=\"checkbox\" ><label for=\"sk-estimator-id-49\" class=\"sk-toggleable__label sk-toggleable__label-arrow\">remainder</label><div class=\"sk-toggleable__content\"><pre>[]</pre></div></div></div><div class=\"sk-serial\"><div class=\"sk-item\"><div class=\"sk-estimator sk-toggleable\"><input class=\"sk-toggleable__control sk-hidden--visually\" id=\"sk-estimator-id-50\" type=\"checkbox\" ><label for=\"sk-estimator-id-50\" class=\"sk-toggleable__label sk-toggleable__label-arrow\">passthrough</label><div class=\"sk-toggleable__content\"><pre>passthrough</pre></div></div></div></div></div></div></div></div><div class=\"sk-item sk-dashed-wrapped\"><div class=\"sk-label-container\"><div class=\"sk-label sk-toggleable\"><input class=\"sk-toggleable__control sk-hidden--visually\" id=\"sk-estimator-id-51\" type=\"checkbox\" ><label for=\"sk-estimator-id-51\" class=\"sk-toggleable__label sk-toggleable__label-arrow\">ct_ohe: ColumnTransformer</label><div class=\"sk-toggleable__content\"><pre>ColumnTransformer(remainder=&#x27;passthrough&#x27;,\n",
              "                  transformers=[(&#x27;ohe_cat_columns&#x27;,\n",
              "                                 OneHotEncoder(handle_unknown=&#x27;ignore&#x27;,\n",
              "                                               sparse=False),\n",
              "                                 slice(36, 74, None))])</pre></div></div></div><div class=\"sk-parallel\"><div class=\"sk-parallel-item\"><div class=\"sk-item\"><div class=\"sk-label-container\"><div class=\"sk-label sk-toggleable\"><input class=\"sk-toggleable__control sk-hidden--visually\" id=\"sk-estimator-id-52\" type=\"checkbox\" ><label for=\"sk-estimator-id-52\" class=\"sk-toggleable__label sk-toggleable__label-arrow\">ohe_cat_columns</label><div class=\"sk-toggleable__content\"><pre>slice(36, 74, None)</pre></div></div></div><div class=\"sk-serial\"><div class=\"sk-item\"><div class=\"sk-estimator sk-toggleable\"><input class=\"sk-toggleable__control sk-hidden--visually\" id=\"sk-estimator-id-53\" type=\"checkbox\" ><label for=\"sk-estimator-id-53\" class=\"sk-toggleable__label sk-toggleable__label-arrow\">OneHotEncoder</label><div class=\"sk-toggleable__content\"><pre>OneHotEncoder(handle_unknown=&#x27;ignore&#x27;, sparse=False)</pre></div></div></div></div></div></div><div class=\"sk-parallel-item\"><div class=\"sk-item\"><div class=\"sk-label-container\"><div class=\"sk-label sk-toggleable\"><input class=\"sk-toggleable__control sk-hidden--visually\" id=\"sk-estimator-id-54\" type=\"checkbox\" ><label for=\"sk-estimator-id-54\" class=\"sk-toggleable__label sk-toggleable__label-arrow\">remainder</label><div class=\"sk-toggleable__content\"><pre>[0, 1, 2, 3, 4, 5, 6, 7, 8, 9, 10, 11, 12, 13, 14, 15, 16, 17, 18, 19, 20, 21, 22, 23, 24, 25, 26, 27, 28, 29, 30, 31, 32, 33, 34, 35]</pre></div></div></div><div class=\"sk-serial\"><div class=\"sk-item\"><div class=\"sk-estimator sk-toggleable\"><input class=\"sk-toggleable__control sk-hidden--visually\" id=\"sk-estimator-id-55\" type=\"checkbox\" ><label for=\"sk-estimator-id-55\" class=\"sk-toggleable__label sk-toggleable__label-arrow\">passthrough</label><div class=\"sk-toggleable__content\"><pre>passthrough</pre></div></div></div></div></div></div></div></div><div class=\"sk-item sk-dashed-wrapped\"><div class=\"sk-label-container\"><div class=\"sk-label sk-toggleable\"><input class=\"sk-toggleable__control sk-hidden--visually\" id=\"sk-estimator-id-56\" type=\"checkbox\" ><label for=\"sk-estimator-id-56\" class=\"sk-toggleable__label sk-toggleable__label-arrow\">ct_scale: ColumnTransformer</label><div class=\"sk-toggleable__content\"><pre>ColumnTransformer(transformers=[(&#x27;scale&#x27;, MinMaxScaler(), slice(0, 36, None))])</pre></div></div></div><div class=\"sk-parallel\"><div class=\"sk-parallel-item\"><div class=\"sk-item\"><div class=\"sk-label-container\"><div class=\"sk-label sk-toggleable\"><input class=\"sk-toggleable__control sk-hidden--visually\" id=\"sk-estimator-id-57\" type=\"checkbox\" ><label for=\"sk-estimator-id-57\" class=\"sk-toggleable__label sk-toggleable__label-arrow\">scale</label><div class=\"sk-toggleable__content\"><pre>slice(0, 36, None)</pre></div></div></div><div class=\"sk-serial\"><div class=\"sk-item\"><div class=\"sk-estimator sk-toggleable\"><input class=\"sk-toggleable__control sk-hidden--visually\" id=\"sk-estimator-id-58\" type=\"checkbox\" ><label for=\"sk-estimator-id-58\" class=\"sk-toggleable__label sk-toggleable__label-arrow\">MinMaxScaler</label><div class=\"sk-toggleable__content\"><pre>MinMaxScaler()</pre></div></div></div></div></div></div></div></div></div></div></div></div>"
            ]
          },
          "metadata": {},
          "execution_count": 63
        }
      ]
    },
    {
      "cell_type": "code",
      "source": [
        "# Display Pipeline\n",
        "\n",
        "from sklearn import set_config\n",
        "set_config(display='diagram')"
      ],
      "metadata": {
        "id": "gme4JaswR7zZ"
      },
      "execution_count": null,
      "outputs": []
    },
    {
      "cell_type": "code",
      "source": [
        "# train\n",
        "pipe.fit(X_train,y_train)"
      ],
      "metadata": {
        "colab": {
          "base_uri": "https://localhost:8080/",
          "height": 445
        },
        "id": "T_7al9y2WJTe",
        "outputId": "a091af11-2486-4f86-d585-dd7efa927a10"
      },
      "execution_count": null,
      "outputs": [
        {
          "output_type": "stream",
          "name": "stderr",
          "text": [
            "/usr/local/lib/python3.10/dist-packages/sklearn/preprocessing/_encoders.py:868: FutureWarning: `sparse` was renamed to `sparse_output` in version 1.2 and will be removed in 1.4. `sparse_output` is ignored unless you leave `sparse` to its default value.\n",
            "  warnings.warn(\n"
          ]
        },
        {
          "output_type": "execute_result",
          "data": {
            "text/plain": [
              "Pipeline(steps=[('ct_imputation',\n",
              "                 ColumnTransformer(remainder='passthrough',\n",
              "                                   transformers=[('mean_imputer',\n",
              "                                                  SimpleImputer(),\n",
              "                                                  slice(0, 36, None)),\n",
              "                                                 ('mode_imputer',\n",
              "                                                  SimpleImputer(strategy='most_frequent'),\n",
              "                                                  slice(36, 74, None))])),\n",
              "                ('ct_ohe',\n",
              "                 ColumnTransformer(remainder='passthrough',\n",
              "                                   transformers=[('ohe_cat_columns',\n",
              "                                                  OneHotEncoder(handle_unknown='ignore',\n",
              "                                                                sparse=False),\n",
              "                                                  slice(36, 74, None))])),\n",
              "                ('ct_scale',\n",
              "                 ColumnTransformer(transformers=[('scale', MinMaxScaler(),\n",
              "                                                  slice(0, 36, None))])),\n",
              "                ('model', RandomForestRegressor(random_state=0))])"
            ],
            "text/html": [
              "<style>#sk-container-id-4 {color: black;background-color: white;}#sk-container-id-4 pre{padding: 0;}#sk-container-id-4 div.sk-toggleable {background-color: white;}#sk-container-id-4 label.sk-toggleable__label {cursor: pointer;display: block;width: 100%;margin-bottom: 0;padding: 0.3em;box-sizing: border-box;text-align: center;}#sk-container-id-4 label.sk-toggleable__label-arrow:before {content: \"▸\";float: left;margin-right: 0.25em;color: #696969;}#sk-container-id-4 label.sk-toggleable__label-arrow:hover:before {color: black;}#sk-container-id-4 div.sk-estimator:hover label.sk-toggleable__label-arrow:before {color: black;}#sk-container-id-4 div.sk-toggleable__content {max-height: 0;max-width: 0;overflow: hidden;text-align: left;background-color: #f0f8ff;}#sk-container-id-4 div.sk-toggleable__content pre {margin: 0.2em;color: black;border-radius: 0.25em;background-color: #f0f8ff;}#sk-container-id-4 input.sk-toggleable__control:checked~div.sk-toggleable__content {max-height: 200px;max-width: 100%;overflow: auto;}#sk-container-id-4 input.sk-toggleable__control:checked~label.sk-toggleable__label-arrow:before {content: \"▾\";}#sk-container-id-4 div.sk-estimator input.sk-toggleable__control:checked~label.sk-toggleable__label {background-color: #d4ebff;}#sk-container-id-4 div.sk-label input.sk-toggleable__control:checked~label.sk-toggleable__label {background-color: #d4ebff;}#sk-container-id-4 input.sk-hidden--visually {border: 0;clip: rect(1px 1px 1px 1px);clip: rect(1px, 1px, 1px, 1px);height: 1px;margin: -1px;overflow: hidden;padding: 0;position: absolute;width: 1px;}#sk-container-id-4 div.sk-estimator {font-family: monospace;background-color: #f0f8ff;border: 1px dotted black;border-radius: 0.25em;box-sizing: border-box;margin-bottom: 0.5em;}#sk-container-id-4 div.sk-estimator:hover {background-color: #d4ebff;}#sk-container-id-4 div.sk-parallel-item::after {content: \"\";width: 100%;border-bottom: 1px solid gray;flex-grow: 1;}#sk-container-id-4 div.sk-label:hover label.sk-toggleable__label {background-color: #d4ebff;}#sk-container-id-4 div.sk-serial::before {content: \"\";position: absolute;border-left: 1px solid gray;box-sizing: border-box;top: 0;bottom: 0;left: 50%;z-index: 0;}#sk-container-id-4 div.sk-serial {display: flex;flex-direction: column;align-items: center;background-color: white;padding-right: 0.2em;padding-left: 0.2em;position: relative;}#sk-container-id-4 div.sk-item {position: relative;z-index: 1;}#sk-container-id-4 div.sk-parallel {display: flex;align-items: stretch;justify-content: center;background-color: white;position: relative;}#sk-container-id-4 div.sk-item::before, #sk-container-id-4 div.sk-parallel-item::before {content: \"\";position: absolute;border-left: 1px solid gray;box-sizing: border-box;top: 0;bottom: 0;left: 50%;z-index: -1;}#sk-container-id-4 div.sk-parallel-item {display: flex;flex-direction: column;z-index: 1;position: relative;background-color: white;}#sk-container-id-4 div.sk-parallel-item:first-child::after {align-self: flex-end;width: 50%;}#sk-container-id-4 div.sk-parallel-item:last-child::after {align-self: flex-start;width: 50%;}#sk-container-id-4 div.sk-parallel-item:only-child::after {width: 0;}#sk-container-id-4 div.sk-dashed-wrapped {border: 1px dashed gray;margin: 0 0.4em 0.5em 0.4em;box-sizing: border-box;padding-bottom: 0.4em;background-color: white;}#sk-container-id-4 div.sk-label label {font-family: monospace;font-weight: bold;display: inline-block;line-height: 1.2em;}#sk-container-id-4 div.sk-label-container {text-align: center;}#sk-container-id-4 div.sk-container {/* jupyter's `normalize.less` sets `[hidden] { display: none; }` but bootstrap.min.css set `[hidden] { display: none !important; }` so we also need the `!important` here to be able to override the default hidden behavior on the sphinx rendered scikit-learn.org. See: https://github.com/scikit-learn/scikit-learn/issues/21755 */display: inline-block !important;position: relative;}#sk-container-id-4 div.sk-text-repr-fallback {display: none;}</style><div id=\"sk-container-id-4\" class=\"sk-top-container\"><div class=\"sk-text-repr-fallback\"><pre>Pipeline(steps=[(&#x27;ct_imputation&#x27;,\n",
              "                 ColumnTransformer(remainder=&#x27;passthrough&#x27;,\n",
              "                                   transformers=[(&#x27;mean_imputer&#x27;,\n",
              "                                                  SimpleImputer(),\n",
              "                                                  slice(0, 36, None)),\n",
              "                                                 (&#x27;mode_imputer&#x27;,\n",
              "                                                  SimpleImputer(strategy=&#x27;most_frequent&#x27;),\n",
              "                                                  slice(36, 74, None))])),\n",
              "                (&#x27;ct_ohe&#x27;,\n",
              "                 ColumnTransformer(remainder=&#x27;passthrough&#x27;,\n",
              "                                   transformers=[(&#x27;ohe_cat_columns&#x27;,\n",
              "                                                  OneHotEncoder(handle_unknown=&#x27;ignore&#x27;,\n",
              "                                                                sparse=False),\n",
              "                                                  slice(36, 74, None))])),\n",
              "                (&#x27;ct_scale&#x27;,\n",
              "                 ColumnTransformer(transformers=[(&#x27;scale&#x27;, MinMaxScaler(),\n",
              "                                                  slice(0, 36, None))])),\n",
              "                (&#x27;model&#x27;, RandomForestRegressor(random_state=0))])</pre><b>In a Jupyter environment, please rerun this cell to show the HTML representation or trust the notebook. <br />On GitHub, the HTML representation is unable to render, please try loading this page with nbviewer.org.</b></div><div class=\"sk-container\" hidden><div class=\"sk-item sk-dashed-wrapped\"><div class=\"sk-label-container\"><div class=\"sk-label sk-toggleable\"><input class=\"sk-toggleable__control sk-hidden--visually\" id=\"sk-estimator-id-26\" type=\"checkbox\" ><label for=\"sk-estimator-id-26\" class=\"sk-toggleable__label sk-toggleable__label-arrow\">Pipeline</label><div class=\"sk-toggleable__content\"><pre>Pipeline(steps=[(&#x27;ct_imputation&#x27;,\n",
              "                 ColumnTransformer(remainder=&#x27;passthrough&#x27;,\n",
              "                                   transformers=[(&#x27;mean_imputer&#x27;,\n",
              "                                                  SimpleImputer(),\n",
              "                                                  slice(0, 36, None)),\n",
              "                                                 (&#x27;mode_imputer&#x27;,\n",
              "                                                  SimpleImputer(strategy=&#x27;most_frequent&#x27;),\n",
              "                                                  slice(36, 74, None))])),\n",
              "                (&#x27;ct_ohe&#x27;,\n",
              "                 ColumnTransformer(remainder=&#x27;passthrough&#x27;,\n",
              "                                   transformers=[(&#x27;ohe_cat_columns&#x27;,\n",
              "                                                  OneHotEncoder(handle_unknown=&#x27;ignore&#x27;,\n",
              "                                                                sparse=False),\n",
              "                                                  slice(36, 74, None))])),\n",
              "                (&#x27;ct_scale&#x27;,\n",
              "                 ColumnTransformer(transformers=[(&#x27;scale&#x27;, MinMaxScaler(),\n",
              "                                                  slice(0, 36, None))])),\n",
              "                (&#x27;model&#x27;, RandomForestRegressor(random_state=0))])</pre></div></div></div><div class=\"sk-serial\"><div class=\"sk-item sk-dashed-wrapped\"><div class=\"sk-label-container\"><div class=\"sk-label sk-toggleable\"><input class=\"sk-toggleable__control sk-hidden--visually\" id=\"sk-estimator-id-27\" type=\"checkbox\" ><label for=\"sk-estimator-id-27\" class=\"sk-toggleable__label sk-toggleable__label-arrow\">ct_imputation: ColumnTransformer</label><div class=\"sk-toggleable__content\"><pre>ColumnTransformer(remainder=&#x27;passthrough&#x27;,\n",
              "                  transformers=[(&#x27;mean_imputer&#x27;, SimpleImputer(),\n",
              "                                 slice(0, 36, None)),\n",
              "                                (&#x27;mode_imputer&#x27;,\n",
              "                                 SimpleImputer(strategy=&#x27;most_frequent&#x27;),\n",
              "                                 slice(36, 74, None))])</pre></div></div></div><div class=\"sk-parallel\"><div class=\"sk-parallel-item\"><div class=\"sk-item\"><div class=\"sk-label-container\"><div class=\"sk-label sk-toggleable\"><input class=\"sk-toggleable__control sk-hidden--visually\" id=\"sk-estimator-id-28\" type=\"checkbox\" ><label for=\"sk-estimator-id-28\" class=\"sk-toggleable__label sk-toggleable__label-arrow\">mean_imputer</label><div class=\"sk-toggleable__content\"><pre>slice(0, 36, None)</pre></div></div></div><div class=\"sk-serial\"><div class=\"sk-item\"><div class=\"sk-estimator sk-toggleable\"><input class=\"sk-toggleable__control sk-hidden--visually\" id=\"sk-estimator-id-29\" type=\"checkbox\" ><label for=\"sk-estimator-id-29\" class=\"sk-toggleable__label sk-toggleable__label-arrow\">SimpleImputer</label><div class=\"sk-toggleable__content\"><pre>SimpleImputer()</pre></div></div></div></div></div></div><div class=\"sk-parallel-item\"><div class=\"sk-item\"><div class=\"sk-label-container\"><div class=\"sk-label sk-toggleable\"><input class=\"sk-toggleable__control sk-hidden--visually\" id=\"sk-estimator-id-30\" type=\"checkbox\" ><label for=\"sk-estimator-id-30\" class=\"sk-toggleable__label sk-toggleable__label-arrow\">mode_imputer</label><div class=\"sk-toggleable__content\"><pre>slice(36, 74, None)</pre></div></div></div><div class=\"sk-serial\"><div class=\"sk-item\"><div class=\"sk-estimator sk-toggleable\"><input class=\"sk-toggleable__control sk-hidden--visually\" id=\"sk-estimator-id-31\" type=\"checkbox\" ><label for=\"sk-estimator-id-31\" class=\"sk-toggleable__label sk-toggleable__label-arrow\">SimpleImputer</label><div class=\"sk-toggleable__content\"><pre>SimpleImputer(strategy=&#x27;most_frequent&#x27;)</pre></div></div></div></div></div></div><div class=\"sk-parallel-item\"><div class=\"sk-item\"><div class=\"sk-label-container\"><div class=\"sk-label sk-toggleable\"><input class=\"sk-toggleable__control sk-hidden--visually\" id=\"sk-estimator-id-32\" type=\"checkbox\" ><label for=\"sk-estimator-id-32\" class=\"sk-toggleable__label sk-toggleable__label-arrow\">remainder</label><div class=\"sk-toggleable__content\"><pre>[]</pre></div></div></div><div class=\"sk-serial\"><div class=\"sk-item\"><div class=\"sk-estimator sk-toggleable\"><input class=\"sk-toggleable__control sk-hidden--visually\" id=\"sk-estimator-id-33\" type=\"checkbox\" ><label for=\"sk-estimator-id-33\" class=\"sk-toggleable__label sk-toggleable__label-arrow\">passthrough</label><div class=\"sk-toggleable__content\"><pre>passthrough</pre></div></div></div></div></div></div></div></div><div class=\"sk-item sk-dashed-wrapped\"><div class=\"sk-label-container\"><div class=\"sk-label sk-toggleable\"><input class=\"sk-toggleable__control sk-hidden--visually\" id=\"sk-estimator-id-34\" type=\"checkbox\" ><label for=\"sk-estimator-id-34\" class=\"sk-toggleable__label sk-toggleable__label-arrow\">ct_ohe: ColumnTransformer</label><div class=\"sk-toggleable__content\"><pre>ColumnTransformer(remainder=&#x27;passthrough&#x27;,\n",
              "                  transformers=[(&#x27;ohe_cat_columns&#x27;,\n",
              "                                 OneHotEncoder(handle_unknown=&#x27;ignore&#x27;,\n",
              "                                               sparse=False),\n",
              "                                 slice(36, 74, None))])</pre></div></div></div><div class=\"sk-parallel\"><div class=\"sk-parallel-item\"><div class=\"sk-item\"><div class=\"sk-label-container\"><div class=\"sk-label sk-toggleable\"><input class=\"sk-toggleable__control sk-hidden--visually\" id=\"sk-estimator-id-35\" type=\"checkbox\" ><label for=\"sk-estimator-id-35\" class=\"sk-toggleable__label sk-toggleable__label-arrow\">ohe_cat_columns</label><div class=\"sk-toggleable__content\"><pre>slice(36, 74, None)</pre></div></div></div><div class=\"sk-serial\"><div class=\"sk-item\"><div class=\"sk-estimator sk-toggleable\"><input class=\"sk-toggleable__control sk-hidden--visually\" id=\"sk-estimator-id-36\" type=\"checkbox\" ><label for=\"sk-estimator-id-36\" class=\"sk-toggleable__label sk-toggleable__label-arrow\">OneHotEncoder</label><div class=\"sk-toggleable__content\"><pre>OneHotEncoder(handle_unknown=&#x27;ignore&#x27;, sparse=False)</pre></div></div></div></div></div></div><div class=\"sk-parallel-item\"><div class=\"sk-item\"><div class=\"sk-label-container\"><div class=\"sk-label sk-toggleable\"><input class=\"sk-toggleable__control sk-hidden--visually\" id=\"sk-estimator-id-37\" type=\"checkbox\" ><label for=\"sk-estimator-id-37\" class=\"sk-toggleable__label sk-toggleable__label-arrow\">remainder</label><div class=\"sk-toggleable__content\"><pre>[0, 1, 2, 3, 4, 5, 6, 7, 8, 9, 10, 11, 12, 13, 14, 15, 16, 17, 18, 19, 20, 21, 22, 23, 24, 25, 26, 27, 28, 29, 30, 31, 32, 33, 34, 35]</pre></div></div></div><div class=\"sk-serial\"><div class=\"sk-item\"><div class=\"sk-estimator sk-toggleable\"><input class=\"sk-toggleable__control sk-hidden--visually\" id=\"sk-estimator-id-38\" type=\"checkbox\" ><label for=\"sk-estimator-id-38\" class=\"sk-toggleable__label sk-toggleable__label-arrow\">passthrough</label><div class=\"sk-toggleable__content\"><pre>passthrough</pre></div></div></div></div></div></div></div></div><div class=\"sk-item sk-dashed-wrapped\"><div class=\"sk-label-container\"><div class=\"sk-label sk-toggleable\"><input class=\"sk-toggleable__control sk-hidden--visually\" id=\"sk-estimator-id-39\" type=\"checkbox\" ><label for=\"sk-estimator-id-39\" class=\"sk-toggleable__label sk-toggleable__label-arrow\">ct_scale: ColumnTransformer</label><div class=\"sk-toggleable__content\"><pre>ColumnTransformer(transformers=[(&#x27;scale&#x27;, MinMaxScaler(), slice(0, 36, None))])</pre></div></div></div><div class=\"sk-parallel\"><div class=\"sk-parallel-item\"><div class=\"sk-item\"><div class=\"sk-label-container\"><div class=\"sk-label sk-toggleable\"><input class=\"sk-toggleable__control sk-hidden--visually\" id=\"sk-estimator-id-40\" type=\"checkbox\" ><label for=\"sk-estimator-id-40\" class=\"sk-toggleable__label sk-toggleable__label-arrow\">scale</label><div class=\"sk-toggleable__content\"><pre>slice(0, 36, None)</pre></div></div></div><div class=\"sk-serial\"><div class=\"sk-item\"><div class=\"sk-estimator sk-toggleable\"><input class=\"sk-toggleable__control sk-hidden--visually\" id=\"sk-estimator-id-41\" type=\"checkbox\" ><label for=\"sk-estimator-id-41\" class=\"sk-toggleable__label sk-toggleable__label-arrow\">MinMaxScaler</label><div class=\"sk-toggleable__content\"><pre>MinMaxScaler()</pre></div></div></div></div></div></div></div></div><div class=\"sk-item\"><div class=\"sk-estimator sk-toggleable\"><input class=\"sk-toggleable__control sk-hidden--visually\" id=\"sk-estimator-id-42\" type=\"checkbox\" ><label for=\"sk-estimator-id-42\" class=\"sk-toggleable__label sk-toggleable__label-arrow\">RandomForestRegressor</label><div class=\"sk-toggleable__content\"><pre>RandomForestRegressor(random_state=0)</pre></div></div></div></div></div></div></div>"
            ]
          },
          "metadata": {},
          "execution_count": 56
        }
      ]
    },
    {
      "cell_type": "code",
      "source": [
        "# Predict\n",
        "preds = pipe.predict(X_valid)"
      ],
      "metadata": {
        "id": "kXpjZNbSWXG9"
      },
      "execution_count": null,
      "outputs": []
    },
    {
      "cell_type": "code",
      "source": [
        "y_valid"
      ],
      "metadata": {
        "colab": {
          "base_uri": "https://localhost:8080/"
        },
        "id": "NGsd_hQDbczj",
        "outputId": "de88482a-ac39-4ebc-de69-f0b804f233ee"
      },
      "execution_count": null,
      "outputs": [
        {
          "output_type": "execute_result",
          "data": {
            "text/plain": [
              "529     200624\n",
              "491     133000\n",
              "459     110000\n",
              "279     192000\n",
              "655      88000\n",
              "         ...  \n",
              "326     324000\n",
              "440     555000\n",
              "1387    136000\n",
              "1323     82500\n",
              "61      101000\n",
              "Name: SalePrice, Length: 292, dtype: int64"
            ]
          },
          "metadata": {},
          "execution_count": 58
        }
      ]
    },
    {
      "cell_type": "code",
      "source": [
        "mean_absolute_error(y_valid, preds)"
      ],
      "metadata": {
        "colab": {
          "base_uri": "https://localhost:8080/"
        },
        "id": "ZpV7tdWQWpP4",
        "outputId": "59d514bd-3154-4e9c-890d-a933bbe9a37c"
      },
      "execution_count": null,
      "outputs": [
        {
          "output_type": "execute_result",
          "data": {
            "text/plain": [
              "43332.52790480591"
            ]
          },
          "metadata": {},
          "execution_count": 59
        }
      ]
    },
    {
      "cell_type": "code",
      "source": [
        "pipe.fit_transform(X_train)"
      ],
      "metadata": {
        "colab": {
          "base_uri": "https://localhost:8080/"
        },
        "id": "bkqMqohaZF-k",
        "outputId": "571c8bb0-e90c-4ede-f4fe-82a71d899984"
      },
      "execution_count": null,
      "outputs": [
        {
          "output_type": "stream",
          "name": "stderr",
          "text": [
            "/usr/local/lib/python3.10/dist-packages/sklearn/preprocessing/_encoders.py:868: FutureWarning: `sparse` was renamed to `sparse_output` in version 1.2 and will be removed in 1.4. `sparse_output` is ignored unless you leave `sparse` to its default value.\n",
            "  warnings.warn(\n"
          ]
        },
        {
          "output_type": "execute_result",
          "data": {
            "text/plain": [
              "array([[0., 1., 0., ..., 0., 0., 0.],\n",
              "       [0., 0., 0., ..., 0., 1., 0.],\n",
              "       [0., 0., 0., ..., 0., 0., 0.],\n",
              "       ...,\n",
              "       [0., 1., 0., ..., 0., 1., 0.],\n",
              "       [0., 1., 0., ..., 0., 1., 0.],\n",
              "       [0., 1., 0., ..., 0., 1., 0.]])"
            ]
          },
          "metadata": {},
          "execution_count": 64
        }
      ]
    },
    {
      "cell_type": "code",
      "source": [
        "pipe.transform(X_valid)"
      ],
      "metadata": {
        "colab": {
          "base_uri": "https://localhost:8080/"
        },
        "id": "bAHA9bF7YAcW",
        "outputId": "4ca923c8-9ff8-45e5-d982-75ec115dc255"
      },
      "execution_count": null,
      "outputs": [
        {
          "output_type": "execute_result",
          "data": {
            "text/plain": [
              "array([[0., 1., 0., ..., 1., 0., 0.],\n",
              "       [0., 1., 0., ..., 0., 0., 0.],\n",
              "       [0., 0., 0., ..., 0., 0., 0.],\n",
              "       ...,\n",
              "       [0., 0., 0., ..., 1., 0., 0.],\n",
              "       [0., 1., 0., ..., 0., 0., 0.],\n",
              "       [0., 0., 0., ..., 0., 1., 1.]])"
            ]
          },
          "metadata": {},
          "execution_count": 65
        }
      ]
    },
    {
      "cell_type": "code",
      "source": [],
      "metadata": {
        "id": "YGGMuJ0IZWtJ"
      },
      "execution_count": null,
      "outputs": []
    }
  ]
}