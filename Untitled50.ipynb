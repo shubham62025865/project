{
  "nbformat": 4,
  "nbformat_minor": 0,
  "metadata": {
    "colab": {
      "provenance": [],
      "authorship_tag": "ABX9TyNVQ5c3/rG/s36KmCSuY4B2",
      "include_colab_link": true
    },
    "kernelspec": {
      "name": "python3",
      "display_name": "Python 3"
    },
    "language_info": {
      "name": "python"
    }
  },
  "cells": [
    {
      "cell_type": "markdown",
      "metadata": {
        "id": "view-in-github",
        "colab_type": "text"
      },
      "source": [
        "<a href=\"https://colab.research.google.com/github/shubham62025865/project/blob/main/Untitled50.ipynb\" target=\"_parent\"><img src=\"https://colab.research.google.com/assets/colab-badge.svg\" alt=\"Open In Colab\"/></a>"
      ]
    },
    {
      "cell_type": "code",
      "execution_count": null,
      "metadata": {
        "id": "G3m_MbRK3aLA"
      },
      "outputs": [],
      "source": [
        "qustion 1-A"
      ]
    },
    {
      "cell_type": "code",
      "source": [
        "question 2-A"
      ],
      "metadata": {
        "id": "Bq4us0NH4uOd"
      },
      "execution_count": null,
      "outputs": []
    },
    {
      "cell_type": "code",
      "source": [
        "question no 3-A"
      ],
      "metadata": {
        "id": "zo2hgTFA5Niz"
      },
      "execution_count": null,
      "outputs": []
    },
    {
      "cell_type": "code",
      "source": [
        "question 4-B"
      ],
      "metadata": {
        "id": "0sqECvQx5was"
      },
      "execution_count": null,
      "outputs": []
    },
    {
      "cell_type": "code",
      "source": [
        "question 5-A"
      ],
      "metadata": {
        "id": "W6QsbTxo6YpY"
      },
      "execution_count": null,
      "outputs": []
    },
    {
      "cell_type": "code",
      "source": [
        "question no 6-C"
      ],
      "metadata": {
        "id": "EXY06HbX6xxk"
      },
      "execution_count": null,
      "outputs": []
    },
    {
      "cell_type": "code",
      "source": [
        "question no 7-B"
      ],
      "metadata": {
        "id": "5_8Yv7rD610r"
      },
      "execution_count": null,
      "outputs": []
    },
    {
      "cell_type": "code",
      "source": [
        "question 8-A"
      ],
      "metadata": {
        "id": "mkT3Bj3F7Mxz"
      },
      "execution_count": null,
      "outputs": []
    },
    {
      "cell_type": "code",
      "source": [
        "question 9-C"
      ],
      "metadata": {
        "id": "VdS7hhJL7rHW"
      },
      "execution_count": null,
      "outputs": []
    },
    {
      "cell_type": "code",
      "source": [
        "question 10-D"
      ],
      "metadata": {
        "id": "SuPd_P5z7t5g"
      },
      "execution_count": null,
      "outputs": []
    },
    {
      "cell_type": "code",
      "source": [
        "question 11-B"
      ],
      "metadata": {
        "id": "UpKWe73D8JfH"
      },
      "execution_count": null,
      "outputs": []
    },
    {
      "cell_type": "code",
      "source": [
        "question 12-B"
      ],
      "metadata": {
        "id": "dO7MpruX8vqK"
      },
      "execution_count": null,
      "outputs": []
    },
    {
      "cell_type": "code",
      "source": [
        "question 13-B"
      ],
      "metadata": {
        "id": "Kt5xMt258x7Q"
      },
      "execution_count": null,
      "outputs": []
    },
    {
      "cell_type": "code",
      "source": [
        "question 14-A"
      ],
      "metadata": {
        "id": "ZBgBSU219J-u"
      },
      "execution_count": null,
      "outputs": []
    },
    {
      "cell_type": "code",
      "source": [
        "question 15-D"
      ],
      "metadata": {
        "id": "IhI1qnUo-hWA"
      },
      "execution_count": null,
      "outputs": []
    },
    {
      "cell_type": "code",
      "source": [
        "question 16-B"
      ],
      "metadata": {
        "id": "KZC-j1Jh-0z3"
      },
      "execution_count": null,
      "outputs": []
    },
    {
      "cell_type": "code",
      "source": [
        "question 17-A"
      ],
      "metadata": {
        "id": "rcz3LrBR_OFw"
      },
      "execution_count": null,
      "outputs": []
    },
    {
      "cell_type": "code",
      "source": [
        "question 18-A"
      ],
      "metadata": {
        "id": "sSHZYamU_qc9"
      },
      "execution_count": null,
      "outputs": []
    },
    {
      "cell_type": "code",
      "source": [
        "question 19-C"
      ],
      "metadata": {
        "id": "lF4XtfTnAKEZ"
      },
      "execution_count": null,
      "outputs": []
    },
    {
      "cell_type": "code",
      "source": [
        "question 20-B"
      ],
      "metadata": {
        "id": "m0KpH3_GAVtk"
      },
      "execution_count": null,
      "outputs": []
    },
    {
      "cell_type": "code",
      "source": [
        "question 21-A"
      ],
      "metadata": {
        "id": "oRUgcUKLAkWj"
      },
      "execution_count": null,
      "outputs": []
    },
    {
      "cell_type": "code",
      "source": [
        "question 22-B"
      ],
      "metadata": {
        "id": "6jtJWP0zBA9_"
      },
      "execution_count": null,
      "outputs": []
    },
    {
      "cell_type": "code",
      "source": [
        "question 23-A"
      ],
      "metadata": {
        "id": "s9bqg8_7BPV3"
      },
      "execution_count": null,
      "outputs": []
    },
    {
      "cell_type": "code",
      "source": [
        "question 24-A"
      ],
      "metadata": {
        "id": "dJFCPgz4BXcY"
      },
      "execution_count": null,
      "outputs": []
    },
    {
      "cell_type": "code",
      "source": [
        "question 25-C"
      ],
      "metadata": {
        "id": "7fnjaKj_B_2D"
      },
      "execution_count": null,
      "outputs": []
    },
    {
      "cell_type": "code",
      "source": [
        "question 26-A"
      ],
      "metadata": {
        "id": "bCjWqb8TCSSm"
      },
      "execution_count": null,
      "outputs": []
    },
    {
      "cell_type": "code",
      "source": [
        "# problem 1\n",
        "def calculate_performance(employees):\n",
        "    evaluated_employees = []\n",
        "\n",
        "    for employee in employees:\n",
        "        name = employee['name']\n",
        "        scores = employee['scores']\n",
        "        weights = employee['weights']\n",
        "\n",
        "        performance_score = sum(scores[criterion] * weights[criterion] for criterion in scores)\n",
        "\n",
        "        evaluated_employee = {\n",
        "            'name': name,\n",
        "            'performance_score': performance_score\n",
        "        }\n",
        "\n",
        "        evaluated_employees.append(evaluated_employee)\n",
        "\n",
        "    return evaluated_employees\n"
      ],
      "metadata": {
        "id": "9q1EjoIvDde4"
      },
      "execution_count": 1,
      "outputs": []
    },
    {
      "cell_type": "code",
      "source": [
        "# Sample input\n",
        "employees = [\n",
        "    {\n",
        "        'name': 'John',\n",
        "        'scores': {'Quality of Work': 90, 'Team Collaboration': 80},\n",
        "        'weights': {'Quality of Work': 0.6, 'Team Collaboration': 0.4}\n",
        "    },\n",
        "    {\n",
        "        'name': 'Alice',\n",
        "        'scores': {'Quality of Work': 85, 'Team Collaboration': 90},\n",
        "        'weights': {'Quality of Work': 0.5, 'Team Collaboration': 0.5}\n",
        "    },\n",
        "    # Add more employee entries as needed\n",
        "]\n",
        "\n",
        "evaluated_employees = calculate_performance(employees)\n",
        "\n",
        "for employee in evaluated_employees:\n",
        "    print(f\"{employee['name']}: Performance Score = {employee['performance_score']}\")\n"
      ],
      "metadata": {
        "colab": {
          "base_uri": "https://localhost:8080/"
        },
        "id": "oyzjmkOgDpsV",
        "outputId": "3e0b0b8d-db91-40fa-f21e-2cc0cbac8db6"
      },
      "execution_count": 2,
      "outputs": [
        {
          "output_type": "stream",
          "name": "stdout",
          "text": [
            "John: Performance Score = 86.0\n",
            "Alice: Performance Score = 87.5\n"
          ]
        }
      ]
    },
    {
      "cell_type": "code",
      "source": [
        "#problem no-2\n",
        "def calculate_final_grades(N, M, marks):\n",
        "    # Initialize a list to store the average scores for each subject\n",
        "    subject_averages = [sum(marks[i][j] for i in range(N)) / N for j in range(M)]\n",
        "\n",
        "    # Find the index of the subject with the lowest average score\n",
        "    lowest_avg_subject_index = subject_averages.index(min(subject_averages))\n",
        "\n",
        "    # Calculate the total score for each student after deducting the lowest average subject score\n",
        "    final_scores = []\n",
        "    for i in range(N):\n",
        "        total_score = sum(marks[i])\n",
        "        total_score -= marks[i][lowest_avg_subject_index]\n",
        "        final_scores.append(total_score)\n",
        "\n",
        "    return final_scores\n"
      ],
      "metadata": {
        "id": "yqpHh3HyFTeU"
      },
      "execution_count": 3,
      "outputs": []
    },
    {
      "cell_type": "code",
      "source": [
        "# Sample input\n",
        "N = 3\n",
        "M = 4\n",
        "marks = [\n",
        "    [90, 85, 80, 75],\n",
        "    [70, 75, 85, 90],\n",
        "    [80, 90, 70, 75]\n",
        "]\n",
        "\n",
        "final_grades = calculate_final_grades(N, M, marks)\n",
        "\n",
        "for i in range(N):\n",
        "    print(f\"Student {i + 1}: Final Grade = {final_grades[i]}\")\n"
      ],
      "metadata": {
        "colab": {
          "base_uri": "https://localhost:8080/"
        },
        "id": "y8cFvlh_FelQ",
        "outputId": "97f6db3d-b132-4aa5-c6f1-5c703853ac93"
      },
      "execution_count": 5,
      "outputs": [
        {
          "output_type": "stream",
          "name": "stdout",
          "text": [
            "Student 1: Final Grade = 250\n",
            "Student 2: Final Grade = 235\n",
            "Student 3: Final Grade = 245\n"
          ]
        }
      ]
    },
    {
      "cell_type": "code",
      "source": [
        "#problem -3\n",
        "def sort_employees_by_id(employees):\n",
        "    # Sort the employees list by 'id' in ascending order\n",
        "    sorted_employees = sorted(employees, key=lambda x: x['id'])\n",
        "    return sorted_employees\n",
        "\n",
        "def sort_employees_by_salary(employees):\n",
        "    # Sort the employees list by 'salary' in descending order\n",
        "    sorted_employees = sorted(employees, key=lambda x: x['salary'], reverse=True)\n",
        "    return sorted_employees\n"
      ],
      "metadata": {
        "id": "Gx3eYE6GG_X1"
      },
      "execution_count": 6,
      "outputs": []
    },
    {
      "cell_type": "code",
      "source": [
        "# Sample input\n",
        "employees = [\n",
        "    {\"id\": 101, \"name\": \"John\", \"salary\": 60000},\n",
        "    {\"id\": 103, \"name\": \"Alice\", \"salary\": 75000},\n",
        "    {\"id\": 102, \"name\": \"Bob\", \"salary\": 65000},\n",
        "    # Add more employee records here...\n",
        "]\n",
        "\n",
        "# Sort employees by ID\n",
        "sorted_by_id = sort_employees_by_id(employees)\n",
        "for employee in sorted_by_id:\n",
        "    print(employee)\n",
        "\n",
        "# Sort employees by salary\n",
        "sorted_by_salary = sort_employees_by_salary(employees)\n",
        "for employee in sorted_by_salary:\n",
        "    print(employee)\n"
      ],
      "metadata": {
        "colab": {
          "base_uri": "https://localhost:8080/"
        },
        "id": "lT6OAgsFHHWK",
        "outputId": "0bee3676-4311-4531-e0c3-fdb542d7a980"
      },
      "execution_count": 7,
      "outputs": [
        {
          "output_type": "stream",
          "name": "stdout",
          "text": [
            "{'id': 101, 'name': 'John', 'salary': 60000}\n",
            "{'id': 102, 'name': 'Bob', 'salary': 65000}\n",
            "{'id': 103, 'name': 'Alice', 'salary': 75000}\n",
            "{'id': 103, 'name': 'Alice', 'salary': 75000}\n",
            "{'id': 102, 'name': 'Bob', 'salary': 65000}\n",
            "{'id': 101, 'name': 'John', 'salary': 60000}\n"
          ]
        }
      ]
    },
    {
      "cell_type": "code",
      "source": [
        "#problem 4\n",
        "def find_kth_prime_product(N, prime_numbers, K):\n",
        "\n",
        "    generated_numbers = [1]\n",
        "\n",
        "\n",
        "    current_indices = [0] * N\n",
        "\n",
        "\n",
        "    while len(generated_numbers) < K:\n",
        "\n",
        "        min_product = min(prime_numbers[i] * generated_numbers[current_indices[i]] for i in range(N))\n",
        "\n",
        "        # Add the minimum product to the generated numbers list\n",
        "        generated_numbers.append(min_product)\n",
        "\n",
        "        # Update the indices of the prime numbers used for the minimum product\n",
        "        for i in range(N):\n",
        "            if prime_numbers[i] * generated_numbers[current_indices[i]] == min_product:\n",
        "                current_indices[i] += 1\n",
        "\n",
        "    # The Kth number is the last number in the generated_numbers list\n",
        "    return generated_numbers[K - 1]\n"
      ],
      "metadata": {
        "id": "aKAkEO4tH_cj"
      },
      "execution_count": 8,
      "outputs": []
    },
    {
      "cell_type": "code",
      "source": [
        "# Sample input\n",
        "N = 3  # Number of prime numbers\n",
        "prime_numbers = [2, 3, 5]  # Dylan's collection of prime numbers\n",
        "K = 4  # Find the 4th number Dylan can create\n",
        "\n",
        "# Find the Kth number\n",
        "result = find_kth_prime_product(N, prime_numbers, K)\n",
        "print(result)  # Output: 10 (since 2 * 5 = 10)\n"
      ],
      "metadata": {
        "colab": {
          "base_uri": "https://localhost:8080/"
        },
        "id": "lgR3WY2sIaK7",
        "outputId": "e2292ef1-6983-4130-fe9b-92ec0897e4d0"
      },
      "execution_count": 9,
      "outputs": [
        {
          "output_type": "stream",
          "name": "stdout",
          "text": [
            "4\n"
          ]
        }
      ]
    },
    {
      "cell_type": "code",
      "source": [
        "#problem- 7\n",
        "def longest_common_subsequence(s1, s2):\n",
        "    m, n = len(s1), len(s2)\n",
        "\n",
        "    # Create a 2D table to store the length of the longest common subsequence\n",
        "    dp = [[0] * (n + 1) for _ in range(m + 1)]\n",
        "\n",
        "    # Fill the table using dynamic programming\n",
        "    for i in range(1, m + 1):\n",
        "        for j in range(1, n + 1):\n",
        "            if s1[i - 1] == s2[j - 1]:\n",
        "                dp[i][j] = dp[i - 1][j - 1] + 1\n",
        "            else:\n",
        "                dp[i][j] = max(dp[i - 1][j], dp[i][j - 1])\n",
        "\n",
        "    # The value in the bottom-right corner of the table contains the length of the longest common subsequence\n",
        "    return dp[m][n]\n",
        "\n",
        "# Example usage:\n",
        "s1 = \"AGGTAB\"\n",
        "s2 = \"GXTXAYB\"\n",
        "result = longest_common_subsequence(s1, s2)\n",
        "print(result)  # Output: 4 (longest common subsequence is \"GTAB\")\n"
      ],
      "metadata": {
        "colab": {
          "base_uri": "https://localhost:8080/"
        },
        "id": "MUHW1vAXJVDe",
        "outputId": "b45b1327-6bac-46ba-9269-f7d1e257a1b1"
      },
      "execution_count": 10,
      "outputs": [
        {
          "output_type": "stream",
          "name": "stdout",
          "text": [
            "4\n"
          ]
        }
      ]
    },
    {
      "cell_type": "code",
      "source": [
        "#problem -8\n",
        "\n",
        "def spiral_order(matrix):\n",
        "    if not matrix:\n",
        "        return []\n",
        "\n",
        "    result = []\n",
        "    row_start, row_end, col_start, col_end = 0, len(matrix) - 1, 0, len(matrix[0]) - 1\n",
        "\n",
        "    while row_start <= row_end and col_start <= col_end:\n",
        "        # Traverse right\n",
        "        for j in range(col_start, col_end + 1):\n",
        "            result.append(matrix[row_start][j])\n",
        "        row_start += 1\n",
        "\n",
        "        # Traverse down\n",
        "        for i in range(row_start, row_end + 1):\n",
        "            result.append(matrix[i][col_end])\n",
        "        col_end -= 1\n",
        "\n",
        "        # Traverse left (if necessary)\n",
        "        if row_start <= row_end:\n",
        "            for j in range(col_end, col_start - 1, -1):\n",
        "                result.append(matrix[row_end][j])\n",
        "            row_end -= 1\n",
        "\n",
        "        # Traverse up (if necessary)\n",
        "        if col_start <= col_end:\n",
        "            for i in range(row_end, row_start - 1, -1):\n",
        "                result.append(matrix[i][col_start])\n",
        "            col_start += 1\n",
        "\n",
        "    return result\n",
        "\n",
        "# Example usage:\n",
        "matrix = [\n",
        "    [1, 2, 3],\n",
        "    [4, 5, 6],\n",
        "    [7, 8, 9]\n",
        "]\n",
        "result = spiral_order(matrix)\n",
        "print(result)  # Output: [1, 2, 3, 6, 9, 8, 7, 4, 5]\n"
      ],
      "metadata": {
        "colab": {
          "base_uri": "https://localhost:8080/"
        },
        "id": "QXkjkVcqJ_YB",
        "outputId": "a4f04a58-af67-411a-d522-4d739defd9a7"
      },
      "execution_count": 11,
      "outputs": [
        {
          "output_type": "stream",
          "name": "stdout",
          "text": [
            "[1, 2, 3, 6, 9, 8, 7, 4, 5]\n"
          ]
        }
      ]
    },
    {
      "cell_type": "code",
      "source": [
        "#problem - 9\n",
        "def is_valid(board, row, col, num):\n",
        "    # Check if 'num' is already present in the row\n",
        "    if num in board[row]:\n",
        "        return False\n",
        "\n",
        "    # Check if 'num' is already present in the column\n",
        "    if num in [board[i][col] for i in range(9)]:\n",
        "        return False\n",
        "\n",
        "    # Check if 'num' is already present in the 3x3 subgrid\n",
        "    subgrid_row, subgrid_col = 3 * (row // 3), 3 * (col // 3)\n",
        "    for i in range(subgrid_row, subgrid_row + 3):\n",
        "        for j in range(subgrid_col, subgrid_col + 3):\n",
        "            if board[i][j] == num:\n",
        "                return False\n",
        "\n",
        "    return True\n",
        "\n",
        "def solve_sudoku(board):\n",
        "    for row in range(9):\n",
        "        for col in range(9):\n",
        "            if board[row][col] == 0:\n",
        "                for num in range(1, 10):\n",
        "                    if is_valid(board, row, col, num):\n",
        "                        board[row][col] = num\n",
        "                        if solve_sudoku(board):\n",
        "                            return True\n",
        "                        board[row][col] = 0  # Backtrack\n",
        "                return False\n",
        "    return True\n",
        "\n",
        "# Example usage:\n",
        "sudoku_board = [\n",
        "    [5, 3, 0, 0, 7, 0, 0, 0, 0],\n",
        "    [6, 0, 0, 1, 9, 5, 0, 0, 0],\n",
        "    [0, 9, 8, 0, 0, 0, 0, 6, 0],\n",
        "    [8, 0, 0, 0, 6, 0, 0, 0, 3],\n",
        "    [4, 0, 0, 8, 0, 3, 0, 0, 1],\n",
        "    [7, 0, 0, 0, 2, 0, 0, 0, 6],\n",
        "    [0, 6, 0, 0, 0, 0, 2, 8, 0],\n",
        "    [0, 0, 0, 4, 1, 9, 0, 0, 5],\n",
        "    [0, 0, 0, 0, 8, 0, 0, 7, 9]\n",
        "]\n",
        "\n",
        "solve_sudoku(sudoku_board)\n",
        "\n",
        "# Print the solved Sudoku puzzle\n",
        "for row in sudoku_board:\n",
        "    print(row)\n"
      ],
      "metadata": {
        "colab": {
          "base_uri": "https://localhost:8080/"
        },
        "id": "L5e7utbQKrBD",
        "outputId": "28c9ef0c-6156-4cf5-aa19-1245bf41e7aa"
      },
      "execution_count": 12,
      "outputs": [
        {
          "output_type": "stream",
          "name": "stdout",
          "text": [
            "[5, 3, 4, 6, 7, 8, 9, 1, 2]\n",
            "[6, 7, 2, 1, 9, 5, 3, 4, 8]\n",
            "[1, 9, 8, 3, 4, 2, 5, 6, 7]\n",
            "[8, 5, 9, 7, 6, 1, 4, 2, 3]\n",
            "[4, 2, 6, 8, 5, 3, 7, 9, 1]\n",
            "[7, 1, 3, 9, 2, 4, 8, 5, 6]\n",
            "[9, 6, 1, 5, 3, 7, 2, 8, 4]\n",
            "[2, 8, 7, 4, 1, 9, 6, 3, 5]\n",
            "[3, 4, 5, 2, 8, 6, 1, 7, 9]\n"
          ]
        }
      ]
    }
  ]
}